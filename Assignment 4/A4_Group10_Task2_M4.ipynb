{
 "cells": [
  {
   "cell_type": "code",
   "execution_count": 18,
   "metadata": {},
   "outputs": [],
   "source": [
    "import pickle\n",
    "import numpy as np\n",
    "import pandas as pd\n",
    "\n",
    "# Load these embeddings from the pickle files\n",
    "train_embeddings_file = \"train_embeddings.pkl\"\n",
    "val_embeddings_file = \"val_embeddings.pkl\"\n",
    "\n",
    "train_embeddings_loaded = pickle.load(open(train_embeddings_file, \"rb\"))\n",
    "val_embeddings_loaded = pickle.load(open(val_embeddings_file, \"rb\"))"
   ]
  },
  {
   "cell_type": "code",
   "execution_count": 19,
   "metadata": {},
   "outputs": [],
   "source": [
    "# Load the labels from the pickle files\n",
    "task2_train_labels = \"task2_labels_train.pkl\"\n",
    "task2_val_labels = \"task2_labels_dev.pkl\"\n",
    "\n",
    "task2_train_labels_loaded = pickle.load(open(task2_train_labels, \"rb\"))\n",
    "task2_val_labels_loaded = pickle.load(open(task2_val_labels, \"rb\"))"
   ]
  },
  {
   "cell_type": "code",
   "execution_count": 20,
   "metadata": {},
   "outputs": [],
   "source": [
    "# # For each key, pad the embeddings and labels to the maximum length of 24\n",
    "# # Pad the embeddings with zeros and the labels with -1\n",
    "# max_length = 24\n",
    "\n",
    "# for key in train_embeddings_loaded.keys():\n",
    "#     if len(train_embeddings_loaded[key]) < max_length:\n",
    "#         train_embeddings_loaded[key] = np.concatenate((train_embeddings_loaded[key], np.zeros((max_length - len(train_embeddings_loaded[key]), 384))))\n",
    "#         task1_train_labels_loaded[key] = np.concatenate((task1_train_labels_loaded[key], np.full((max_length - len(task1_train_labels_loaded[key])), -1)))\n",
    "\n",
    "# for key in val_embeddings_loaded.keys():\n",
    "#     if len(val_embeddings_loaded[key]) < max_length:\n",
    "#         val_embeddings_loaded[key] = np.concatenate((val_embeddings_loaded[key], np.zeros((max_length - len(val_embeddings_loaded[key]), 384))))\n",
    "#         task1_val_labels_loaded[key] = np.concatenate((task1_val_labels_loaded[key], np.full((max_length - len(task1_val_labels_loaded[key])), -1)))"
   ]
  },
  {
   "cell_type": "code",
   "execution_count": 21,
   "metadata": {},
   "outputs": [
    {
     "name": "stdout",
     "output_type": "stream",
     "text": [
      "{0.0, 1.0}\n"
     ]
    }
   ],
   "source": [
    "# Get all unique labels\n",
    "unique_labels = set()\n",
    "for key in task2_train_labels_loaded.keys():\n",
    "    # Check for None values and change them to 0\n",
    "    for i in range(len(task2_train_labels_loaded[key])):\n",
    "        if task2_train_labels_loaded[key][i] == None:\n",
    "            task2_train_labels_loaded[key][i] = 0\n",
    "    unique_labels.update(task2_train_labels_loaded[key])\n",
    "\n",
    "\n",
    "for key in task2_val_labels_loaded.keys():\n",
    "    # Check for None values and change them to 0\n",
    "    for i in range(len(task2_val_labels_loaded[key])):\n",
    "        if task2_val_labels_loaded[key][i] == None:\n",
    "            task2_val_labels_loaded[key][i] = 0\n",
    "    unique_labels.update(task2_val_labels_loaded[key])\n",
    "\n",
    "print(unique_labels)"
   ]
  },
  {
   "cell_type": "code",
   "execution_count": 22,
   "metadata": {},
   "outputs": [],
   "source": [
    "# Convert embeddings to lists\n",
    "train_embeddings = [train_embeddings_loaded[key] for key in train_embeddings_loaded.keys()]\n",
    "val_embeddings = [val_embeddings_loaded[key] for key in val_embeddings_loaded.keys()]"
   ]
  },
  {
   "cell_type": "code",
   "execution_count": 23,
   "metadata": {},
   "outputs": [],
   "source": [
    "# convert labels to lists\n",
    "train_labels = [task2_train_labels_loaded[key] for key in task2_train_labels_loaded.keys()]\n",
    "val_labels = [task2_val_labels_loaded[key] for key in task2_val_labels_loaded.keys()]\n",
    "\n",
    "# Convert labels to integers\n",
    "train_labels = [[int(label) for label in labels] for labels in train_labels]\n",
    "val_labels = [[int(label) for label in labels] for labels in val_labels]"
   ]
  },
  {
   "cell_type": "code",
   "execution_count": 24,
   "metadata": {},
   "outputs": [],
   "source": [
    "import torch\n",
    "from torch.utils.data import Dataset, DataLoader\n",
    "\n",
    "class EmotionDataset(Dataset):\n",
    "    def __init__(self, embeddings, labels):\n",
    "        self.embeddings = embeddings  # List of embedding matrices\n",
    "        self.labels = labels  # List of label arrays\n",
    "\n",
    "    def __len__(self):\n",
    "        return len(self.embeddings)\n",
    "\n",
    "    def __getitem__(self, idx):\n",
    "        return torch.tensor(self.embeddings[idx]), torch.tensor(self.labels[idx], dtype=torch.long)\n",
    "    \n",
    "def collate_fn(batch):\n",
    "    embeddings, labels = zip(*batch)\n",
    "    embeddings_pad = torch.nn.utils.rnn.pad_sequence(embeddings, batch_first=True, padding_value=0)\n",
    "    labels_pad = torch.nn.utils.rnn.pad_sequence(labels, batch_first=True, padding_value=-1)  # Use 0 for padding\n",
    "    return embeddings_pad, labels_pad"
   ]
  },
  {
   "cell_type": "code",
   "execution_count": 25,
   "metadata": {},
   "outputs": [],
   "source": [
    "# Make train dataset and dataloader\n",
    "train_dataset = EmotionDataset(train_embeddings, train_labels)\n",
    "train_dataloader = DataLoader(train_dataset, batch_size=32, shuffle=True, collate_fn=collate_fn)\n",
    "\n",
    "# Make val dataset and dataloader\n",
    "val_dataset = EmotionDataset(val_embeddings, val_labels)\n",
    "val_dataloader = DataLoader(val_dataset, batch_size=32, shuffle=False, collate_fn=collate_fn)"
   ]
  },
  {
   "cell_type": "code",
   "execution_count": 26,
   "metadata": {},
   "outputs": [],
   "source": [
    "import torch.nn as nn\n",
    "\n",
    "class GRUModel(nn.Module):\n",
    "    def __init__(self, input_size, hidden_size, output_size, num_layers=1):\n",
    "        super(GRUModel, self).__init__()\n",
    "        self.rnn = nn.GRU(input_size, hidden_size, num_layers, batch_first=True, bidirectional=True)\n",
    "        self.fc = nn.Linear(hidden_size*2, output_size)\n",
    "\n",
    "    def forward(self, x):\n",
    "        output, _ = self.rnn(x)\n",
    "        output = self.fc(output)\n",
    "        return output"
   ]
  },
  {
   "cell_type": "code",
   "execution_count": 27,
   "metadata": {},
   "outputs": [],
   "source": [
    "# Initialize the model\n",
    "INPUT_SIZE = 384 # Dimension of the input embeddings\n",
    "HIDDEN_SIZE = 128 # Dimension of the hidden state\n",
    "OUTPUT_SIZE = 2 # Number of classes\n",
    "\n",
    "model = GRUModel(INPUT_SIZE, HIDDEN_SIZE, OUTPUT_SIZE)"
   ]
  },
  {
   "cell_type": "code",
   "execution_count": 28,
   "metadata": {},
   "outputs": [],
   "source": [
    "# Define the loss function and optimizer\n",
    "from torch.optim import Adam\n",
    "\n",
    "loss_fn = nn.CrossEntropyLoss(ignore_index=-1)\n",
    "optimizer = Adam(model.parameters(), lr=0.001)"
   ]
  },
  {
   "cell_type": "code",
   "execution_count": 29,
   "metadata": {},
   "outputs": [],
   "source": [
    "# Compute F1 metrics\n",
    "from sklearn.metrics import f1_score\n",
    "\n",
    "# Predictions and labels should be flattened arrays\n",
    "def compute_metrics(predictions, labels):\n",
    "    # Ignore the padding value -1 \n",
    "    # Also ignore where both the prediction and label are 0\n",
    "    mask = (labels != -1) & ((labels != 0) | (predictions != 0))\n",
    "    masked_labels = labels[mask]\n",
    "    masked_predictions = predictions[mask]\n",
    "\n",
    "    if len(masked_labels) == 0 or len(masked_predictions) == 0:\n",
    "        #print(\"Warning: No valid data points were found after masking. Returning zero F1 scores.\")\n",
    "        return 0.0, 0.0\n",
    "    \n",
    "    weighted_f1 = f1_score(masked_labels, masked_predictions, average='weighted')\n",
    "    macro_f1 = f1_score(masked_labels, masked_predictions, average='macro')\n",
    "    f1 = f1_score(masked_labels, masked_predictions)\n",
    "    return weighted_f1, macro_f1, f1"
   ]
  },
  {
   "cell_type": "code",
   "execution_count": 30,
   "metadata": {},
   "outputs": [
    {
     "name": "stdout",
     "output_type": "stream",
     "text": [
      "Epoch 1/20\n",
      "Train Loss: 0.3667, Train F1: 0.0878, Train Weighted F1: 0.0810, Train Macro F1: 0.0439, Val Loss: 0.3158, Val F1: 0.2236, Val Weighted F1: 0.1873, Val Macro F1: 0.1118\n",
      "Epoch 2/20\n",
      "Train Loss: 0.3230, Train F1: 0.2875, Train Weighted F1: 0.2354, Train Macro F1: 0.1437, Val Loss: 0.3037, Val F1: 0.4424, Val Weighted F1: 0.3235, Val Macro F1: 0.2212\n",
      "Epoch 3/20\n",
      "Train Loss: 0.3003, Train F1: 0.4845, Train Weighted F1: 0.3902, Train Macro F1: 0.2423, Val Loss: 0.2670, Val F1: 0.5709, Val Weighted F1: 0.4723, Val Macro F1: 0.2855\n",
      "Epoch 4/20\n",
      "Train Loss: 0.2749, Train F1: 0.5733, Train Weighted F1: 0.4737, Train Macro F1: 0.2867, Val Loss: 0.2647, Val F1: 0.5149, Val Weighted F1: 0.4563, Val Macro F1: 0.2575\n",
      "Epoch 5/20\n",
      "Train Loss: 0.2647, Train F1: 0.5879, Train Weighted F1: 0.4866, Train Macro F1: 0.2939, Val Loss: 0.2467, Val F1: 0.6026, Val Weighted F1: 0.5036, Val Macro F1: 0.3013\n",
      "Epoch 6/20\n",
      "Train Loss: 0.2551, Train F1: 0.5995, Train Weighted F1: 0.4943, Train Macro F1: 0.2998, Val Loss: 0.2475, Val F1: 0.6279, Val Weighted F1: 0.5032, Val Macro F1: 0.3139\n",
      "Epoch 7/20\n",
      "Train Loss: 0.2502, Train F1: 0.6145, Train Weighted F1: 0.5061, Train Macro F1: 0.3072, Val Loss: 0.2391, Val F1: 0.6135, Val Weighted F1: 0.5222, Val Macro F1: 0.3067\n",
      "Epoch 8/20\n",
      "Train Loss: 0.2424, Train F1: 0.6270, Train Weighted F1: 0.5194, Train Macro F1: 0.3135, Val Loss: 0.2363, Val F1: 0.6084, Val Weighted F1: 0.5281, Val Macro F1: 0.3042\n",
      "Epoch 9/20\n",
      "Train Loss: 0.2367, Train F1: 0.6406, Train Weighted F1: 0.5342, Train Macro F1: 0.3203, Val Loss: 0.2313, Val F1: 0.6500, Val Weighted F1: 0.5206, Val Macro F1: 0.3250\n",
      "Epoch 10/20\n",
      "Train Loss: 0.2304, Train F1: 0.6485, Train Weighted F1: 0.5372, Train Macro F1: 0.3242, Val Loss: 0.2258, Val F1: 0.6328, Val Weighted F1: 0.5352, Val Macro F1: 0.3164\n",
      "Epoch 11/20\n",
      "Train Loss: 0.2249, Train F1: 0.6626, Train Weighted F1: 0.5503, Train Macro F1: 0.3313, Val Loss: 0.2248, Val F1: 0.6508, Val Weighted F1: 0.5517, Val Macro F1: 0.3254\n",
      "Epoch 12/20\n",
      "Train Loss: 0.2209, Train F1: 0.6748, Train Weighted F1: 0.5576, Train Macro F1: 0.3374, Val Loss: 0.2206, Val F1: 0.6593, Val Weighted F1: 0.5488, Val Macro F1: 0.3296\n",
      "Epoch 13/20\n",
      "Train Loss: 0.2152, Train F1: 0.6848, Train Weighted F1: 0.5762, Train Macro F1: 0.3424, Val Loss: 0.2219, Val F1: 0.6883, Val Weighted F1: 0.5467, Val Macro F1: 0.3442\n",
      "Epoch 14/20\n",
      "Train Loss: 0.2059, Train F1: 0.6992, Train Weighted F1: 0.5843, Train Macro F1: 0.3496, Val Loss: 0.2115, Val F1: 0.6748, Val Weighted F1: 0.5725, Val Macro F1: 0.3374\n",
      "Epoch 15/20\n",
      "Train Loss: 0.1994, Train F1: 0.7185, Train Weighted F1: 0.6016, Train Macro F1: 0.3593, Val Loss: 0.2093, Val F1: 0.6789, Val Weighted F1: 0.5888, Val Macro F1: 0.3395\n",
      "Epoch 16/20\n",
      "Train Loss: 0.1915, Train F1: 0.7321, Train Weighted F1: 0.6192, Train Macro F1: 0.3661, Val Loss: 0.2046, Val F1: 0.6972, Val Weighted F1: 0.5953, Val Macro F1: 0.3486\n",
      "Epoch 17/20\n",
      "Train Loss: 0.1861, Train F1: 0.7406, Train Weighted F1: 0.6247, Train Macro F1: 0.3703, Val Loss: 0.1998, Val F1: 0.7066, Val Weighted F1: 0.6133, Val Macro F1: 0.3533\n",
      "Epoch 18/20\n",
      "Train Loss: 0.1801, Train F1: 0.7534, Train Weighted F1: 0.6407, Train Macro F1: 0.3767, Val Loss: 0.1966, Val F1: 0.7235, Val Weighted F1: 0.6085, Val Macro F1: 0.3617\n",
      "Epoch 19/20\n",
      "Train Loss: 0.1736, Train F1: 0.7656, Train Weighted F1: 0.6527, Train Macro F1: 0.3828, Val Loss: 0.1928, Val F1: 0.7330, Val Weighted F1: 0.6214, Val Macro F1: 0.3665\n",
      "Epoch 20/20\n",
      "Train Loss: 0.1663, Train F1: 0.7775, Train Weighted F1: 0.6657, Train Macro F1: 0.3888, Val Loss: 0.1949, Val F1: 0.7257, Val Weighted F1: 0.6308, Val Macro F1: 0.3628\n"
     ]
    }
   ],
   "source": [
    "# Train the model\n",
    "num_epochs = 20\n",
    "\n",
    "train_f1s = []\n",
    "val_f1s = []\n",
    "train_losses = []\n",
    "val_losses = []\n",
    "\n",
    "for epoch in range(num_epochs):\n",
    "    # Train the model\n",
    "    model.train()\n",
    "    train_loss = 0\n",
    "    train_predictions = []\n",
    "    train_labels = []\n",
    "\n",
    "    for embeddings, labels in train_dataloader:\n",
    "        optimizer.zero_grad()\n",
    "        output = model(embeddings)\n",
    "        \n",
    "        # Flatten the output and labels\n",
    "        output = output.view(-1, output.shape[-1]) # (batch_size * max_length, num_classes)\n",
    "        labels = labels.view(-1)\n",
    "\n",
    "        loss = loss_fn(output, labels)\n",
    "        loss.backward()\n",
    "        optimizer.step()\n",
    "\n",
    "        train_loss += loss.item()\n",
    "\n",
    "        # Get the predictions\n",
    "        predictions = output.argmax(dim=-1)\n",
    "\n",
    "        train_predictions.append(predictions.detach().cpu().numpy())\n",
    "        train_labels.append(labels.detach().cpu().numpy())\n",
    "\n",
    "    train_predictions = np.concatenate(train_predictions)\n",
    "    train_labels = np.concatenate(train_labels)\n",
    "    train_loss /= len(train_dataloader)\n",
    "\n",
    "    weighted_f1, macro_f1, f1 = compute_metrics(train_predictions, train_labels)\n",
    "\n",
    "    train_f1s.append(f1)\n",
    "    train_losses.append(train_loss)\n",
    "\n",
    "    # Evaluate the model on the validation set\n",
    "    model.eval()\n",
    "    val_loss = 0\n",
    "    val_predictions = []\n",
    "    val_labels = []\n",
    "\n",
    "    with torch.no_grad():\n",
    "        for embeddings, labels in val_dataloader:\n",
    "            output = model(embeddings)\n",
    "            \n",
    "            # Flatten the output and labels\n",
    "            output = output.view(-1, output.shape[-1])\n",
    "            labels = labels.view(-1)\n",
    "\n",
    "            loss = loss_fn(output, labels)\n",
    "            val_loss += loss.item()\n",
    "\n",
    "            # Get the predictions\n",
    "            predictions = output.argmax(dim=-1)\n",
    "\n",
    "            val_predictions.append(predictions.detach().cpu().numpy())\n",
    "            val_labels.append(labels.detach().cpu().numpy())\n",
    "\n",
    "    val_predictions = np.concatenate(val_predictions)\n",
    "    val_labels = np.concatenate(val_labels)\n",
    "\n",
    "    val_loss /= len(val_dataloader)\n",
    "\n",
    "    weighted_f1_val, macro_f1_val, f1_val = compute_metrics(val_predictions, val_labels)\n",
    "\n",
    "    val_f1s.append(f1_val)\n",
    "    val_losses.append(val_loss)\n",
    "\n",
    "    print(f\"Epoch {epoch+1}/{num_epochs}\")\n",
    "    print(f\"Train Loss: {train_loss:.4f}, Train F1: {f1:.4f}, Train Weighted F1: {weighted_f1:.4f}, Train Macro F1: {macro_f1:.4f}, Val Loss: {val_loss:.4f}, Val F1: {f1_val:.4f}, Val Weighted F1: {weighted_f1_val:.4f}, Val Macro F1: {macro_f1_val:.4f}\")"
   ]
  },
  {
   "cell_type": "code",
   "execution_count": 31,
   "metadata": {},
   "outputs": [
    {
     "data": {
      "image/png": "[encoded data removed]",
      "text/plain": [
       "<Figure size 432x288 with 1 Axes>"
      ]
     },
     "metadata": {
      "needs_background": "light"
     },
     "output_type": "display_data"
    }
   ],
   "source": [
    "# Plot the training and validation loss\n",
    "import matplotlib.pyplot as plt\n",
    "\n",
    "plt.plot(train_losses, label=\"Train Loss\")\n",
    "plt.plot(val_losses, label=\"Val Loss\")\n",
    "plt.title(\"Training and Validation Loss for Task 2 - Model M4\")\n",
    "\n",
    "plt.xlabel(\"Epoch\")\n",
    "plt.ylabel(\"Loss\")\n",
    "\n",
    "plt.legend()\n",
    "plt.show()"
   ]
  },
  {
   "cell_type": "code",
   "execution_count": 32,
   "metadata": {},
   "outputs": [
    {
     "data": {
      "image/png": "[encoded data removed]",
      "text/plain": [
       "<Figure size 432x288 with 1 Axes>"
      ]
     },
     "metadata": {
      "needs_background": "light"
     },
     "output_type": "display_data"
    }
   ],
   "source": [
    "# Plot the training and validation F1 scores\n",
    "plt.plot(train_f1s, label=\"Train F1\")\n",
    "plt.plot(val_f1s, label=\"Val F1\")\n",
    "\n",
    "plt.xlabel(\"Epoch\")\n",
    "plt.ylabel(\"Weighted F1\")\n",
    "plt.title(\"Training and Validation F1 for Task 2 - Model M4\")\n",
    "\n",
    "plt.legend()\n",
    "plt.show()"
   ]
  },
  {
   "cell_type": "code",
   "execution_count": 33,
   "metadata": {},
   "outputs": [],
   "source": [
    "# Save the model\n",
    "torch.save(model.state_dict(), \"M4_Task2.pth\")"
   ]
  },
  {
   "cell_type": "code",
   "execution_count": 36,
   "metadata": {},
   "outputs": [
    {
     "name": "stdout",
     "output_type": "stream",
     "text": [
      "Predictions: tensor([0, 0, 1, 0])\n",
      "True labels: tensor([0, 0, 1, 0])\n",
      "Weighted F1: 1.0\n",
      "Macro F1: 1.0\n",
      "F1: 1.0\n"
     ]
    }
   ],
   "source": [
    "# Run inference on a random sample from the validation set\n",
    "# Pick a random sample from the validation set\n",
    "# Print the predicted and true labels\n",
    "\n",
    "sample_idx = 43\n",
    "sample_embeddings, sample_labels = val_dataset[sample_idx]\n",
    "sample_embeddings = sample_embeddings.unsqueeze(0)  # Add a batch dimension\n",
    "sample_labels = sample_labels.unsqueeze(0)\n",
    "\n",
    "model.eval()\n",
    "with torch.no_grad():\n",
    "    output = model(sample_embeddings)\n",
    "    predictions = output.argmax(dim=-1)\n",
    "\n",
    "    print(\"Predictions:\", predictions[0])\n",
    "    print(\"True labels:\", sample_labels[0])\n",
    "\n",
    "    # Calculate the F1 score\n",
    "    weighted_f1_sample, macro_f1_sample, f1_sample = compute_metrics(predictions.cpu().numpy(), sample_labels.cpu().numpy())\n",
    "    print(\"Weighted F1:\", weighted_f1_sample)\n",
    "    print(\"Macro F1:\", macro_f1_sample)\n",
    "    print(\"F1:\", f1_sample)"
   ]
  }
 ],
 "metadata": {
  "kernelspec": {
   "display_name": "Python 3",
   "language": "python",
   "name": "python3"
  },
  "language_info": {
   "codemirror_mode": {
    "name": "ipython",
    "version": 3
   },
   "file_extension": ".py",
   "mimetype": "text/x-python",
   "name": "python",
   "nbconvert_exporter": "python",
   "pygments_lexer": "ipython3",
   "version": "3.10.0"
  }
 },
 "nbformat": 4,
 "nbformat_minor": 2
}
