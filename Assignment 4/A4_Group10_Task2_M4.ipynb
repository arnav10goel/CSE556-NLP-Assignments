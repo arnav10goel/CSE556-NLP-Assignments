{
 "cells": [
  {
   "cell_type": "code",
   "execution_count": 1,
   "metadata": {},
   "outputs": [],
   "source": [
    "import pickle\n",
    "import numpy as np\n",
    "import pandas as pd\n",
    "\n",
    "# Load these embeddings from the pickle files\n",
    "train_embeddings_file = \"train_embeddings.pkl\"\n",
    "val_embeddings_file = \"val_embeddings.pkl\"\n",
    "\n",
    "train_embeddings_loaded = pickle.load(open(train_embeddings_file, \"rb\"))\n",
    "val_embeddings_loaded = pickle.load(open(val_embeddings_file, \"rb\"))"
   ]
  },
  {
   "cell_type": "code",
   "execution_count": 2,
   "metadata": {},
   "outputs": [],
   "source": [
    "# Load the labels from the pickle files\n",
    "task2_train_labels = \"task2_labels_train.pkl\"\n",
    "task2_val_labels = \"task2_labels_dev.pkl\"\n",
    "\n",
    "task2_train_labels_loaded = pickle.load(open(task2_train_labels, \"rb\"))\n",
    "task2_val_labels_loaded = pickle.load(open(task2_val_labels, \"rb\"))"
   ]
  },
  {
   "cell_type": "code",
   "execution_count": 19,
   "metadata": {},
   "outputs": [],
   "source": [
    "# # For each key, pad the embeddings and labels to the maximum length of 24\n",
    "# # Pad the embeddings with zeros and the labels with -1\n",
    "# max_length = 24\n",
    "\n",
    "# for key in train_embeddings_loaded.keys():\n",
    "#     if len(train_embeddings_loaded[key]) < max_length:\n",
    "#         train_embeddings_loaded[key] = np.concatenate((train_embeddings_loaded[key], np.zeros((max_length - len(train_embeddings_loaded[key]), 384))))\n",
    "#         task1_train_labels_loaded[key] = np.concatenate((task1_train_labels_loaded[key], np.full((max_length - len(task1_train_labels_loaded[key])), -1)))\n",
    "\n",
    "# for key in val_embeddings_loaded.keys():\n",
    "#     if len(val_embeddings_loaded[key]) < max_length:\n",
    "#         val_embeddings_loaded[key] = np.concatenate((val_embeddings_loaded[key], np.zeros((max_length - len(val_embeddings_loaded[key]), 384))))\n",
    "#         task1_val_labels_loaded[key] = np.concatenate((task1_val_labels_loaded[key], np.full((max_length - len(task1_val_labels_loaded[key])), -1)))"
   ]
  },
  {
   "cell_type": "code",
   "execution_count": 3,
   "metadata": {},
   "outputs": [
    {
     "name": "stdout",
     "output_type": "stream",
     "text": [
      "{0.0, 1.0}\n"
     ]
    }
   ],
   "source": [
    "# Get all unique labels\n",
    "unique_labels = set()\n",
    "for key in task2_train_labels_loaded.keys():\n",
    "    # Check for None values and change them to 0\n",
    "    for i in range(len(task2_train_labels_loaded[key])):\n",
    "        if task2_train_labels_loaded[key][i] == None:\n",
    "            task2_train_labels_loaded[key][i] = 0\n",
    "    unique_labels.update(task2_train_labels_loaded[key])\n",
    "\n",
    "\n",
    "for key in task2_val_labels_loaded.keys():\n",
    "    # Check for None values and change them to 0\n",
    "    for i in range(len(task2_val_labels_loaded[key])):\n",
    "        if task2_val_labels_loaded[key][i] == None:\n",
    "            task2_val_labels_loaded[key][i] = 0\n",
    "    unique_labels.update(task2_val_labels_loaded[key])\n",
    "\n",
    "print(unique_labels)"
   ]
  },
  {
   "cell_type": "code",
   "execution_count": 4,
   "metadata": {},
   "outputs": [],
   "source": [
    "# Convert embeddings to lists\n",
    "train_embeddings = [train_embeddings_loaded[key] for key in train_embeddings_loaded.keys()]\n",
    "val_embeddings = [val_embeddings_loaded[key] for key in val_embeddings_loaded.keys()]"
   ]
  },
  {
   "cell_type": "code",
   "execution_count": 5,
   "metadata": {},
   "outputs": [],
   "source": [
    "# convert labels to lists\n",
    "train_labels = [task2_train_labels_loaded[key] for key in task2_train_labels_loaded.keys()]\n",
    "val_labels = [task2_val_labels_loaded[key] for key in task2_val_labels_loaded.keys()]\n",
    "\n",
    "# Convert labels to integers\n",
    "train_labels = [[int(label) for label in labels] for labels in train_labels]\n",
    "val_labels = [[int(label) for label in labels] for labels in val_labels]"
   ]
  },
  {
   "cell_type": "code",
   "execution_count": 6,
   "metadata": {},
   "outputs": [],
   "source": [
    "import torch\n",
    "from torch.utils.data import Dataset, DataLoader\n",
    "\n",
    "class EmotionDataset(Dataset):\n",
    "    def __init__(self, embeddings, labels):\n",
    "        self.embeddings = embeddings  # List of embedding matrices\n",
    "        self.labels = labels  # List of label arrays\n",
    "\n",
    "    def __len__(self):\n",
    "        return len(self.embeddings)\n",
    "\n",
    "    def __getitem__(self, idx):\n",
    "        return torch.tensor(self.embeddings[idx]), torch.tensor(self.labels[idx], dtype=torch.long)\n",
    "    \n",
    "def collate_fn(batch):\n",
    "    embeddings, labels = zip(*batch)\n",
    "    embeddings_pad = torch.nn.utils.rnn.pad_sequence(embeddings, batch_first=True, padding_value=0)\n",
    "    labels_pad = torch.nn.utils.rnn.pad_sequence(labels, batch_first=True, padding_value=-1)  # Use 0 for padding\n",
    "    return embeddings_pad, labels_pad"
   ]
  },
  {
   "cell_type": "code",
   "execution_count": 7,
   "metadata": {},
   "outputs": [],
   "source": [
    "# Make train dataset and dataloader\n",
    "train_dataset = EmotionDataset(train_embeddings, train_labels)\n",
    "train_dataloader = DataLoader(train_dataset, batch_size=32, shuffle=True, collate_fn=collate_fn)\n",
    "\n",
    "# Make val dataset and dataloader\n",
    "val_dataset = EmotionDataset(val_embeddings, val_labels)\n",
    "val_dataloader = DataLoader(val_dataset, batch_size=32, shuffle=False, collate_fn=collate_fn)"
   ]
  },
  {
   "cell_type": "code",
   "execution_count": 8,
   "metadata": {},
   "outputs": [],
   "source": [
    "import torch.nn as nn\n",
    "\n",
    "class GRUModel(nn.Module):\n",
    "    def __init__(self, input_size, hidden_size, output_size, num_layers=1):\n",
    "        super(GRUModel, self).__init__()\n",
    "        self.rnn = nn.GRU(input_size, hidden_size, num_layers, batch_first=True, bidirectional=True)\n",
    "        self.fc = nn.Linear(hidden_size*2, output_size)\n",
    "\n",
    "    def forward(self, x):\n",
    "        output, _ = self.rnn(x)\n",
    "        output = self.fc(output)\n",
    "        return output"
   ]
  },
  {
   "cell_type": "code",
   "execution_count": 9,
   "metadata": {},
   "outputs": [],
   "source": [
    "# Initialize the model\n",
    "INPUT_SIZE = 384 # Dimension of the input embeddings\n",
    "HIDDEN_SIZE = 128 # Dimension of the hidden state\n",
    "OUTPUT_SIZE = 2 # Number of classes\n",
    "\n",
    "model = GRUModel(INPUT_SIZE, HIDDEN_SIZE, OUTPUT_SIZE)"
   ]
  },
  {
   "cell_type": "code",
   "execution_count": 10,
   "metadata": {},
   "outputs": [],
   "source": [
    "# Define the loss function and optimizer\n",
    "from torch.optim import Adam\n",
    "\n",
    "loss_fn = nn.CrossEntropyLoss(ignore_index=-1)\n",
    "optimizer = Adam(model.parameters(), lr=0.001)"
   ]
  },
  {
   "cell_type": "code",
   "execution_count": 11,
   "metadata": {},
   "outputs": [],
   "source": [
    "# Compute F1 metrics\n",
    "from sklearn.metrics import f1_score\n",
    "\n",
    "# Predictions and labels should be flattened arrays\n",
    "def compute_metrics(predictions, labels):\n",
    "    # Ignore the padding value -1 \n",
    "    # Also ignore where both the prediction and label are 0\n",
    "    mask = (labels != -1) & ((labels != 0) | (predictions != 0))\n",
    "    masked_labels = labels[mask]\n",
    "    masked_predictions = predictions[mask]\n",
    "\n",
    "    if len(masked_labels) == 0 or len(masked_predictions) == 0:\n",
    "        #print(\"Warning: No valid data points were found after masking. Returning zero F1 scores.\")\n",
    "        return 0.0, 0.0\n",
    "    \n",
    "    weighted_f1 = f1_score(masked_labels, masked_predictions, average='weighted')\n",
    "    macro_f1 = f1_score(masked_labels, masked_predictions, average='macro')\n",
    "    return weighted_f1, macro_f1"
   ]
  },
  {
   "cell_type": "code",
   "execution_count": 12,
   "metadata": {},
   "outputs": [
    {
     "name": "stdout",
     "output_type": "stream",
     "text": [
      "Epoch 1/20, Train Loss: 0.3717, Train Weighted F1: 0.1040, Train Macro F1: 0.0602, Val Loss: 0.3192, Val Weighted F1: 0.1938, Val Macro F1: 0.1223\n",
      "Epoch 2/20, Train Loss: 0.3231, Train Weighted F1: 0.2325, Train Macro F1: 0.1401, Val Loss: 0.2989, Val Weighted F1: 0.3393, Val Macro F1: 0.2247\n",
      "Epoch 3/20, Train Loss: 0.2912, Train Weighted F1: 0.4412, Train Macro F1: 0.2716, Val Loss: 0.2663, Val Weighted F1: 0.4636, Val Macro F1: 0.2708\n",
      "Epoch 4/20, Train Loss: 0.2740, Train Weighted F1: 0.4799, Train Macro F1: 0.2881, Val Loss: 0.2559, Val Weighted F1: 0.4875, Val Macro F1: 0.3009\n",
      "Epoch 5/20, Train Loss: 0.2635, Train Weighted F1: 0.4860, Train Macro F1: 0.2938, Val Loss: 0.2478, Val Weighted F1: 0.4828, Val Macro F1: 0.3053\n",
      "Epoch 6/20, Train Loss: 0.2586, Train Weighted F1: 0.4980, Train Macro F1: 0.3002, Val Loss: 0.2430, Val Weighted F1: 0.5067, Val Macro F1: 0.3039\n",
      "Epoch 7/20, Train Loss: 0.2476, Train Weighted F1: 0.5132, Train Macro F1: 0.3084, Val Loss: 0.2395, Val Weighted F1: 0.5075, Val Macro F1: 0.3190\n",
      "Epoch 8/20, Train Loss: 0.2407, Train Weighted F1: 0.5273, Train Macro F1: 0.3186, Val Loss: 0.2469, Val Weighted F1: 0.5079, Val Macro F1: 0.3286\n",
      "Epoch 9/20, Train Loss: 0.2364, Train Weighted F1: 0.5379, Train Macro F1: 0.3226, Val Loss: 0.2308, Val Weighted F1: 0.5273, Val Macro F1: 0.3240\n",
      "Epoch 10/20, Train Loss: 0.2286, Train Weighted F1: 0.5457, Train Macro F1: 0.3279, Val Loss: 0.2237, Val Weighted F1: 0.5493, Val Macro F1: 0.3333\n",
      "Epoch 11/20, Train Loss: 0.2220, Train Weighted F1: 0.5558, Train Macro F1: 0.3350, Val Loss: 0.2216, Val Weighted F1: 0.5593, Val Macro F1: 0.3328\n",
      "Epoch 12/20, Train Loss: 0.2162, Train Weighted F1: 0.5655, Train Macro F1: 0.3402, Val Loss: 0.2181, Val Weighted F1: 0.5626, Val Macro F1: 0.3273\n",
      "Epoch 13/20, Train Loss: 0.2103, Train Weighted F1: 0.5804, Train Macro F1: 0.3469, Val Loss: 0.2150, Val Weighted F1: 0.5590, Val Macro F1: 0.3458\n",
      "Epoch 14/20, Train Loss: 0.2046, Train Weighted F1: 0.5882, Train Macro F1: 0.3515, Val Loss: 0.2092, Val Weighted F1: 0.5739, Val Macro F1: 0.3306\n",
      "Epoch 15/20, Train Loss: 0.1965, Train Weighted F1: 0.6082, Train Macro F1: 0.3611, Val Loss: 0.2052, Val Weighted F1: 0.5835, Val Macro F1: 0.3483\n",
      "Epoch 16/20, Train Loss: 0.1889, Train Weighted F1: 0.6181, Train Macro F1: 0.3660, Val Loss: 0.1990, Val Weighted F1: 0.6059, Val Macro F1: 0.3594\n",
      "Epoch 17/20, Train Loss: 0.1837, Train Weighted F1: 0.6332, Train Macro F1: 0.3733, Val Loss: 0.2014, Val Weighted F1: 0.6073, Val Macro F1: 0.3565\n",
      "Epoch 18/20, Train Loss: 0.1752, Train Weighted F1: 0.6425, Train Macro F1: 0.3791, Val Loss: 0.1940, Val Weighted F1: 0.6165, Val Macro F1: 0.3744\n",
      "Epoch 19/20, Train Loss: 0.1672, Train Weighted F1: 0.6591, Train Macro F1: 0.3869, Val Loss: 0.1992, Val Weighted F1: 0.6222, Val Macro F1: 0.3549\n",
      "Epoch 20/20, Train Loss: 0.1620, Train Weighted F1: 0.6742, Train Macro F1: 0.3924, Val Loss: 0.1946, Val Weighted F1: 0.6378, Val Macro F1: 0.3674\n"
     ]
    }
   ],
   "source": [
    "# Train the model\n",
    "num_epochs = 20\n",
    "\n",
    "train_f1s = []\n",
    "val_f1s = []\n",
    "train_losses = []\n",
    "val_losses = []\n",
    "\n",
    "for epoch in range(num_epochs):\n",
    "    # Train the model\n",
    "    model.train()\n",
    "    train_loss = 0\n",
    "    train_predictions = []\n",
    "    train_labels = []\n",
    "\n",
    "    for embeddings, labels in train_dataloader:\n",
    "        optimizer.zero_grad()\n",
    "        output = model(embeddings)\n",
    "        \n",
    "        # Flatten the output and labels\n",
    "        output = output.view(-1, output.shape[-1]) # (batch_size * max_length, num_classes)\n",
    "        labels = labels.view(-1)\n",
    "\n",
    "        loss = loss_fn(output, labels)\n",
    "        loss.backward()\n",
    "        optimizer.step()\n",
    "\n",
    "        train_loss += loss.item()\n",
    "\n",
    "        # Get the predictions\n",
    "        predictions = output.argmax(dim=-1)\n",
    "\n",
    "        train_predictions.append(predictions.detach().cpu().numpy())\n",
    "        train_labels.append(labels.detach().cpu().numpy())\n",
    "\n",
    "    train_predictions = np.concatenate(train_predictions)\n",
    "    train_labels = np.concatenate(train_labels)\n",
    "    train_loss /= len(train_dataloader)\n",
    "\n",
    "    weighted_f1, macro_f1 = compute_metrics(train_predictions, train_labels)\n",
    "\n",
    "    train_f1s.append(weighted_f1)\n",
    "    train_losses.append(train_loss)\n",
    "\n",
    "    # Evaluate the model on the validation set\n",
    "    model.eval()\n",
    "    val_loss = 0\n",
    "    val_predictions = []\n",
    "    val_labels = []\n",
    "\n",
    "    with torch.no_grad():\n",
    "        for embeddings, labels in val_dataloader:\n",
    "            output = model(embeddings)\n",
    "            \n",
    "            # Flatten the output and labels\n",
    "            output = output.view(-1, output.shape[-1])\n",
    "            labels = labels.view(-1)\n",
    "\n",
    "            loss = loss_fn(output, labels)\n",
    "            val_loss += loss.item()\n",
    "\n",
    "            # Get the predictions\n",
    "            predictions = output.argmax(dim=-1)\n",
    "\n",
    "            val_predictions.append(predictions.detach().cpu().numpy())\n",
    "            val_labels.append(labels.detach().cpu().numpy())\n",
    "\n",
    "    val_predictions = np.concatenate(val_predictions)\n",
    "    val_labels = np.concatenate(val_labels)\n",
    "\n",
    "    val_loss /= len(val_dataloader)\n",
    "\n",
    "    weighted_f1_val, macro_f1_val = compute_metrics(val_predictions, val_labels)\n",
    "\n",
    "    val_f1s.append(weighted_f1_val)\n",
    "    val_losses.append(val_loss)\n",
    "\n",
    "    print(f\"Epoch {epoch+1}/{num_epochs}, Train Loss: {train_loss:.4f}, Train Weighted F1: {weighted_f1:.4f}, Train Macro F1: {macro_f1:.4f}, Val Loss: {val_loss:.4f}, Val Weighted F1: {weighted_f1_val:.4f}, Val Macro F1: {macro_f1_val:.4f}\")\n",
    "            "
   ]
  },
  {
   "cell_type": "code",
   "execution_count": 13,
   "metadata": {},
   "outputs": [
    {
     "data": {
      "image/png": "[encoded data removed]",
      "text/plain": [
       "<Figure size 432x288 with 1 Axes>"
      ]
     },
     "metadata": {
      "needs_background": "light"
     },
     "output_type": "display_data"
    }
   ],
   "source": [
    "# Plot the training and validation loss\n",
    "import matplotlib.pyplot as plt\n",
    "\n",
    "plt.plot(train_losses, label=\"Train Loss\")\n",
    "plt.plot(val_losses, label=\"Val Loss\")\n",
    "\n",
    "plt.xlabel(\"Epoch\")\n",
    "plt.ylabel(\"Loss\")\n",
    "\n",
    "plt.legend()\n",
    "plt.show()"
   ]
  },
  {
   "cell_type": "code",
   "execution_count": 14,
   "metadata": {},
   "outputs": [
    {
     "data": {
      "image/png": "[encoded data removed]",
      "text/plain": [
       "<Figure size 432x288 with 1 Axes>"
      ]
     },
     "metadata": {
      "needs_background": "light"
     },
     "output_type": "display_data"
    }
   ],
   "source": [
    "# Plot the training and validation F1 scores\n",
    "plt.plot(train_f1s, label=\"Train Weighted F1\")\n",
    "plt.plot(val_f1s, label=\"Val Weighted F1\")\n",
    "\n",
    "plt.xlabel(\"Epoch\")\n",
    "plt.ylabel(\"Weighted F1\")\n",
    "\n",
    "plt.legend()\n",
    "plt.show()"
   ]
  },
  {
   "cell_type": "code",
   "execution_count": 15,
   "metadata": {},
   "outputs": [],
   "source": [
    "# Save the model\n",
    "torch.save(model.state_dict(), \"M4_Task2.pth\")"
   ]
  },
  {
   "cell_type": "code",
   "execution_count": 17,
   "metadata": {},
   "outputs": [
    {
     "name": "stdout",
     "output_type": "stream",
     "text": [
      "Predictions: tensor([0, 0, 1, 0])\n",
      "True labels: tensor([0, 0, 1, 0])\n",
      "Weighted F1: 1.0\n",
      "Macro F1: 1.0\n"
     ]
    }
   ],
   "source": [
    "# Run inference on a random sample from the validation set\n",
    "# Pick a random sample from the validation set\n",
    "# Print the predicted and true labels\n",
    "\n",
    "sample_idx = 43\n",
    "sample_embeddings, sample_labels = val_dataset[sample_idx]\n",
    "sample_embeddings = sample_embeddings.unsqueeze(0)  # Add a batch dimension\n",
    "sample_labels = sample_labels.unsqueeze(0)\n",
    "\n",
    "model.eval()\n",
    "with torch.no_grad():\n",
    "    output = model(sample_embeddings)\n",
    "    predictions = output.argmax(dim=-1)\n",
    "\n",
    "    print(\"Predictions:\", predictions[0])\n",
    "    print(\"True labels:\", sample_labels[0])\n",
    "\n",
    "    # Calculate the F1 score\n",
    "    weighted_f1_sample, macro_f1_sample = compute_metrics(predictions.cpu().numpy(), sample_labels.cpu().numpy())\n",
    "    print(\"Weighted F1:\", weighted_f1_sample)\n",
    "    print(\"Macro F1:\", macro_f1_sample)"
   ]
  }
 ],
 "metadata": {
  "kernelspec": {
   "display_name": "Python 3",
   "language": "python",
   "name": "python3"
  },
  "language_info": {
   "codemirror_mode": {
    "name": "ipython",
    "version": 3
   },
   "file_extension": ".py",
   "mimetype": "text/x-python",
   "name": "python",
   "nbconvert_exporter": "python",
   "pygments_lexer": "ipython3",
   "version": "3.10.0"
  }
 },
 "nbformat": 4,
 "nbformat_minor": 2
}
