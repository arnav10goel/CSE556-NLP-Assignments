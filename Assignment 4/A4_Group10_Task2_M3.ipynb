{
 "cells": [
  {
   "cell_type": "code",
   "execution_count": 35,
   "metadata": {},
   "outputs": [],
   "source": [
    "import pickle\n",
    "import numpy as np\n",
    "import pandas as pd\n",
    "\n",
    "# Load these embeddings from the pickle files\n",
    "train_embeddings_file = \"train_embeddings.pkl\"\n",
    "val_embeddings_file = \"val_embeddings.pkl\"\n",
    "\n",
    "train_embeddings_loaded = pickle.load(open(train_embeddings_file, \"rb\"))\n",
    "val_embeddings_loaded = pickle.load(open(val_embeddings_file, \"rb\"))"
   ]
  },
  {
   "cell_type": "markdown",
   "metadata": {},
   "source": [
    "- Labels for Task 2"
   ]
  },
  {
   "cell_type": "code",
   "execution_count": 36,
   "metadata": {},
   "outputs": [],
   "source": [
    "# Load the labels from the pickle files\n",
    "task2_train_labels = \"task2_labels_train.pkl\"\n",
    "task2_val_labels = \"task2_labels_dev.pkl\"\n",
    "\n",
    "task2_train_labels_loaded = pickle.load(open(task2_train_labels, \"rb\"))\n",
    "task2_val_labels_loaded = pickle.load(open(task2_val_labels, \"rb\"))"
   ]
  },
  {
   "cell_type": "code",
   "execution_count": 37,
   "metadata": {},
   "outputs": [],
   "source": [
    "# # For each key, pad the embeddings and labels to the maximum length of 24\n",
    "# # Pad the embeddings with zeros and the labels with -1\n",
    "# max_length = 24\n",
    "\n",
    "# for key in train_embeddings_loaded.keys():\n",
    "#     if len(train_embeddings_loaded[key]) < max_length:\n",
    "#         train_embeddings_loaded[key] = np.concatenate((train_embeddings_loaded[key], np.zeros((max_length - len(train_embeddings_loaded[key]), 384))))\n",
    "#         task1_train_labels_loaded[key] = np.concatenate((task1_train_labels_loaded[key], np.full((max_length - len(task1_train_labels_loaded[key])), -1)))\n",
    "\n",
    "# for key in val_embeddings_loaded.keys():\n",
    "#     if len(val_embeddings_loaded[key]) < max_length:\n",
    "#         val_embeddings_loaded[key] = np.concatenate((val_embeddings_loaded[key], np.zeros((max_length - len(val_embeddings_loaded[key]), 384))))\n",
    "#         task1_val_labels_loaded[key] = np.concatenate((task1_val_labels_loaded[key], np.full((max_length - len(task1_val_labels_loaded[key])), -1)))"
   ]
  },
  {
   "cell_type": "code",
   "execution_count": 38,
   "metadata": {},
   "outputs": [
    {
     "name": "stdout",
     "output_type": "stream",
     "text": [
      "{0.0, 1.0}\n"
     ]
    }
   ],
   "source": [
    "# Get all unique labels\n",
    "unique_labels = set()\n",
    "for key in task2_train_labels_loaded.keys():\n",
    "    # Check for None values and change them to 0\n",
    "    for i in range(len(task2_train_labels_loaded[key])):\n",
    "        if task2_train_labels_loaded[key][i] == None:\n",
    "            task2_train_labels_loaded[key][i] = 0\n",
    "    unique_labels.update(task2_train_labels_loaded[key])\n",
    "\n",
    "\n",
    "for key in task2_val_labels_loaded.keys():\n",
    "    # Check for None values and change them to 0\n",
    "    for i in range(len(task2_val_labels_loaded[key])):\n",
    "        if task2_val_labels_loaded[key][i] == None:\n",
    "            task2_val_labels_loaded[key][i] = 0\n",
    "    unique_labels.update(task2_val_labels_loaded[key])\n",
    "\n",
    "print(unique_labels)"
   ]
  },
  {
   "cell_type": "code",
   "execution_count": 39,
   "metadata": {},
   "outputs": [],
   "source": [
    "# Convert embeddings to lists\n",
    "train_embeddings = [train_embeddings_loaded[key] for key in train_embeddings_loaded.keys()]\n",
    "val_embeddings = [val_embeddings_loaded[key] for key in val_embeddings_loaded.keys()]"
   ]
  },
  {
   "cell_type": "code",
   "execution_count": 40,
   "metadata": {},
   "outputs": [],
   "source": [
    "# convert labels to lists\n",
    "train_labels = [task2_train_labels_loaded[key] for key in task2_train_labels_loaded.keys()]\n",
    "val_labels = [task2_val_labels_loaded[key] for key in task2_val_labels_loaded.keys()]\n",
    "\n",
    "# Convert labels to integers\n",
    "train_labels = [[int(label) for label in labels] for labels in train_labels]\n",
    "val_labels = [[int(label) for label in labels] for labels in val_labels]"
   ]
  },
  {
   "cell_type": "code",
   "execution_count": 41,
   "metadata": {},
   "outputs": [],
   "source": [
    "import torch\n",
    "from torch.utils.data import Dataset, DataLoader\n",
    "\n",
    "class EmotionDataset(Dataset):\n",
    "    def __init__(self, embeddings, labels):\n",
    "        self.embeddings = embeddings  # List of embedding matrices\n",
    "        self.labels = labels  # List of label arrays\n",
    "\n",
    "    def __len__(self):\n",
    "        return len(self.embeddings)\n",
    "\n",
    "    def __getitem__(self, idx):\n",
    "        return torch.tensor(self.embeddings[idx]), torch.tensor(self.labels[idx], dtype=torch.long)\n",
    "    \n",
    "def collate_fn(batch):\n",
    "    embeddings, labels = zip(*batch)\n",
    "    embeddings_pad = torch.nn.utils.rnn.pad_sequence(embeddings, batch_first=True, padding_value=0)\n",
    "    labels_pad = torch.nn.utils.rnn.pad_sequence(labels, batch_first=True, padding_value=-1)  # Use -1 for padding\n",
    "    return embeddings_pad, labels_pad"
   ]
  },
  {
   "cell_type": "code",
   "execution_count": 42,
   "metadata": {},
   "outputs": [],
   "source": [
    "# Make train dataset and dataloader\n",
    "train_dataset = EmotionDataset(train_embeddings, train_labels)\n",
    "train_dataloader = DataLoader(train_dataset, batch_size=32, shuffle=True, collate_fn=collate_fn)\n",
    "\n",
    "# Make val dataset and dataloader\n",
    "val_dataset = EmotionDataset(val_embeddings, val_labels)\n",
    "val_dataloader = DataLoader(val_dataset, batch_size=32, shuffle=False, collate_fn=collate_fn)"
   ]
  },
  {
   "cell_type": "code",
   "execution_count": 43,
   "metadata": {},
   "outputs": [],
   "source": [
    "import torch.nn as nn\n",
    "\n",
    "class RNNModel(nn.Module):\n",
    "    def __init__(self, input_size, hidden_size, output_size, num_layers=1):\n",
    "        super(RNNModel, self).__init__()\n",
    "        self.rnn = nn.RNN(input_size, hidden_size, num_layers, batch_first=True)\n",
    "        self.fc = nn.Linear(hidden_size, output_size)\n",
    "\n",
    "    def forward(self, x):\n",
    "        output, _ = self.rnn(x)\n",
    "        output = self.fc(output)\n",
    "        return output"
   ]
  },
  {
   "cell_type": "code",
   "execution_count": 44,
   "metadata": {},
   "outputs": [],
   "source": [
    "# Initialize the model\n",
    "INPUT_SIZE = 384 # Dimension of the input embeddings\n",
    "HIDDEN_SIZE = 128 # Dimension of the hidden state\n",
    "OUTPUT_SIZE = 2 # Number of classes\n",
    "\n",
    "model = RNNModel(INPUT_SIZE, HIDDEN_SIZE, OUTPUT_SIZE)"
   ]
  },
  {
   "cell_type": "code",
   "execution_count": 45,
   "metadata": {},
   "outputs": [],
   "source": [
    "# Define the loss function and optimizer\n",
    "from torch.optim import Adam\n",
    "\n",
    "loss_fn = nn.CrossEntropyLoss(ignore_index=-1)\n",
    "optimizer = Adam(model.parameters(), lr=0.001)"
   ]
  },
  {
   "cell_type": "code",
   "execution_count": 46,
   "metadata": {},
   "outputs": [],
   "source": [
    "# Compute F1 metrics\n",
    "from sklearn.metrics import f1_score\n",
    "\n",
    "# Predictions and labels should be flattened arrays\n",
    "def compute_metrics(predictions, labels):\n",
    "    # Ignore the padding value -1 \n",
    "    # Also ignore where both the prediction and label are 0\n",
    "    mask = (labels != -1) & ((labels != 0) | (predictions != 0))\n",
    "    masked_labels = labels[mask]\n",
    "    masked_predictions = predictions[mask]\n",
    "\n",
    "    if len(masked_labels) == 0 or len(masked_predictions) == 0:\n",
    "        #print(\"Warning: No valid data points were found after masking. Returning zero F1 scores.\")\n",
    "        return 0.0, 0.0\n",
    "    \n",
    "    weighted_f1 = f1_score(masked_labels, masked_predictions, average='weighted')\n",
    "    macro_f1 = f1_score(masked_labels, masked_predictions, average='macro')\n",
    "    f1 = f1_score(masked_labels, masked_predictions)\n",
    "    return weighted_f1, macro_f1, f1"
   ]
  },
  {
   "cell_type": "code",
   "execution_count": 47,
   "metadata": {},
   "outputs": [
    {
     "name": "stdout",
     "output_type": "stream",
     "text": [
      "Epoch 1/20\n",
      "Train Loss: 0.4522, Train F1: 0.0364, Train Weighted F1: 0.0325, Train Macro F1: 0.0182, Val Loss: 0.4080, Val F1: 0.0000, Val Weighted F1: 0.0000, Val Macro F1: 0.0000\n",
      "Epoch 2/20\n",
      "Train Loss: 0.4185, Train F1: 0.0045, Train Weighted F1: 0.0044, Train Macro F1: 0.0022, Val Loss: 0.4160, Val F1: 0.0202, Val Weighted F1: 0.0198, Val Macro F1: 0.0101\n",
      "Epoch 3/20\n",
      "Train Loss: 0.4139, Train F1: 0.0143, Train Weighted F1: 0.0142, Train Macro F1: 0.0072, Val Loss: 0.3954, Val F1: 0.0000, Val Weighted F1: 0.0000, Val Macro F1: 0.0000\n",
      "Epoch 4/20\n",
      "Train Loss: 0.4093, Train F1: 0.0300, Train Weighted F1: 0.0296, Train Macro F1: 0.0150, Val Loss: 0.3993, Val F1: 0.0606, Val Weighted F1: 0.0588, Val Macro F1: 0.0303\n",
      "Epoch 5/20\n",
      "Train Loss: 0.4039, Train F1: 0.0370, Train Weighted F1: 0.0362, Train Macro F1: 0.0185, Val Loss: 0.3885, Val F1: 0.0112, Val Weighted F1: 0.0112, Val Macro F1: 0.0056\n",
      "Epoch 6/20\n",
      "Train Loss: 0.3979, Train F1: 0.0749, Train Weighted F1: 0.0727, Train Macro F1: 0.0375, Val Loss: 0.3903, Val F1: 0.1077, Val Weighted F1: 0.1012, Val Macro F1: 0.0538\n",
      "Epoch 7/20\n",
      "Train Loss: 0.3983, Train F1: 0.0872, Train Weighted F1: 0.0838, Train Macro F1: 0.0436, Val Loss: 0.3878, Val F1: 0.0876, Val Weighted F1: 0.0848, Val Macro F1: 0.0438\n",
      "Epoch 8/20\n",
      "Train Loss: 0.3935, Train F1: 0.1123, Train Weighted F1: 0.1071, Train Macro F1: 0.0561, Val Loss: 0.3844, Val F1: 0.0679, Val Weighted F1: 0.0665, Val Macro F1: 0.0340\n",
      "Epoch 9/20\n",
      "Train Loss: 0.3898, Train F1: 0.1422, Train Weighted F1: 0.1341, Train Macro F1: 0.0711, Val Loss: 0.3831, Val F1: 0.0222, Val Weighted F1: 0.0221, Val Macro F1: 0.0111\n",
      "Epoch 10/20\n",
      "Train Loss: 0.3882, Train F1: 0.1566, Train Weighted F1: 0.1476, Train Macro F1: 0.0783, Val Loss: 0.3837, Val F1: 0.1427, Val Weighted F1: 0.1350, Val Macro F1: 0.0714\n",
      "Epoch 11/20\n",
      "Train Loss: 0.3850, Train F1: 0.1695, Train Weighted F1: 0.1596, Train Macro F1: 0.0848, Val Loss: 0.3779, Val F1: 0.1210, Val Weighted F1: 0.1160, Val Macro F1: 0.0605\n",
      "Epoch 12/20\n",
      "Train Loss: 0.3854, Train F1: 0.1757, Train Weighted F1: 0.1636, Train Macro F1: 0.0878, Val Loss: 0.3780, Val F1: 0.1318, Val Weighted F1: 0.1260, Val Macro F1: 0.0659\n",
      "Epoch 13/20\n",
      "Train Loss: 0.3812, Train F1: 0.1933, Train Weighted F1: 0.1793, Train Macro F1: 0.0967, Val Loss: 0.3851, Val F1: 0.2433, Val Weighted F1: 0.2134, Val Macro F1: 0.1216\n",
      "Epoch 14/20\n",
      "Train Loss: 0.3789, Train F1: 0.2074, Train Weighted F1: 0.1909, Train Macro F1: 0.1037, Val Loss: 0.3746, Val F1: 0.2157, Val Weighted F1: 0.1971, Val Macro F1: 0.1079\n",
      "Epoch 15/20\n",
      "Train Loss: 0.3773, Train F1: 0.2175, Train Weighted F1: 0.1983, Train Macro F1: 0.1088, Val Loss: 0.3744, Val F1: 0.1570, Val Weighted F1: 0.1490, Val Macro F1: 0.0785\n",
      "Epoch 16/20\n",
      "Train Loss: 0.3788, Train F1: 0.2182, Train Weighted F1: 0.1997, Train Macro F1: 0.1091, Val Loss: 0.3722, Val F1: 0.1695, Val Weighted F1: 0.1613, Val Macro F1: 0.0848\n",
      "Epoch 17/20\n",
      "Train Loss: 0.3773, Train F1: 0.2274, Train Weighted F1: 0.2081, Train Macro F1: 0.1137, Val Loss: 0.3743, Val F1: 0.1761, Val Weighted F1: 0.1650, Val Macro F1: 0.0880\n",
      "Epoch 18/20\n",
      "Train Loss: 0.3735, Train F1: 0.2435, Train Weighted F1: 0.2218, Train Macro F1: 0.1217, Val Loss: 0.3760, Val F1: 0.1407, Val Weighted F1: 0.1341, Val Macro F1: 0.0704\n",
      "Epoch 19/20\n",
      "Train Loss: 0.3740, Train F1: 0.2397, Train Weighted F1: 0.2168, Train Macro F1: 0.1198, Val Loss: 0.3755, Val F1: 0.1917, Val Weighted F1: 0.1762, Val Macro F1: 0.0958\n",
      "Epoch 20/20\n",
      "Train Loss: 0.3707, Train F1: 0.2486, Train Weighted F1: 0.2249, Train Macro F1: 0.1243, Val Loss: 0.3699, Val F1: 0.2444, Val Weighted F1: 0.2182, Val Macro F1: 0.1222\n"
     ]
    }
   ],
   "source": [
    "# Train the model\n",
    "num_epochs = 20\n",
    "\n",
    "train_f1s = []\n",
    "val_f1s = []\n",
    "train_losses = []\n",
    "val_losses = []\n",
    "\n",
    "for epoch in range(num_epochs):\n",
    "    # Train the model\n",
    "    model.train()\n",
    "    train_loss = 0\n",
    "    train_predictions = []\n",
    "    train_labels = []\n",
    "\n",
    "    for embeddings, labels in train_dataloader:\n",
    "        optimizer.zero_grad()\n",
    "        output = model(embeddings)\n",
    "        \n",
    "        # Flatten the output and labels\n",
    "        output = output.view(-1, output.shape[-1]) # (batch_size * max_length, num_classes)\n",
    "        labels = labels.view(-1)\n",
    "\n",
    "        loss = loss_fn(output, labels)\n",
    "        loss.backward()\n",
    "        optimizer.step()\n",
    "\n",
    "        train_loss += loss.item()\n",
    "\n",
    "        # Get the predictions\n",
    "        predictions = output.argmax(dim=-1)\n",
    "\n",
    "        train_predictions.append(predictions.detach().cpu().numpy())\n",
    "        train_labels.append(labels.detach().cpu().numpy())\n",
    "\n",
    "    train_predictions = np.concatenate(train_predictions)\n",
    "    train_labels = np.concatenate(train_labels)\n",
    "    train_loss /= len(train_dataloader)\n",
    "\n",
    "    weighted_f1, macro_f1, f1 = compute_metrics(train_predictions, train_labels)\n",
    "\n",
    "    train_f1s.append(f1)\n",
    "    train_losses.append(train_loss)\n",
    "\n",
    "    # Evaluate the model on the validation set\n",
    "    model.eval()\n",
    "    val_loss = 0\n",
    "    val_predictions = []\n",
    "    val_labels = []\n",
    "\n",
    "    with torch.no_grad():\n",
    "        for embeddings, labels in val_dataloader:\n",
    "            output = model(embeddings)\n",
    "            \n",
    "            # Flatten the output and labels\n",
    "            output = output.view(-1, output.shape[-1])\n",
    "            labels = labels.view(-1)\n",
    "\n",
    "            loss = loss_fn(output, labels)\n",
    "            val_loss += loss.item()\n",
    "\n",
    "            # Get the predictions\n",
    "            predictions = output.argmax(dim=-1)\n",
    "\n",
    "            val_predictions.append(predictions.detach().cpu().numpy())\n",
    "            val_labels.append(labels.detach().cpu().numpy())\n",
    "\n",
    "    val_predictions = np.concatenate(val_predictions)\n",
    "    val_labels = np.concatenate(val_labels)\n",
    "\n",
    "    val_loss /= len(val_dataloader)\n",
    "\n",
    "    weighted_f1_val, macro_f1_val, f1_val = compute_metrics(val_predictions, val_labels)\n",
    "\n",
    "    val_f1s.append(f1_val)\n",
    "    val_losses.append(val_loss)\n",
    "\n",
    "    print(f\"Epoch {epoch+1}/{num_epochs}\")\n",
    "    print(f\"Train Loss: {train_loss:.4f}, Train F1: {f1:.4f}, Train Weighted F1: {weighted_f1:.4f}, Train Macro F1: {macro_f1:.4f}, Val Loss: {val_loss:.4f}, Val F1: {f1_val:.4f}, Val Weighted F1: {weighted_f1_val:.4f}, Val Macro F1: {macro_f1_val:.4f}\")"
   ]
  },
  {
   "cell_type": "code",
   "execution_count": 48,
   "metadata": {},
   "outputs": [
    {
     "data": {
      "image/png": "[encoded data removed]",
      "text/plain": [
       "<Figure size 432x288 with 1 Axes>"
      ]
     },
     "metadata": {
      "needs_background": "light"
     },
     "output_type": "display_data"
    }
   ],
   "source": [
    "# Plot the training and validation loss\n",
    "import matplotlib.pyplot as plt\n",
    "\n",
    "plt.plot(train_losses, label=\"Train Loss\")\n",
    "plt.plot(val_losses, label=\"Val Loss\")\n",
    "plt.title(\"Training and Validation Loss for Task 2 - Model M3\")\n",
    "\n",
    "plt.xlabel(\"Epoch\")\n",
    "plt.ylabel(\"Loss\")\n",
    "\n",
    "plt.legend()\n",
    "plt.show()"
   ]
  },
  {
   "cell_type": "code",
   "execution_count": 49,
   "metadata": {},
   "outputs": [
    {
     "data": {
      "image/png": "[encoded data removed]",
      "text/plain": [
       "<Figure size 432x288 with 1 Axes>"
      ]
     },
     "metadata": {
      "needs_background": "light"
     },
     "output_type": "display_data"
    }
   ],
   "source": [
    "# Plot the training and validation F1 scores\n",
    "plt.plot(train_f1s, label=\"Train F1\")\n",
    "plt.plot(val_f1s, label=\"Val F1\")\n",
    "\n",
    "plt.xlabel(\"Epoch\")\n",
    "plt.ylabel(\"Weighted F1\")\n",
    "plt.title(\"Training and Validation F1 for Task 2 - Model M3\")\n",
    "\n",
    "plt.legend()\n",
    "plt.show()"
   ]
  },
  {
   "cell_type": "code",
   "execution_count": 50,
   "metadata": {},
   "outputs": [],
   "source": [
    "# Save the model\n",
    "torch.save(model.state_dict(), \"M3_Task2.pth\")"
   ]
  },
  {
   "cell_type": "code",
   "execution_count": 56,
   "metadata": {},
   "outputs": [
    {
     "name": "stdout",
     "output_type": "stream",
     "text": [
      "Predictions: tensor([0, 0, 0, 0, 0, 0, 0, 0, 0, 0, 0, 0, 0, 1, 0, 0, 0])\n",
      "True labels: tensor([0, 0, 0, 0, 0, 0, 0, 0, 0, 0, 0, 0, 0, 0, 1, 1, 1])\n",
      "Weighted F1: 0.0\n",
      "Macro F1: 0.0\n",
      "F1: 0.0\n"
     ]
    }
   ],
   "source": [
    "# Run inference on a random sample from the validation set\n",
    "# Pick a random sample from the validation set\n",
    "# Print the predicted and true labels\n",
    "\n",
    "sample_idx = 312\n",
    "sample_embeddings, sample_labels = val_dataset[sample_idx]\n",
    "sample_embeddings = sample_embeddings.unsqueeze(0)  # Add a batch dimension\n",
    "sample_labels = sample_labels.unsqueeze(0)\n",
    "\n",
    "model.eval()\n",
    "with torch.no_grad():\n",
    "    output = model(sample_embeddings)\n",
    "    predictions = output.argmax(dim=-1)\n",
    "\n",
    "    print(\"Predictions:\", predictions[0])\n",
    "    print(\"True labels:\", sample_labels[0])\n",
    "\n",
    "    # Calculate the F1 score\n",
    "    weighted_f1_sample, macro_f1_sample, f1_sample = compute_metrics(predictions.cpu().numpy(), sample_labels.cpu().numpy())\n",
    "    print(\"Weighted F1:\", weighted_f1_sample)\n",
    "    print(\"Macro F1:\", macro_f1_sample)\n",
    "    print(\"F1:\", f1_sample)"
   ]
  }
 ],
 "metadata": {
  "kernelspec": {
   "display_name": "Python 3",
   "language": "python",
   "name": "python3"
  },
  "language_info": {
   "codemirror_mode": {
    "name": "ipython",
    "version": 3
   },
   "file_extension": ".py",
   "mimetype": "text/x-python",
   "name": "python",
   "nbconvert_exporter": "python",
   "pygments_lexer": "ipython3",
   "version": "3.10.0"
  }
 },
 "nbformat": 4,
 "nbformat_minor": 2
}
