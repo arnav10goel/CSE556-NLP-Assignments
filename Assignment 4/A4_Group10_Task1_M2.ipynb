{
 "cells": [
  {
   "cell_type": "code",
   "execution_count": 1,
   "metadata": {},
   "outputs": [],
   "source": [
    "import pickle\n",
    "import numpy as np\n",
    "import pandas as pd\n",
    "\n",
    "# Load these embeddings from the pickle files\n",
    "train_embeddings_file = \"train_embeddings.pkl\"\n",
    "val_embeddings_file = \"val_embeddings.pkl\"\n",
    "\n",
    "train_embeddings_loaded = pickle.load(open(train_embeddings_file, \"rb\"))\n",
    "val_embeddings_loaded = pickle.load(open(val_embeddings_file, \"rb\"))"
   ]
  },
  {
   "cell_type": "code",
   "execution_count": 2,
   "metadata": {},
   "outputs": [],
   "source": [
    "# Load the labels from the pickle files\n",
    "task1_train_labels = \"task1_labels_train.pkl\"\n",
    "task1_val_labels = \"task1_labels_dev.pkl\"\n",
    "\n",
    "task1_train_labels_loaded = pickle.load(open(task1_train_labels, \"rb\"))\n",
    "task1_val_labels_loaded = pickle.load(open(task1_val_labels, \"rb\"))"
   ]
  },
  {
   "cell_type": "code",
   "execution_count": 19,
   "metadata": {},
   "outputs": [],
   "source": [
    "# # For each key, pad the embeddings and labels to the maximum length of 24\n",
    "# # Pad the embeddings with zeros and the labels with -1\n",
    "# max_length = 24\n",
    "\n",
    "# for key in train_embeddings_loaded.keys():\n",
    "#     if len(train_embeddings_loaded[key]) < max_length:\n",
    "#         train_embeddings_loaded[key] = np.concatenate((train_embeddings_loaded[key], np.zeros((max_length - len(train_embeddings_loaded[key]), 384))))\n",
    "#         task1_train_labels_loaded[key] = np.concatenate((task1_train_labels_loaded[key], np.full((max_length - len(task1_train_labels_loaded[key])), -1)))\n",
    "\n",
    "# for key in val_embeddings_loaded.keys():\n",
    "#     if len(val_embeddings_loaded[key]) < max_length:\n",
    "#         val_embeddings_loaded[key] = np.concatenate((val_embeddings_loaded[key], np.zeros((max_length - len(val_embeddings_loaded[key]), 384))))\n",
    "#         task1_val_labels_loaded[key] = np.concatenate((task1_val_labels_loaded[key], np.full((max_length - len(task1_val_labels_loaded[key])), -1)))"
   ]
  },
  {
   "cell_type": "code",
   "execution_count": 3,
   "metadata": {},
   "outputs": [
    {
     "name": "stdout",
     "output_type": "stream",
     "text": [
      "{'sadness', 'neutral', 'disgust', 'fear', 'surprise', 'anger', 'joy'}\n"
     ]
    }
   ],
   "source": [
    "# Get all unique labels\n",
    "unique_labels = set()\n",
    "for key in task1_train_labels_loaded.keys():\n",
    "    unique_labels.update(task1_train_labels_loaded[key])\n",
    "\n",
    "for key in task1_val_labels_loaded.keys():\n",
    "    unique_labels.update(task1_val_labels_loaded[key])\n",
    "\n",
    "print(unique_labels)"
   ]
  },
  {
   "cell_type": "code",
   "execution_count": 4,
   "metadata": {},
   "outputs": [],
   "source": [
    "# Encode the labels by a fixed mapping\n",
    "mapping = {\n",
    "    \"-1\": 0,\n",
    "    \"sadness\": 1,\n",
    "    \"joy\": 2,\n",
    "    \"fear\": 3,\n",
    "    \"anger\": 4,\n",
    "    \"surprise\": 5,\n",
    "    \"disgust\": 6,\n",
    "    \"neutral\": 7\n",
    "}\n",
    "\n",
    "# Convert labels to indices and store in lists using list comprehension\n",
    "train_labels = [np.array([mapping[str(label)] for label in task1_train_labels_loaded[key]]) for key in task1_train_labels_loaded.keys()]\n",
    "val_labels = [np.array([mapping[str(label)] for label in task1_val_labels_loaded[key]]) for key in task1_val_labels_loaded.keys()]"
   ]
  },
  {
   "cell_type": "code",
   "execution_count": 5,
   "metadata": {},
   "outputs": [],
   "source": [
    "# Convert embeddings to lists\n",
    "train_embeddings = [train_embeddings_loaded[key] for key in train_embeddings_loaded.keys()]\n",
    "val_embeddings = [val_embeddings_loaded[key] for key in val_embeddings_loaded.keys()]"
   ]
  },
  {
   "cell_type": "code",
   "execution_count": 6,
   "metadata": {},
   "outputs": [],
   "source": [
    "import torch\n",
    "from torch.utils.data import Dataset, DataLoader\n",
    "\n",
    "class EmotionDataset(Dataset):\n",
    "    def __init__(self, embeddings, labels):\n",
    "        self.embeddings = embeddings  # List of embedding matrices\n",
    "        self.labels = labels  # List of label arrays\n",
    "\n",
    "    def __len__(self):\n",
    "        return len(self.embeddings)\n",
    "\n",
    "    def __getitem__(self, idx):\n",
    "        return torch.tensor(self.embeddings[idx]), torch.tensor(self.labels[idx], dtype=torch.long)\n",
    "    \n",
    "def collate_fn(batch):\n",
    "    embeddings, labels = zip(*batch)\n",
    "    embeddings_pad = torch.nn.utils.rnn.pad_sequence(embeddings, batch_first=True, padding_value=0)\n",
    "    labels_pad = torch.nn.utils.rnn.pad_sequence(labels, batch_first=True, padding_value=-1)  # Use -1 for padding\n",
    "    return embeddings_pad, labels_pad"
   ]
  },
  {
   "cell_type": "code",
   "execution_count": 7,
   "metadata": {},
   "outputs": [],
   "source": [
    "# Make train dataset and dataloader\n",
    "train_dataset = EmotionDataset(train_embeddings, train_labels)\n",
    "train_dataloader = DataLoader(train_dataset, batch_size=32, shuffle=True, collate_fn=collate_fn)\n",
    "\n",
    "# Make val dataset and dataloader\n",
    "val_dataset = EmotionDataset(val_embeddings, val_labels)\n",
    "val_dataloader = DataLoader(val_dataset, batch_size=32, shuffle=False, collate_fn=collate_fn)"
   ]
  },
  {
   "cell_type": "code",
   "execution_count": 8,
   "metadata": {},
   "outputs": [],
   "source": [
    "import torch.nn as nn\n",
    "\n",
    "class GRUModel(nn.Module):\n",
    "    def __init__(self, input_size, hidden_size, output_size, num_layers=1):\n",
    "        super(GRUModel, self).__init__()\n",
    "        self.gru = nn.GRU(input_size, hidden_size, num_layers, batch_first=True, bidirectional=True)\n",
    "        self.fc = nn.Linear(hidden_size*2, output_size)\n",
    "\n",
    "    def forward(self, x):\n",
    "        output, _ = self.gru(x)\n",
    "        output = self.fc(output)\n",
    "        return output"
   ]
  },
  {
   "cell_type": "code",
   "execution_count": 9,
   "metadata": {},
   "outputs": [],
   "source": [
    "# Initialize the model\n",
    "INPUT_SIZE = 384 # Dimension of the input embeddings\n",
    "HIDDEN_SIZE = 128 # Dimension of the hidden state\n",
    "OUTPUT_SIZE = 8 # Number of classes\n",
    "\n",
    "model = GRUModel(INPUT_SIZE, HIDDEN_SIZE, OUTPUT_SIZE)"
   ]
  },
  {
   "cell_type": "code",
   "execution_count": 10,
   "metadata": {},
   "outputs": [],
   "source": [
    "# Define the loss function and optimizer\n",
    "from torch.optim import Adam\n",
    "\n",
    "loss_fn = nn.CrossEntropyLoss(ignore_index=0)\n",
    "optimizer = Adam(model.parameters(), lr=0.001)"
   ]
  },
  {
   "cell_type": "code",
   "execution_count": 11,
   "metadata": {},
   "outputs": [],
   "source": [
    "# Compute F1 metrics\n",
    "from sklearn.metrics import f1_score\n",
    "\n",
    "# Predictions and labels should be flattened arrays\n",
    "def compute_metrics(predictions, labels):\n",
    "    mask = labels != -1  # Ignore padded labels\n",
    "    masked_labels = labels[mask]\n",
    "    masked_predictions = predictions[mask]\n",
    "    weighted_f1 = f1_score(masked_labels, masked_predictions, average='weighted')\n",
    "    macro_f1 = f1_score(masked_labels, masked_predictions, average='macro')\n",
    "    return weighted_f1, macro_f1"
   ]
  },
  {
   "cell_type": "code",
   "execution_count": 12,
   "metadata": {},
   "outputs": [
    {
     "name": "stdout",
     "output_type": "stream",
     "text": [
      "Epoch 1/20, Train Loss: 1.4696, Train Weighted F1: 0.3837, Train Macro F1: 0.1854, Val Loss: 1.2700, Val Weighted F1: 0.4980, Val Macro F1: 0.2795\n",
      "Epoch 2/20, Train Loss: 1.1894, Train Weighted F1: 0.5453, Train Macro F1: 0.3353, Val Loss: 1.1409, Val Weighted F1: 0.5669, Val Macro F1: 0.3631\n",
      "Epoch 3/20, Train Loss: 1.0823, Train Weighted F1: 0.5889, Train Macro F1: 0.3881, Val Loss: 1.0402, Val Weighted F1: 0.6037, Val Macro F1: 0.4218\n",
      "Epoch 4/20, Train Loss: 0.9740, Train Weighted F1: 0.6379, Train Macro F1: 0.4696, Val Loss: 0.9249, Val Weighted F1: 0.6611, Val Macro F1: 0.5111\n",
      "Epoch 5/20, Train Loss: 0.8550, Train Weighted F1: 0.6968, Train Macro F1: 0.5658, Val Loss: 0.8270, Val Weighted F1: 0.7100, Val Macro F1: 0.5877\n",
      "Epoch 6/20, Train Loss: 0.7352, Train Weighted F1: 0.7507, Train Macro F1: 0.6452, Val Loss: 0.6992, Val Weighted F1: 0.7699, Val Macro F1: 0.6700\n",
      "Epoch 7/20, Train Loss: 0.6200, Train Weighted F1: 0.7970, Train Macro F1: 0.7099, Val Loss: 0.5945, Val Weighted F1: 0.8191, Val Macro F1: 0.7328\n",
      "Epoch 8/20, Train Loss: 0.5184, Train Weighted F1: 0.8377, Train Macro F1: 0.7670, Val Loss: 0.5052, Val Weighted F1: 0.8518, Val Macro F1: 0.7809\n",
      "Epoch 9/20, Train Loss: 0.4235, Train Weighted F1: 0.8758, Train Macro F1: 0.8200, Val Loss: 0.4276, Val Weighted F1: 0.8756, Val Macro F1: 0.8243\n",
      "Epoch 10/20, Train Loss: 0.3479, Train Weighted F1: 0.9006, Train Macro F1: 0.8552, Val Loss: 0.3772, Val Weighted F1: 0.8942, Val Macro F1: 0.8463\n",
      "Epoch 11/20, Train Loss: 0.2778, Train Weighted F1: 0.9229, Train Macro F1: 0.8873, Val Loss: 0.3154, Val Weighted F1: 0.9158, Val Macro F1: 0.8774\n",
      "Epoch 12/20, Train Loss: 0.2312, Train Weighted F1: 0.9380, Train Macro F1: 0.9086, Val Loss: 0.2839, Val Weighted F1: 0.9251, Val Macro F1: 0.8917\n",
      "Epoch 13/20, Train Loss: 0.1868, Train Weighted F1: 0.9502, Train Macro F1: 0.9249, Val Loss: 0.2507, Val Weighted F1: 0.9357, Val Macro F1: 0.9067\n",
      "Epoch 14/20, Train Loss: 0.1544, Train Weighted F1: 0.9609, Train Macro F1: 0.9410, Val Loss: 0.2332, Val Weighted F1: 0.9442, Val Macro F1: 0.9195\n",
      "Epoch 15/20, Train Loss: 0.1289, Train Weighted F1: 0.9681, Train Macro F1: 0.9511, Val Loss: 0.2119, Val Weighted F1: 0.9501, Val Macro F1: 0.9289\n",
      "Epoch 16/20, Train Loss: 0.1064, Train Weighted F1: 0.9752, Train Macro F1: 0.9625, Val Loss: 0.1913, Val Weighted F1: 0.9576, Val Macro F1: 0.9383\n",
      "Epoch 17/20, Train Loss: 0.0881, Train Weighted F1: 0.9806, Train Macro F1: 0.9718, Val Loss: 0.1867, Val Weighted F1: 0.9586, Val Macro F1: 0.9394\n",
      "Epoch 18/20, Train Loss: 0.0742, Train Weighted F1: 0.9835, Train Macro F1: 0.9745, Val Loss: 0.1682, Val Weighted F1: 0.9630, Val Macro F1: 0.9488\n",
      "Epoch 19/20, Train Loss: 0.0660, Train Weighted F1: 0.9862, Train Macro F1: 0.9796, Val Loss: 0.1654, Val Weighted F1: 0.9656, Val Macro F1: 0.9528\n",
      "Epoch 20/20, Train Loss: 0.0530, Train Weighted F1: 0.9895, Train Macro F1: 0.9841, Val Loss: 0.1580, Val Weighted F1: 0.9654, Val Macro F1: 0.9541\n"
     ]
    }
   ],
   "source": [
    "# Train the model\n",
    "num_epochs = 20\n",
    "\n",
    "train_f1s = []\n",
    "val_f1s = []\n",
    "train_losses = []\n",
    "val_losses = []\n",
    "\n",
    "for epoch in range(num_epochs):\n",
    "    # Train the model\n",
    "    model.train()\n",
    "    train_loss = 0\n",
    "    train_predictions = []\n",
    "    train_labels = []\n",
    "\n",
    "    for embeddings, labels in train_dataloader:\n",
    "        optimizer.zero_grad()\n",
    "        output = model(embeddings)\n",
    "        \n",
    "        # Flatten the output and labels\n",
    "        output = output.view(-1, output.shape[-1]) # (batch_size * max_length, num_classes)\n",
    "        labels = labels.view(-1)\n",
    "\n",
    "        loss = loss_fn(output, labels)\n",
    "        loss.backward()\n",
    "        optimizer.step()\n",
    "\n",
    "        train_loss += loss.item()\n",
    "\n",
    "        # Get the predictions\n",
    "        predictions = output.argmax(dim=-1)\n",
    "\n",
    "        train_predictions.append(predictions.detach().cpu().numpy())\n",
    "        train_labels.append(labels.detach().cpu().numpy())\n",
    "\n",
    "    train_predictions = np.concatenate(train_predictions)\n",
    "    train_labels = np.concatenate(train_labels)\n",
    "    train_loss /= len(train_dataloader)\n",
    "\n",
    "    weighted_f1, macro_f1 = compute_metrics(train_predictions, train_labels)\n",
    "\n",
    "    train_f1s.append(weighted_f1)\n",
    "    train_losses.append(train_loss)\n",
    "\n",
    "    # Evaluate the model on the validation set\n",
    "    model.eval()\n",
    "    val_loss = 0\n",
    "    val_predictions = []\n",
    "    val_labels = []\n",
    "\n",
    "    with torch.no_grad():\n",
    "        for embeddings, labels in val_dataloader:\n",
    "            output = model(embeddings)\n",
    "            \n",
    "            # Flatten the output and labels\n",
    "            output = output.view(-1, output.shape[-1])\n",
    "            labels = labels.view(-1)\n",
    "\n",
    "            loss = loss_fn(output, labels)\n",
    "            val_loss += loss.item()\n",
    "\n",
    "            # Get the predictions\n",
    "            predictions = output.argmax(dim=-1)\n",
    "\n",
    "            val_predictions.append(predictions.detach().cpu().numpy())\n",
    "            val_labels.append(labels.detach().cpu().numpy())\n",
    "\n",
    "    val_predictions = np.concatenate(val_predictions)\n",
    "    val_labels = np.concatenate(val_labels)\n",
    "\n",
    "    val_loss /= len(val_dataloader)\n",
    "\n",
    "    weighted_f1_val, macro_f1_val = compute_metrics(val_predictions, val_labels)\n",
    "\n",
    "    val_f1s.append(weighted_f1_val)\n",
    "    val_losses.append(val_loss)\n",
    "\n",
    "    print(f\"Epoch {epoch+1}/{num_epochs}, Train Loss: {train_loss:.4f}, Train Weighted F1: {weighted_f1:.4f}, Train Macro F1: {macro_f1:.4f}, Val Loss: {val_loss:.4f}, Val Weighted F1: {weighted_f1_val:.4f}, Val Macro F1: {macro_f1_val:.4f}\")\n",
    "            "
   ]
  },
  {
   "cell_type": "code",
   "execution_count": 13,
   "metadata": {},
   "outputs": [
    {
     "data": {
      "image/png": "[encoded data removed]",
      "text/plain": [
       "<Figure size 432x288 with 1 Axes>"
      ]
     },
     "metadata": {
      "needs_background": "light"
     },
     "output_type": "display_data"
    }
   ],
   "source": [
    "# Plot the training and validation loss\n",
    "import matplotlib.pyplot as plt\n",
    "\n",
    "plt.plot(train_losses, label=\"Train Loss\")\n",
    "plt.plot(val_losses, label=\"Val Loss\")\n",
    "\n",
    "plt.xlabel(\"Epoch\")\n",
    "plt.ylabel(\"Loss\")\n",
    "\n",
    "plt.legend()\n",
    "plt.show()"
   ]
  },
  {
   "cell_type": "code",
   "execution_count": 14,
   "metadata": {},
   "outputs": [
    {
     "data": {
      "image/png": "[encoded data removed]",
      "text/plain": [
       "<Figure size 432x288 with 1 Axes>"
      ]
     },
     "metadata": {
      "needs_background": "light"
     },
     "output_type": "display_data"
    }
   ],
   "source": [
    "# Plot the training and validation F1 scores\n",
    "plt.plot(train_f1s, label=\"Train Weighted F1\")\n",
    "plt.plot(val_f1s, label=\"Val Weighted F1\")\n",
    "\n",
    "plt.xlabel(\"Epoch\")\n",
    "plt.ylabel(\"Weighted F1\")\n",
    "\n",
    "plt.legend()\n",
    "plt.show()"
   ]
  },
  {
   "cell_type": "code",
   "execution_count": 15,
   "metadata": {},
   "outputs": [],
   "source": [
    "# Save the model\n",
    "torch.save(model.state_dict(), \"M2_Task1.pth\")"
   ]
  }
 ],
 "metadata": {
  "kernelspec": {
   "display_name": "Python 3",
   "language": "python",
   "name": "python3"
  },
  "language_info": {
   "codemirror_mode": {
    "name": "ipython",
    "version": 3
   },
   "file_extension": ".py",
   "mimetype": "text/x-python",
   "name": "python",
   "nbconvert_exporter": "python",
   "pygments_lexer": "ipython3",
   "version": "3.10.0"
  }
 },
 "nbformat": 4,
 "nbformat_minor": 2
}
