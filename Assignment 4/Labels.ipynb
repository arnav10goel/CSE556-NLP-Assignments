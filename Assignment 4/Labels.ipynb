{
 "cells": [
  {
   "cell_type": "markdown",
   "metadata": {},
   "source": [
    "- Import libraries"
   ]
  },
  {
   "cell_type": "code",
   "execution_count": 1,
   "metadata": {},
   "outputs": [],
   "source": [
    "import json\n",
    "import os\n",
    "\n",
    "# Import the json file\n",
    "with open('train.json') as f:\n",
    "    train_data = json.load(f)"
   ]
  },
  {
   "cell_type": "code",
   "execution_count": 2,
   "metadata": {},
   "outputs": [],
   "source": [
    "task1_labels_train = {}\n",
    "task2_labels_train = {}\n",
    "speakers_train = {}\n",
    "\n",
    "for data in train_data:\n",
    "    task1_labels_train[data['episode']] = data['emotions']\n",
    "    task2_labels_train[data['episode']] = data['triggers']\n",
    "    speakers_train[data['episode']] = data['speakers']\n",
    "\n",
    "# Dump the data to pickle files\n",
    "import pickle\n",
    "with open('task1_labels_train.pkl', 'wb') as f:\n",
    "    pickle.dump(task1_labels_train, f)\n",
    "\n",
    "with open('task2_labels_train.pkl', 'wb') as f:\n",
    "    pickle.dump(task2_labels_train, f)\n",
    "\n",
    "with open('speakers_train.pkl', 'wb') as f:\n",
    "    pickle.dump(speakers_train, f)"
   ]
  },
  {
   "cell_type": "code",
   "execution_count": 4,
   "metadata": {},
   "outputs": [],
   "source": [
    "# Open validation data\n",
    "with open('val.json') as f:\n",
    "    valid_data = json.load(f)\n",
    "\n",
    "task1_labels_dev = {}\n",
    "task2_labels_dev = {}\n",
    "speakers_dev = {}\n",
    "\n",
    "for data in valid_data:\n",
    "    task1_labels_dev[data['episode']] = data['emotions']\n",
    "    task2_labels_dev[data['episode']] = data['triggers']\n",
    "    speakers_dev[data['episode']] = data['speakers']\n",
    "\n",
    "# Dump the data to pickle files\n",
    "with open('task1_labels_dev.pkl', 'wb') as f:\n",
    "    pickle.dump(task1_labels_dev, f)\n",
    "\n",
    "with open('task2_labels_dev.pkl', 'wb') as f:\n",
    "    pickle.dump(task2_labels_dev, f)\n",
    "\n",
    "with open('speakers_dev.pkl', 'wb') as f:\n",
    "    pickle.dump(speakers_dev, f)"
   ]
  }
 ],
 "metadata": {
  "kernelspec": {
   "display_name": "Python 3",
   "language": "python",
   "name": "python3"
  },
  "language_info": {
   "codemirror_mode": {
    "name": "ipython",
    "version": 3
   },
   "file_extension": ".py",
   "mimetype": "text/x-python",
   "name": "python",
   "nbconvert_exporter": "python",
   "pygments_lexer": "ipython3",
   "version": "3.10.0"
  }
 },
 "nbformat": 4,
 "nbformat_minor": 2
}
