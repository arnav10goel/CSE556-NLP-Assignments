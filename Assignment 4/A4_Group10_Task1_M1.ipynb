{
 "cells": [
  {
   "cell_type": "markdown",
   "metadata": {},
   "source": [
    "### Task 1 - M1"
   ]
  },
  {
   "cell_type": "code",
   "execution_count": 1,
   "metadata": {},
   "outputs": [],
   "source": [
    "import pickle\n",
    "import numpy as np\n",
    "import pandas as pd\n",
    "\n",
    "# Load these embeddings from the pickle files\n",
    "train_embeddings_file = \"train_embeddings.pkl\"\n",
    "val_embeddings_file = \"val_embeddings.pkl\"\n",
    "\n",
    "train_embeddings_loaded = pickle.load(open(train_embeddings_file, \"rb\"))\n",
    "val_embeddings_loaded = pickle.load(open(val_embeddings_file, \"rb\"))"
   ]
  },
  {
   "cell_type": "code",
   "execution_count": 2,
   "metadata": {},
   "outputs": [],
   "source": [
    "# Load the labels from the pickle files\n",
    "task1_train_labels = \"task1_labels_train.pkl\"\n",
    "task1_val_labels = \"task1_labels_dev.pkl\"\n",
    "\n",
    "task1_train_labels_loaded = pickle.load(open(task1_train_labels, \"rb\"))\n",
    "task1_val_labels_loaded = pickle.load(open(task1_val_labels, \"rb\"))"
   ]
  },
  {
   "cell_type": "code",
   "execution_count": 3,
   "metadata": {},
   "outputs": [],
   "source": [
    "# # For each key, pad the embeddings and labels to the maximum length of 24\n",
    "# # Pad the embeddings with zeros and the labels with -1\n",
    "# max_length = 24\n",
    "\n",
    "# for key in train_embeddings_loaded.keys():\n",
    "#     if len(train_embeddings_loaded[key]) < max_length:\n",
    "#         train_embeddings_loaded[key] = np.concatenate((train_embeddings_loaded[key], np.zeros((max_length - len(train_embeddings_loaded[key]), 384))))\n",
    "#         task1_train_labels_loaded[key] = np.concatenate((task1_train_labels_loaded[key], np.full((max_length - len(task1_train_labels_loaded[key])), -1)))\n",
    "\n",
    "# for key in val_embeddings_loaded.keys():\n",
    "#     if len(val_embeddings_loaded[key]) < max_length:\n",
    "#         val_embeddings_loaded[key] = np.concatenate((val_embeddings_loaded[key], np.zeros((max_length - len(val_embeddings_loaded[key]), 384))))\n",
    "#         task1_val_labels_loaded[key] = np.concatenate((task1_val_labels_loaded[key], np.full((max_length - len(task1_val_labels_loaded[key])), -1)))"
   ]
  },
  {
   "cell_type": "code",
   "execution_count": 4,
   "metadata": {},
   "outputs": [
    {
     "name": "stdout",
     "output_type": "stream",
     "text": [
      "{'joy', 'anger', 'sadness', 'disgust', 'fear', 'neutral', 'surprise'}\n"
     ]
    }
   ],
   "source": [
    "# Get all unique labels\n",
    "unique_labels = set()\n",
    "for key in task1_train_labels_loaded.keys():\n",
    "    unique_labels.update(task1_train_labels_loaded[key])\n",
    "\n",
    "for key in task1_val_labels_loaded.keys():\n",
    "    unique_labels.update(task1_val_labels_loaded[key])\n",
    "\n",
    "print(unique_labels)"
   ]
  },
  {
   "cell_type": "code",
   "execution_count": 5,
   "metadata": {},
   "outputs": [],
   "source": [
    "# Encode the labels by a fixed mapping\n",
    "mapping = {\n",
    "    \"-1\": 0,\n",
    "    \"sadness\": 1,\n",
    "    \"joy\": 2,\n",
    "    \"fear\": 3,\n",
    "    \"anger\": 4,\n",
    "    \"surprise\": 5,\n",
    "    \"disgust\": 6,\n",
    "    \"neutral\": 7\n",
    "}\n",
    "\n",
    "# Convert labels to indices and store in lists using list comprehension\n",
    "train_labels = [np.array([mapping[str(label)] for label in task1_train_labels_loaded[key]]) for key in task1_train_labels_loaded.keys()]\n",
    "val_labels = [np.array([mapping[str(label)] for label in task1_val_labels_loaded[key]]) for key in task1_val_labels_loaded.keys()]"
   ]
  },
  {
   "cell_type": "code",
   "execution_count": 6,
   "metadata": {},
   "outputs": [],
   "source": [
    "# Convert embeddings to lists\n",
    "train_embeddings = [train_embeddings_loaded[key] for key in train_embeddings_loaded.keys()]\n",
    "val_embeddings = [val_embeddings_loaded[key] for key in val_embeddings_loaded.keys()]"
   ]
  },
  {
   "cell_type": "code",
   "execution_count": 7,
   "metadata": {},
   "outputs": [],
   "source": [
    "import torch\n",
    "from torch.utils.data import Dataset, DataLoader\n",
    "\n",
    "class EmotionDataset(Dataset):\n",
    "    def __init__(self, embeddings, labels):\n",
    "        self.embeddings = embeddings  # List of embedding matrices\n",
    "        self.labels = labels  # List of label arrays\n",
    "\n",
    "    def __len__(self):\n",
    "        return len(self.embeddings)\n",
    "\n",
    "    def __getitem__(self, idx):\n",
    "        return torch.tensor(self.embeddings[idx]), torch.tensor(self.labels[idx], dtype=torch.long)\n",
    "    \n",
    "def collate_fn(batch):\n",
    "    embeddings, labels = zip(*batch)\n",
    "    embeddings_pad = torch.nn.utils.rnn.pad_sequence(embeddings, batch_first=True, padding_value=0)\n",
    "    labels_pad = torch.nn.utils.rnn.pad_sequence(labels, batch_first=True, padding_value=-1)  # Use -1 for padding\n",
    "    return embeddings_pad, labels_pad"
   ]
  },
  {
   "cell_type": "code",
   "execution_count": 8,
   "metadata": {},
   "outputs": [],
   "source": [
    "# Make train dataset and dataloader\n",
    "train_dataset = EmotionDataset(train_embeddings, train_labels)\n",
    "train_dataloader = DataLoader(train_dataset, batch_size=32, shuffle=True, collate_fn=collate_fn)\n",
    "\n",
    "# Make val dataset and dataloader\n",
    "val_dataset = EmotionDataset(val_embeddings, val_labels)\n",
    "val_dataloader = DataLoader(val_dataset, batch_size=32, shuffle=False, collate_fn=collate_fn)"
   ]
  },
  {
   "cell_type": "code",
   "execution_count": 9,
   "metadata": {},
   "outputs": [],
   "source": [
    "import torch.nn as nn\n",
    "\n",
    "class RNNModel(nn.Module):\n",
    "    def __init__(self, input_size, hidden_size, output_size, num_layers=1):\n",
    "        super(RNNModel, self).__init__()\n",
    "        self.rnn = nn.RNN(input_size, hidden_size, num_layers, batch_first=True)\n",
    "        self.fc = nn.Linear(hidden_size, output_size)\n",
    "\n",
    "    def forward(self, x):\n",
    "        output, _ = self.rnn(x)\n",
    "        output = self.fc(output)\n",
    "        return output"
   ]
  },
  {
   "cell_type": "code",
   "execution_count": 10,
   "metadata": {},
   "outputs": [],
   "source": [
    "# Initialize the model\n",
    "INPUT_SIZE = 384 # Dimension of the input embeddings\n",
    "HIDDEN_SIZE = 128 # Dimension of the hidden state\n",
    "OUTPUT_SIZE = 8 # Number of classes\n",
    "\n",
    "model = RNNModel(INPUT_SIZE, HIDDEN_SIZE, OUTPUT_SIZE)"
   ]
  },
  {
   "cell_type": "code",
   "execution_count": 11,
   "metadata": {},
   "outputs": [],
   "source": [
    "# Define the loss function and optimizer\n",
    "from torch.optim import Adam\n",
    "\n",
    "loss_fn = nn.CrossEntropyLoss(ignore_index=-1)\n",
    "optimizer = Adam(model.parameters(), lr=0.001)"
   ]
  },
  {
   "cell_type": "code",
   "execution_count": 12,
   "metadata": {},
   "outputs": [],
   "source": [
    "# Compute F1 metrics\n",
    "from sklearn.metrics import f1_score\n",
    "\n",
    "# Predictions and labels should be flattened arrays\n",
    "def compute_metrics(predictions, labels):\n",
    "    mask = labels != -1  # Ignore padded labels\n",
    "    masked_labels = labels[mask]\n",
    "    masked_predictions = predictions[mask]\n",
    "    weighted_f1 = f1_score(masked_labels, masked_predictions, average='weighted')\n",
    "    macro_f1 = f1_score(masked_labels, masked_predictions, average='macro')\n",
    "    return weighted_f1, macro_f1"
   ]
  },
  {
   "cell_type": "code",
   "execution_count": 13,
   "metadata": {},
   "outputs": [
    {
     "name": "stdout",
     "output_type": "stream",
     "text": [
      "Epoch 1/15, Train Loss: 1.5131, Train Weighted F1: 0.3582, Train Macro F1: 0.1666, Val Loss: 1.3250, Val Weighted F1: 0.4814, Val Macro F1: 0.2693\n",
      "Epoch 2/15, Train Loss: 1.2291, Train Weighted F1: 0.5261, Train Macro F1: 0.3110, Val Loss: 1.1732, Val Weighted F1: 0.5413, Val Macro F1: 0.3323\n",
      "Epoch 3/15, Train Loss: 1.0933, Train Weighted F1: 0.5850, Train Macro F1: 0.3757, Val Loss: 1.0387, Val Weighted F1: 0.6105, Val Macro F1: 0.4041\n",
      "Epoch 4/15, Train Loss: 0.9727, Train Weighted F1: 0.6425, Train Macro F1: 0.4564, Val Loss: 0.9108, Val Weighted F1: 0.6613, Val Macro F1: 0.4968\n",
      "Epoch 5/15, Train Loss: 0.8644, Train Weighted F1: 0.6961, Train Macro F1: 0.5538, Val Loss: 0.8383, Val Weighted F1: 0.7172, Val Macro F1: 0.6054\n",
      "Epoch 6/15, Train Loss: 0.7708, Train Weighted F1: 0.7448, Train Macro F1: 0.6374, Val Loss: 0.7511, Val Weighted F1: 0.7482, Val Macro F1: 0.6344\n",
      "Epoch 7/15, Train Loss: 0.6824, Train Weighted F1: 0.7800, Train Macro F1: 0.6958, Val Loss: 0.6912, Val Weighted F1: 0.7725, Val Macro F1: 0.6754\n",
      "Epoch 8/15, Train Loss: 0.6151, Train Weighted F1: 0.8063, Train Macro F1: 0.7428, Val Loss: 0.6201, Val Weighted F1: 0.8025, Val Macro F1: 0.7353\n",
      "Epoch 9/15, Train Loss: 0.5666, Train Weighted F1: 0.8213, Train Macro F1: 0.7676, Val Loss: 0.5785, Val Weighted F1: 0.8221, Val Macro F1: 0.7653\n",
      "Epoch 10/15, Train Loss: 0.5162, Train Weighted F1: 0.8425, Train Macro F1: 0.7994, Val Loss: 0.5497, Val Weighted F1: 0.8310, Val Macro F1: 0.7868\n",
      "Epoch 11/15, Train Loss: 0.4749, Train Weighted F1: 0.8567, Train Macro F1: 0.8222, Val Loss: 0.5239, Val Weighted F1: 0.8402, Val Macro F1: 0.7917\n",
      "Epoch 12/15, Train Loss: 0.4387, Train Weighted F1: 0.8681, Train Macro F1: 0.8377, Val Loss: 0.4968, Val Weighted F1: 0.8519, Val Macro F1: 0.8173\n",
      "Epoch 13/15, Train Loss: 0.4120, Train Weighted F1: 0.8777, Train Macro F1: 0.8511, Val Loss: 0.4559, Val Weighted F1: 0.8740, Val Macro F1: 0.8450\n",
      "Epoch 14/15, Train Loss: 0.3768, Train Weighted F1: 0.8895, Train Macro F1: 0.8667, Val Loss: 0.4398, Val Weighted F1: 0.8803, Val Macro F1: 0.8482\n",
      "Epoch 15/15, Train Loss: 0.3541, Train Weighted F1: 0.8964, Train Macro F1: 0.8760, Val Loss: 0.4155, Val Weighted F1: 0.8887, Val Macro F1: 0.8619\n"
     ]
    }
   ],
   "source": [
    "# Train the model\n",
    "num_epochs = 15\n",
    "\n",
    "train_f1s = []\n",
    "val_f1s = []\n",
    "train_losses = []\n",
    "val_losses = []\n",
    "\n",
    "for epoch in range(num_epochs):\n",
    "    # Train the model\n",
    "    model.train()\n",
    "    train_loss = 0\n",
    "    train_predictions = []\n",
    "    train_labels = []\n",
    "\n",
    "    for embeddings, labels in train_dataloader:\n",
    "        optimizer.zero_grad()\n",
    "        output = model(embeddings)\n",
    "        \n",
    "        # Flatten the output and labels\n",
    "        output = output.view(-1, output.shape[-1]) # (batch_size * max_length, num_classes)\n",
    "        labels = labels.view(-1)\n",
    "\n",
    "        loss = loss_fn(output, labels)\n",
    "        loss.backward()\n",
    "        optimizer.step()\n",
    "\n",
    "        train_loss += loss.item()\n",
    "\n",
    "        # Get the predictions\n",
    "        predictions = output.argmax(dim=-1)\n",
    "\n",
    "        train_predictions.append(predictions.detach().cpu().numpy())\n",
    "        train_labels.append(labels.detach().cpu().numpy())\n",
    "\n",
    "    train_predictions = np.concatenate(train_predictions)\n",
    "    train_labels = np.concatenate(train_labels)\n",
    "    train_loss /= len(train_dataloader)\n",
    "\n",
    "    weighted_f1, macro_f1 = compute_metrics(train_predictions, train_labels)\n",
    "\n",
    "    train_f1s.append(weighted_f1)\n",
    "    train_losses.append(train_loss)\n",
    "\n",
    "    # Evaluate the model on the validation set\n",
    "    model.eval()\n",
    "    val_loss = 0\n",
    "    val_predictions = []\n",
    "    val_labels = []\n",
    "\n",
    "    with torch.no_grad():\n",
    "        for embeddings, labels in val_dataloader:\n",
    "            output = model(embeddings)\n",
    "            \n",
    "            # Flatten the output and labels\n",
    "            output = output.view(-1, output.shape[-1])\n",
    "            labels = labels.view(-1)\n",
    "\n",
    "            loss = loss_fn(output, labels)\n",
    "            val_loss += loss.item()\n",
    "\n",
    "            # Get the predictions\n",
    "            predictions = output.argmax(dim=-1)\n",
    "\n",
    "            val_predictions.append(predictions.detach().cpu().numpy())\n",
    "            val_labels.append(labels.detach().cpu().numpy())\n",
    "\n",
    "    val_predictions = np.concatenate(val_predictions)\n",
    "    val_labels = np.concatenate(val_labels)\n",
    "\n",
    "    val_loss /= len(val_dataloader)\n",
    "\n",
    "    weighted_f1_val, macro_f1_val = compute_metrics(val_predictions, val_labels)\n",
    "\n",
    "    val_f1s.append(weighted_f1_val)\n",
    "    val_losses.append(val_loss)\n",
    "\n",
    "    print(f\"Epoch {epoch+1}/{num_epochs}, Train Loss: {train_loss:.4f}, Train Weighted F1: {weighted_f1:.4f}, Train Macro F1: {macro_f1:.4f}, Val Loss: {val_loss:.4f}, Val Weighted F1: {weighted_f1_val:.4f}, Val Macro F1: {macro_f1_val:.4f}\")\n",
    "            "
   ]
  },
  {
   "cell_type": "code",
   "execution_count": 14,
   "metadata": {},
   "outputs": [
    {
     "data": {
      "image/png": "[encoded data removed]",
      "text/plain": [
       "<Figure size 432x288 with 1 Axes>"
      ]
     },
     "metadata": {
      "needs_background": "light"
     },
     "output_type": "display_data"
    }
   ],
   "source": [
    "# Plot the training and validation loss\n",
    "import matplotlib.pyplot as plt\n",
    "\n",
    "plt.plot(train_losses, label=\"Train Loss\")\n",
    "plt.plot(val_losses, label=\"Val Loss\")\n",
    "\n",
    "plt.xlabel(\"Epoch\")\n",
    "plt.ylabel(\"Loss\")\n",
    "plt.title(\"Training and Validation Loss for Task 1 - Model M1\")\n",
    "\n",
    "plt.legend()\n",
    "plt.show()"
   ]
  },
  {
   "cell_type": "code",
   "execution_count": 15,
   "metadata": {},
   "outputs": [
    {
     "data": {
      "image/png": "[encoded data removed]",
      "text/plain": [
       "<Figure size 432x288 with 1 Axes>"
      ]
     },
     "metadata": {
      "needs_background": "light"
     },
     "output_type": "display_data"
    }
   ],
   "source": [
    "# Plot the training and validation F1 scores\n",
    "plt.plot(train_f1s, label=\"Train Weighted F1\")\n",
    "plt.plot(val_f1s, label=\"Val Weighted F1\")\n",
    "\n",
    "plt.xlabel(\"Epoch\")\n",
    "plt.ylabel(\"Weighted F1\")\n",
    "plt.title(\"Training and Validation Weighted F1 for Task 1 - Model M1\")\n",
    "plt.legend()\n",
    "plt.show()"
   ]
  },
  {
   "cell_type": "code",
   "execution_count": 16,
   "metadata": {},
   "outputs": [],
   "source": [
    "# Save the model\n",
    "torch.save(model.state_dict(), \"M1_Task1.pth\")"
   ]
  },
  {
   "cell_type": "markdown",
   "metadata": {},
   "source": [
    "- Inference on a sample from validation set"
   ]
  },
  {
   "cell_type": "code",
   "execution_count": 17,
   "metadata": {},
   "outputs": [
    {
     "name": "stdout",
     "output_type": "stream",
     "text": [
      "Predictions: tensor([7, 2, 2, 2, 7, 7, 1, 6, 2, 7, 7, 7, 7, 7, 4, 5, 7, 2, 4, 4])\n",
      "Labels: tensor([7, 6, 4, 2, 2, 1, 1, 1, 2, 7, 7, 7, 7, 7, 4, 3, 3, 3, 5, 4])\n",
      "Weighted F1: 0.49000000000000005\n",
      "Macro F1: 0.3523809523809524\n"
     ]
    }
   ],
   "source": [
    "# Run inference on the a sample from validation set\n",
    "model.eval()\n",
    "\n",
    "sample_idx = 218\n",
    "sample_embeddings, sample_labels = val_dataset[sample_idx]\n",
    "\n",
    "sample_embeddings = sample_embeddings.unsqueeze(0)  # Add batch dimension\n",
    "sample_labels = sample_labels.unsqueeze(0)\n",
    "\n",
    "with torch.no_grad():\n",
    "    output = model(sample_embeddings)\n",
    "    predictions = output.argmax(dim=-1)\n",
    "\n",
    "    print(\"Predictions:\", predictions[0])\n",
    "    print(\"Labels:\", sample_labels[0])\n",
    "\n",
    "    # Calculate the F1 score\n",
    "    weighted_f1, macro_f1 = compute_metrics(predictions.cpu().numpy(), sample_labels.cpu().numpy())\n",
    "    print(\"Weighted F1:\", weighted_f1)\n",
    "    print(\"Macro F1:\", macro_f1)"
   ]
  },
  {
   "cell_type": "code",
   "execution_count": 18,
   "metadata": {},
   "outputs": [
    {
     "name": "stdout",
     "output_type": "stream",
     "text": [
      "Predictions: tensor([7, 2, 2, 7, 7, 7, 6, 7, 2, 7, 2])\n",
      "Labels: tensor([7, 2, 2, 7, 7, 7, 6, 7, 2, 7, 2])\n",
      "Weighted F1: 1.0\n",
      "Macro F1: 1.0\n"
     ]
    }
   ],
   "source": [
    "# Test on sample from validation set\n",
    "episode_id = \"utterance_2314\"\n",
    "sample_embeddings = val_embeddings_loaded[episode_id]\n",
    "sample_labels = task1_val_labels_loaded[episode_id]\n",
    "\n",
    "sample_embeddings = torch.tensor(sample_embeddings).unsqueeze(0)  # Add batch dimension\n",
    "\n",
    "# encode the labels\n",
    "sample_labels = np.array([mapping[str(label)] for label in sample_labels])\n",
    "\n",
    "sample_labels = torch.tensor(sample_labels).unsqueeze(0)\n",
    "\n",
    "with torch.no_grad():\n",
    "    output = model(sample_embeddings)\n",
    "    predictions = output.argmax(dim=-1)\n",
    "\n",
    "    print(\"Predictions:\", predictions[0])\n",
    "    print(\"Labels:\", sample_labels[0])\n",
    "\n",
    "    # Calculate the F1 score\n",
    "    weighted_f1, macro_f1 = compute_metrics(predictions.cpu().numpy(), sample_labels.cpu().numpy())\n",
    "    print(\"Weighted F1:\", weighted_f1)\n",
    "    print(\"Macro F1:\", macro_f1)\n",
    "\n"
   ]
  }
 ],
 "metadata": {
  "kernelspec": {
   "display_name": "Python 3",
   "language": "python",
   "name": "python3"
  },
  "language_info": {
   "codemirror_mode": {
    "name": "ipython",
    "version": 3
   },
   "file_extension": ".py",
   "mimetype": "text/x-python",
   "name": "python",
   "nbconvert_exporter": "python",
   "pygments_lexer": "ipython3",
   "version": "3.10.0"
  }
 },
 "nbformat": 4,
 "nbformat_minor": 2
}
