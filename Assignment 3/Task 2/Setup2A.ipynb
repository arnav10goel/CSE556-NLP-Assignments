{
 "cells": [
  {
   "cell_type": "code",
   "execution_count": 1,
   "metadata": {},
   "outputs": [
    {
     "name": "stderr",
     "output_type": "stream",
     "text": [
      "/home/arnav/miniconda3/envs/DLA2/lib/python3.11/site-packages/tqdm/auto.py:21: TqdmWarning: IProgress not found. Please update jupyter and ipywidgets. See https://ipywidgets.readthedocs.io/en/stable/user_install.html\n",
      "  from .autonotebook import tqdm as notebook_tqdm\n"
     ]
    }
   ],
   "source": [
    "import datasets\n",
    "from torchtext.data.utils import get_tokenizer\n",
    "from torchtext.vocab import build_vocab_from_iterator\n",
    "from typing import Iterable, List"
   ]
  },
  {
   "cell_type": "code",
   "execution_count": 2,
   "metadata": {},
   "outputs": [],
   "source": [
    "train_data = datasets.load_dataset(\"wmt16\",\"de-en\", split=\"train[:50000]\")\n",
    "val_data = datasets.load_dataset(\"wmt16\",\"de-en\", split=\"validation\")\n",
    "test_data = datasets.load_dataset(\"wmt16\",\"de-en\", split=\"test\")"
   ]
  },
  {
   "cell_type": "code",
   "execution_count": 3,
   "metadata": {},
   "outputs": [
    {
     "name": "stdout",
     "output_type": "stream",
     "text": [
      "50000\n",
      "2169\n",
      "2999\n"
     ]
    }
   ],
   "source": [
    "print(len(train_data))\n",
    "print(len(val_data))\n",
    "print(len(test_data))"
   ]
  },
  {
   "cell_type": "code",
   "execution_count": 4,
   "metadata": {},
   "outputs": [],
   "source": [
    "from torchtext.data.utils import get_tokenizer\n",
    "\n",
    "tokenizer_german = get_tokenizer(\"spacy\", language=\"de_core_news_sm\")\n",
    "tokenizer_english = get_tokenizer(\"spacy\", language=\"en_core_web_sm\")"
   ]
  },
  {
   "cell_type": "code",
   "execution_count": 5,
   "metadata": {},
   "outputs": [],
   "source": [
    "# Set source and target languages\n",
    "SRC_LANGUAGE = 'de'\n",
    "TGT_LANGUAGE = 'en'\n",
    "\n",
    "# Place-holders for the token transformers and vocabularies\n",
    "token_transform = {SRC_LANGUAGE: tokenizer_german, TGT_LANGUAGE: tokenizer_english}\n",
    "vocab_transform = {}\n",
    "\n",
    "# Define special symbols and indices\n",
    "UNK_IDX, PAD_IDX, BOS_IDX, EOS_IDX = 0, 1, 2, 3\n",
    "special_symbols = ['<unk>', '<pad>', '<bos>', '<eos>']"
   ]
  },
  {
   "cell_type": "code",
   "execution_count": 6,
   "metadata": {},
   "outputs": [],
   "source": [
    "# Helper function to yield list of tokens\n",
    "def yield_tokens(data_iter: Iterable, language: str) -> List[str]:\n",
    "    for data_sample in data_iter:\n",
    "        yield token_transform[language](data_sample['translation'][language])\n",
    "\n",
    "# Build vocabularies for both languages\n",
    "for ln in [SRC_LANGUAGE, TGT_LANGUAGE]:\n",
    "    # Directly passing the dataset to yield_tokens without using .map\n",
    "    vocab_transform[ln] = build_vocab_from_iterator(yield_tokens(train_data, ln),\n",
    "                                                    min_freq=1,\n",
    "                                                    specials=special_symbols,\n",
    "                                                    special_first=True)\n",
    "    # Set UNK_IDX as the default index for vocabularies\n",
    "    vocab_transform[ln].set_default_index(UNK_IDX)"
   ]
  },
  {
   "cell_type": "code",
   "execution_count": 7,
   "metadata": {},
   "outputs": [],
   "source": [
    "from torch import Tensor\n",
    "import torch\n",
    "import torch.nn as nn\n",
    "from torch.nn import Transformer\n",
    "import math\n",
    "DEVICE = torch.device('cuda' if torch.cuda.is_available() else 'cpu')\n",
    "\n",
    "# helper Module that adds positional encoding to the token embedding to introduce a notion of word order.\n",
    "class PositionalEncoding(nn.Module):\n",
    "    def __init__(self,\n",
    "                 emb_size: int,\n",
    "                 dropout: float,\n",
    "                 maxlen: int = 5000):\n",
    "        super(PositionalEncoding, self).__init__()\n",
    "        den = torch.exp(- torch.arange(0, emb_size, 2)* math.log(10000) / emb_size)\n",
    "        pos = torch.arange(0, maxlen).reshape(maxlen, 1)\n",
    "        pos_embedding = torch.zeros((maxlen, emb_size))\n",
    "        pos_embedding[:, 0::2] = torch.sin(pos * den)\n",
    "        pos_embedding[:, 1::2] = torch.cos(pos * den)\n",
    "        pos_embedding = pos_embedding.unsqueeze(-2)\n",
    "\n",
    "        self.dropout = nn.Dropout(dropout)\n",
    "        self.register_buffer('pos_embedding', pos_embedding)\n",
    "\n",
    "    def forward(self, token_embedding: Tensor):\n",
    "        return self.dropout(token_embedding + self.pos_embedding[:token_embedding.size(0), :])\n",
    "\n",
    "# helper Module to convert tensor of input indices into corresponding tensor of token embeddings\n",
    "class TokenEmbedding(nn.Module):\n",
    "    def __init__(self, vocab_size: int, emb_size):\n",
    "        super(TokenEmbedding, self).__init__()\n",
    "        self.embedding = nn.Embedding(vocab_size, emb_size)\n",
    "        self.emb_size = emb_size\n",
    "\n",
    "    def forward(self, tokens: Tensor):\n",
    "        return self.embedding(tokens.long()) * math.sqrt(self.emb_size)\n",
    "\n",
    "# Seq2Seq Network\n",
    "class Seq2SeqTransformer(nn.Module):\n",
    "    def __init__(self,\n",
    "                 num_encoder_layers: int,\n",
    "                 num_decoder_layers: int,\n",
    "                 emb_size: int,\n",
    "                 nhead: int,\n",
    "                 src_vocab_size: int,\n",
    "                 tgt_vocab_size: int,\n",
    "                 dim_feedforward: int = 512,\n",
    "                 dropout: float = 0.1):\n",
    "        super(Seq2SeqTransformer, self).__init__()\n",
    "        self.transformer = Transformer(d_model=emb_size,\n",
    "                                       nhead=nhead,\n",
    "                                       num_encoder_layers=num_encoder_layers,\n",
    "                                       num_decoder_layers=num_decoder_layers,\n",
    "                                       dim_feedforward=dim_feedforward,\n",
    "                                       dropout=dropout)\n",
    "        self.generator = nn.Linear(emb_size, tgt_vocab_size)\n",
    "        self.src_tok_emb = TokenEmbedding(src_vocab_size, emb_size)\n",
    "        self.tgt_tok_emb = TokenEmbedding(tgt_vocab_size, emb_size)\n",
    "        self.positional_encoding = PositionalEncoding(\n",
    "            emb_size, dropout=dropout)\n",
    "\n",
    "    def forward(self,\n",
    "                src: Tensor,\n",
    "                trg: Tensor,\n",
    "                src_mask: Tensor,\n",
    "                tgt_mask: Tensor,\n",
    "                src_padding_mask: Tensor,\n",
    "                tgt_padding_mask: Tensor,\n",
    "                memory_key_padding_mask: Tensor):\n",
    "        src_emb = self.positional_encoding(self.src_tok_emb(src))\n",
    "        tgt_emb = self.positional_encoding(self.tgt_tok_emb(trg))\n",
    "        outs = self.transformer(src_emb, tgt_emb, src_mask, tgt_mask, None,\n",
    "                                src_padding_mask, tgt_padding_mask, memory_key_padding_mask)\n",
    "        return self.generator(outs)\n",
    "\n",
    "    def encode(self, src: Tensor, src_mask: Tensor):\n",
    "        return self.transformer.encoder(self.positional_encoding(\n",
    "                            self.src_tok_emb(src)), src_mask)\n",
    "\n",
    "    def decode(self, tgt: Tensor, memory: Tensor, tgt_mask: Tensor):\n",
    "        return self.transformer.decoder(self.positional_encoding(\n",
    "                          self.tgt_tok_emb(tgt)), memory,\n",
    "                          tgt_mask)"
   ]
  },
  {
   "cell_type": "code",
   "execution_count": 8,
   "metadata": {},
   "outputs": [
    {
     "name": "stderr",
     "output_type": "stream",
     "text": [
      "/home/arnav/miniconda3/envs/DLA2/lib/python3.11/site-packages/torch/nn/modules/transformer.py:286: UserWarning: enable_nested_tensor is True, but self.use_nested_tensor is False because encoder_layer.self_attn.batch_first was not True(use batch_first for better inference performance)\n",
      "  warnings.warn(f\"enable_nested_tensor is True, but self.use_nested_tensor is False because {why_not_sparsity_fast_path}\")\n"
     ]
    }
   ],
   "source": [
    "torch.manual_seed(0)\n",
    "\n",
    "SRC_VOCAB_SIZE = len(vocab_transform[SRC_LANGUAGE])\n",
    "TGT_VOCAB_SIZE = len(vocab_transform[TGT_LANGUAGE])\n",
    "EMB_SIZE = 512\n",
    "NHEAD = 8\n",
    "FFN_HID_DIM = 512\n",
    "BATCH_SIZE = 64\n",
    "NUM_ENCODER_LAYERS = 3\n",
    "NUM_DECODER_LAYERS = 3\n",
    "\n",
    "transformer = Seq2SeqTransformer(NUM_ENCODER_LAYERS, NUM_DECODER_LAYERS, EMB_SIZE,\n",
    "                                 NHEAD, SRC_VOCAB_SIZE, TGT_VOCAB_SIZE, FFN_HID_DIM)\n",
    "\n",
    "for p in transformer.parameters():\n",
    "    if p.dim() > 1:\n",
    "        nn.init.xavier_uniform_(p)\n",
    "\n",
    "transformer = transformer.to(DEVICE)\n",
    "\n",
    "loss_fn = torch.nn.CrossEntropyLoss(ignore_index=PAD_IDX)\n",
    "\n",
    "optimizer = torch.optim.Adam(transformer.parameters(), lr=0.0001, betas=(0.9, 0.98), eps=1e-9)"
   ]
  },
  {
   "cell_type": "code",
   "execution_count": 9,
   "metadata": {},
   "outputs": [],
   "source": [
    "from torch.nn.utils.rnn import pad_sequence\n",
    "\n",
    "def generate_square_subsequent_mask(sz):\n",
    "    mask = (torch.triu(torch.ones((sz, sz))) == 1).transpose(0, 1)\n",
    "    mask = mask.float().masked_fill(mask == 0, float('-inf')).masked_fill(mask == 1, float(0.0))\n",
    "    return mask\n",
    "\n",
    "def collate_fn(batch):\n",
    "    src_batch, tgt_batch = [], []\n",
    "    for src_sample, tgt_sample in batch:\n",
    "        # Tokenize the source and target text samples\n",
    "        src_tokens = tokenizer_german(src_sample)\n",
    "        tgt_tokens = tokenizer_english(tgt_sample)\n",
    "        \n",
    "        # Numericalize tokens and append to respective batch lists\n",
    "        src_batch.append(torch.tensor(vocab_transform[SRC_LANGUAGE](src_tokens), dtype=torch.long))\n",
    "        tgt_batch.append(torch.tensor(vocab_transform[TGT_LANGUAGE](tgt_tokens), dtype=torch.long))\n",
    "\n",
    "    src_batch = pad_sequence(src_batch, padding_value=PAD_IDX, batch_first=False).to(DEVICE)\n",
    "    tgt_batch = pad_sequence(tgt_batch, padding_value=PAD_IDX, batch_first=False).to(DEVICE)\n",
    "\n",
    "    # Create masks\n",
    "    src_mask = generate_square_subsequent_mask(src_batch.size(0)).to(DEVICE)\n",
    "    tgt_mask = generate_square_subsequent_mask(tgt_batch.size(0)).to(DEVICE)\n",
    "    src_padding_mask = (src_batch == PAD_IDX).transpose(0, 1)\n",
    "    tgt_padding_mask = (tgt_batch == PAD_IDX).transpose(0, 1)\n",
    "    memory_key_padding_mask = src_padding_mask.clone()\n",
    "\n",
    "    return src_batch, tgt_batch, src_mask, tgt_mask, src_padding_mask, tgt_padding_mask, memory_key_padding_mask\n",
    "\n",
    "\n",
    "from torch.utils.data import DataLoader, Dataset\n",
    "\n",
    "class CustomDataset(Dataset):\n",
    "    def __init__(self, data):\n",
    "        self.data = data\n",
    "\n",
    "    def __len__(self):\n",
    "        return len(self.data)\n",
    "\n",
    "    def __getitem__(self, idx):\n",
    "        return self.data[idx]['translation'][SRC_LANGUAGE], self.data[idx]['translation'][TGT_LANGUAGE]\n",
    "\n",
    "train_dataset = CustomDataset(train_data)\n",
    "val_dataset = CustomDataset(val_data)\n",
    "\n",
    "train_dataloader = DataLoader(train_dataset, batch_size=BATCH_SIZE, collate_fn=collate_fn)\n",
    "val_dataloader = DataLoader(val_dataset, batch_size=BATCH_SIZE, collate_fn=collate_fn)"
   ]
  },
  {
   "cell_type": "code",
   "execution_count": 10,
   "metadata": {},
   "outputs": [
    {
     "name": "stderr",
     "output_type": "stream",
     "text": [
      "Training:   0%|          | 0/782 [00:00<?, ?it/s]/home/arnav/miniconda3/envs/DLA2/lib/python3.11/site-packages/torch/nn/functional.py:5109: UserWarning: Support for mismatched src_key_padding_mask and mask is deprecated. Use same type for both instead.\n",
      "  warnings.warn(\n",
      "/home/arnav/miniconda3/envs/DLA2/lib/python3.11/site-packages/torch/nn/functional.py:5109: UserWarning: Support for mismatched key_padding_mask and attn_mask is deprecated. Use same type for both instead.\n",
      "  warnings.warn(\n",
      "Training: 100%|██████████| 782/782 [01:19<00:00,  9.79it/s]\n",
      "Evaluating: 100%|██████████| 34/34 [00:01<00:00, 28.04it/s]\n"
     ]
    },
    {
     "name": "stdout",
     "output_type": "stream",
     "text": [
      "Epoch 1, Train Loss: 5.943773217213428, Val Loss: 6.940455815371345\n"
     ]
    },
    {
     "name": "stderr",
     "output_type": "stream",
     "text": [
      "Training: 100%|██████████| 782/782 [01:21<00:00,  9.64it/s]\n",
      "Evaluating: 100%|██████████| 34/34 [00:00<00:00, 35.59it/s]\n"
     ]
    },
    {
     "name": "stdout",
     "output_type": "stream",
     "text": [
      "Epoch 2, Train Loss: 4.94959748553498, Val Loss: 6.6814906316645\n"
     ]
    },
    {
     "name": "stderr",
     "output_type": "stream",
     "text": [
      "Training: 100%|██████████| 782/782 [01:21<00:00,  9.59it/s]\n",
      "Evaluating: 100%|██████████| 34/34 [00:00<00:00, 35.54it/s]\n"
     ]
    },
    {
     "name": "stdout",
     "output_type": "stream",
     "text": [
      "Epoch 3, Train Loss: 4.532066992176768, Val Loss: 6.421237342497882\n"
     ]
    },
    {
     "name": "stderr",
     "output_type": "stream",
     "text": [
      "Training: 100%|██████████| 782/782 [01:21<00:00,  9.57it/s]\n",
      "Evaluating: 100%|██████████| 34/34 [00:00<00:00, 35.54it/s]\n"
     ]
    },
    {
     "name": "stdout",
     "output_type": "stream",
     "text": [
      "Epoch 4, Train Loss: 4.1869426859004415, Val Loss: 6.298770343556123\n"
     ]
    },
    {
     "name": "stderr",
     "output_type": "stream",
     "text": [
      "Training: 100%|██████████| 782/782 [01:21<00:00,  9.58it/s]\n",
      "Evaluating: 100%|██████████| 34/34 [00:00<00:00, 35.17it/s]\n"
     ]
    },
    {
     "name": "stdout",
     "output_type": "stream",
     "text": [
      "Epoch 5, Train Loss: 3.890337754698361, Val Loss: 6.183755047181073\n"
     ]
    },
    {
     "name": "stderr",
     "output_type": "stream",
     "text": [
      "Training: 100%|██████████| 782/782 [01:21<00:00,  9.57it/s]\n",
      "Evaluating: 100%|██████████| 34/34 [00:00<00:00, 35.39it/s]\n"
     ]
    },
    {
     "name": "stdout",
     "output_type": "stream",
     "text": [
      "Epoch 6, Train Loss: 3.6323428172284684, Val Loss: 6.143365439246683\n"
     ]
    },
    {
     "name": "stderr",
     "output_type": "stream",
     "text": [
      "Training: 100%|██████████| 782/782 [01:21<00:00,  9.57it/s]\n",
      "Evaluating: 100%|██████████| 34/34 [00:00<00:00, 35.61it/s]\n"
     ]
    },
    {
     "name": "stdout",
     "output_type": "stream",
     "text": [
      "Epoch 7, Train Loss: 3.406329569914152, Val Loss: 6.13268798940322\n"
     ]
    },
    {
     "name": "stderr",
     "output_type": "stream",
     "text": [
      "Training: 100%|██████████| 782/782 [01:21<00:00,  9.55it/s]\n",
      "Evaluating: 100%|██████████| 34/34 [00:00<00:00, 35.35it/s]\n"
     ]
    },
    {
     "name": "stdout",
     "output_type": "stream",
     "text": [
      "Epoch 8, Train Loss: 3.204499813906677, Val Loss: 6.205365223043105\n"
     ]
    },
    {
     "data": {
      "image/png": "[encoded data removed]",
      "text/plain": [
       "<Figure size 640x480 with 1 Axes>"
      ]
     },
     "metadata": {},
     "output_type": "display_data"
    }
   ],
   "source": [
    "from tqdm import tqdm\n",
    "\n",
    "def train_epoch(model, optimizer, dataloader, loss_fn, device):\n",
    "    model.train()\n",
    "    losses = 0\n",
    "    for src, tgt, src_mask, _, src_padding_mask, _, memory_key_padding_mask in tqdm(dataloader, desc=\"Training\"):\n",
    "        src, tgt = src.to(device), tgt.to(device)\n",
    "\n",
    "        # Reduce the target sequence by 1 for the input to the decoder\n",
    "        tgt_input = tgt[:-1, :]\n",
    "        tgt_output = tgt[1:, :]  # This is used for loss calculation\n",
    "\n",
    "        # Adjust the size of the target padding mask to match tgt_input\n",
    "        tgt_padding_mask = (tgt_input == PAD_IDX).transpose(0, 1).to(device)\n",
    "        \n",
    "        # Regenerate tgt_mask to match the size of tgt_input\n",
    "        tgt_mask = generate_square_subsequent_mask(tgt_input.size(0)).to(device)\n",
    "\n",
    "        # Ensure src_mask and memory_key_padding_mask are correctly sized and on the correct device\n",
    "        src_mask = src_mask.to(device)\n",
    "        memory_key_padding_mask = src_padding_mask.clone().to(device)  # Assuming src_padding_mask needs no adjustment\n",
    "\n",
    "        logits = model(src, tgt_input, src_mask, tgt_mask, src_padding_mask, tgt_padding_mask, memory_key_padding_mask)\n",
    "\n",
    "        optimizer.zero_grad()\n",
    "\n",
    "        loss = loss_fn(logits.reshape(-1, logits.shape[-1]), tgt_output.reshape(-1))\n",
    "        loss.backward()\n",
    "\n",
    "        optimizer.step()\n",
    "        losses += loss.item()\n",
    "\n",
    "    return losses / len(dataloader)\n",
    "\n",
    "\n",
    "def evaluate(model, dataloader, loss_fn, device):\n",
    "    model.eval()\n",
    "    losses = 0\n",
    "    with torch.no_grad():\n",
    "        for src, tgt, src_mask, _, src_padding_mask, _, memory_key_padding_mask in tqdm(dataloader, desc=\"Evaluating\"):\n",
    "            src, tgt = src.to(device), tgt.to(device)\n",
    "            \n",
    "            # Reduce the target sequence by 1 for the input to the decoder\n",
    "            tgt_input = tgt[:-1, :]\n",
    "            tgt_output = tgt[1:, :]  # This is used for loss calculation\n",
    "\n",
    "            # Adjust the size of the target padding mask to match tgt_input\n",
    "            tgt_padding_mask = (tgt_input == PAD_IDX).transpose(0, 1).to(device)\n",
    "            \n",
    "            # Regenerate tgt_mask to match the size of tgt_input\n",
    "            tgt_mask = generate_square_subsequent_mask(tgt_input.size(0)).to(device)\n",
    "            \n",
    "            # Ensure src_mask and memory_key_padding_mask are correctly sized and on the correct device\n",
    "            src_mask = src_mask.to(device)\n",
    "            memory_key_padding_mask = src_padding_mask.clone().to(device)  # Assuming src_padding_mask needs no adjustment\n",
    "            \n",
    "            logits = model(src, tgt_input, src_mask, tgt_mask, src_padding_mask, tgt_padding_mask, memory_key_padding_mask)\n",
    "            \n",
    "            tgt_out = tgt[1:, :]  # Already defined for clarity\n",
    "            loss = loss_fn(logits.reshape(-1, logits.shape[-1]), tgt_out.reshape(-1))\n",
    "            losses += loss.item()\n",
    "    \n",
    "    return losses / len(dataloader)\n",
    "\n",
    "NUM_EPOCHS = 8\n",
    "train_losses = []\n",
    "val_losses = []\n",
    "\n",
    "for epoch in range(1, NUM_EPOCHS+1):\n",
    "    train_loss = train_epoch(transformer, optimizer, train_dataloader, loss_fn, DEVICE)\n",
    "    val_loss = evaluate(transformer, val_dataloader, loss_fn, DEVICE)\n",
    "\n",
    "    train_losses.append(train_loss)\n",
    "    val_losses.append(val_loss)\n",
    "    print(f\"Epoch {epoch}, Train Loss: {train_loss}, Val Loss: {val_loss}\")\n",
    "\n",
    "# Plot the training and validation losses\n",
    "import matplotlib.pyplot as plt\n",
    "\n",
    "plt.plot(train_losses, label=\"Training loss\")\n",
    "plt.plot(val_losses, label=\"Validation loss\")\n",
    "\n",
    "plt.xlabel(\"Epoch\")\n",
    "plt.ylabel(\"Loss\")\n",
    "plt.title(\"Training and Validation Losses\")\n",
    "plt.legend()\n",
    "plt.show()\n"
   ]
  },
  {
   "cell_type": "code",
   "execution_count": 11,
   "metadata": {},
   "outputs": [],
   "source": [
    "def greedy_decode(model, src, src_mask, max_len, start_symbol):\n",
    "    memory = model.encode(src, src_mask)\n",
    "    ys = torch.ones(1, 1).fill_(start_symbol).type(torch.long).to(DEVICE)\n",
    "    for i in range(max_len - 1):\n",
    "        tgt_mask = (generate_square_subsequent_mask(ys.size(0))\n",
    "                    .type(torch.bool)).to(DEVICE)\n",
    "        out = model.decode(ys, memory, tgt_mask)\n",
    "        out = out.transpose(0, 1)\n",
    "        prob = model.generator(out[:, -1])\n",
    "        _, next_word = torch.max(prob, dim=1)\n",
    "        next_word = next_word.item()\n",
    "        \n",
    "        ys = torch.cat([ys, torch.ones(1, 1).type_as(src.data).fill_(next_word)], dim=0)\n",
    "        if next_word == EOS_IDX:\n",
    "            break\n",
    "    return ys\n",
    "\n",
    "def translate(model: torch.nn.Module, src_sentence: str):\n",
    "    model.eval()\n",
    "    tokens = [BOS_IDX] + [vocab_transform[SRC_LANGUAGE][token] for token in tokenizer_german(src_sentence)] + [EOS_IDX]\n",
    "    src = torch.tensor(tokens, dtype=torch.long).view(-1, 1).to(DEVICE)\n",
    "    src_mask = (torch.zeros(len(tokens), len(tokens))).type(torch.bool).to(DEVICE)\n",
    "    \n",
    "    tgt_tokens = greedy_decode(\n",
    "        model, src, src_mask, max_len=len(tokens) + 5, start_symbol=BOS_IDX).flatten()\n",
    "    \n",
    "    return \" \".join([vocab_transform[TGT_LANGUAGE].lookup_token(token) for token in tgt_tokens.cpu().numpy() if token not in (BOS_IDX, EOS_IDX, PAD_IDX)])"
   ]
  },
  {
   "cell_type": "code",
   "execution_count": 12,
   "metadata": {},
   "outputs": [],
   "source": [
    "# Evaluate the model on the val set\n",
    "val_inputs = [d['translation'][SRC_LANGUAGE] for d in val_data]\n",
    "val_targets = [d['translation'][TGT_LANGUAGE] for d in val_data]\n",
    "val_predictions = []\n",
    "\n",
    "for inp in val_inputs:\n",
    "    val_predictions.append(translate(transformer, inp))\n",
    "\n",
    "# Evaluate the model on the test set\n",
    "test_inputs = [d['translation'][SRC_LANGUAGE] for d in test_data]\n",
    "\n",
    "targets = [d['translation'][TGT_LANGUAGE] for d in test_data]\n",
    "predictions = []\n",
    "\n",
    "for inp in test_inputs:\n",
    "    predictions.append(translate(transformer, inp))"
   ]
  },
  {
   "cell_type": "code",
   "execution_count": 13,
   "metadata": {},
   "outputs": [
    {
     "name": "stderr",
     "output_type": "stream",
     "text": [
      "[nltk_data] Downloading package punkt to /home/arnav/nltk_data...\n",
      "[nltk_data]   Package punkt is already up-to-date!\n",
      "Some weights of RobertaModel were not initialized from the model checkpoint at roberta-large and are newly initialized: ['roberta.pooler.dense.bias', 'roberta.pooler.dense.weight']\n",
      "You should probably TRAIN this model on a down-stream task to be able to use it for predictions and inference.\n"
     ]
    },
    {
     "name": "stdout",
     "output_type": "stream",
     "text": [
      "calculating scores...\n",
      "computing bert embedding.\n"
     ]
    },
    {
     "name": "stderr",
     "output_type": "stream",
     "text": [
      "100%|██████████| 94/94 [00:10<00:00,  9.22it/s]\n"
     ]
    },
    {
     "name": "stdout",
     "output_type": "stream",
     "text": [
      "computing greedy matching.\n"
     ]
    },
    {
     "name": "stderr",
     "output_type": "stream",
     "text": [
      "100%|██████████| 47/47 [00:00<00:00, 140.40it/s]"
     ]
    },
    {
     "name": "stdout",
     "output_type": "stream",
     "text": [
      "done in 10.54 seconds, 284.57 sentences/sec\n",
      "TEST DATA: \n",
      "BLEU Score: 0.5164618377756023\n",
      "METEOR Score: 0.0841354560481469\n",
      "BERTScore-F1: 0.7912341356277466\n",
      "BERTScore-Precision: 0.7645007371902466\n",
      "BERTScore-Recall: 0.8205881714820862\n"
     ]
    },
    {
     "name": "stderr",
     "output_type": "stream",
     "text": [
      "\n"
     ]
    }
   ],
   "source": [
    "import sacrebleu\n",
    "bleu_score = sacrebleu.corpus_bleu(predictions, [targets])\n",
    "\n",
    "# Calculate METEOR score\n",
    "import nltk\n",
    "nltk.download('punkt')  # Make sure the tokenizer is downloaded\n",
    "from nltk.tokenize import word_tokenize\n",
    "from nltk.translate.meteor_score import meteor_score\n",
    "\n",
    "meteor_scores = []\n",
    "\n",
    "# Ensure that 'predictions' and 'targets' are lists of sentences\n",
    "for i in range(len(predictions)):\n",
    "    # Tokenize both the hypothesis (prediction) and the reference\n",
    "    hypothesis_tokens = word_tokenize(predictions[i])\n",
    "    reference_tokens = [word_tokenize(targets[i])]  # Note: reference needs to be a list of tokenized references\n",
    "    \n",
    "    # Calculate and append the METEOR score\n",
    "    score = meteor_score(reference_tokens, hypothesis_tokens)\n",
    "    meteor_scores.append(score)\n",
    "\n",
    "average_meteor_score = sum(meteor_scores) / len(meteor_scores)\n",
    "\n",
    "\n",
    "# Calculate BERTScore\n",
    "from bert_score import score\n",
    "\n",
    "P, R, F1 = score(predictions, targets, lang='en', verbose=True)\n",
    "\n",
    "print(\"TEST DATA: \")\n",
    "print(f\"BLEU Score: {bleu_score.score}\")\n",
    "print(f\"METEOR Score: {average_meteor_score}\")\n",
    "print(f\"BERTScore-F1: {F1.mean()}\")\n",
    "print(f\"BERTScore-Precision: {P.mean()}\")\n",
    "print(f\"BERTScore-Recall: {R.mean()}\")"
   ]
  },
  {
   "cell_type": "code",
   "execution_count": null,
   "metadata": {},
   "outputs": [],
   "source": [
    "# Save the model\n",
    "torch.save(transformer.state_dict(), 'Setup2A_Model.pth')"
   ]
  }
 ],
 "metadata": {
  "kernelspec": {
   "display_name": "Python 3",
   "language": "python",
   "name": "python3"
  },
  "language_info": {
   "codemirror_mode": {
    "name": "ipython",
    "version": 3
   },
   "file_extension": ".py",
   "mimetype": "text/x-python",
   "name": "python",
   "nbconvert_exporter": "python",
   "pygments_lexer": "ipython3",
   "version": "3.11.8"
  }
 },
 "nbformat": 4,
 "nbformat_minor": 2
}
