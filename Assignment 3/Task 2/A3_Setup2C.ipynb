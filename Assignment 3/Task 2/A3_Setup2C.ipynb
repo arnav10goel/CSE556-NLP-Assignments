{
 "cells": [
  {
   "cell_type": "code",
   "execution_count": 1,
   "metadata": {},
   "outputs": [
    {
     "name": "stderr",
     "output_type": "stream",
     "text": [
      "/home/arnav/miniconda3/envs/DLA2/lib/python3.11/site-packages/tqdm/auto.py:21: TqdmWarning: IProgress not found. Please update jupyter and ipywidgets. See https://ipywidgets.readthedocs.io/en/stable/user_install.html\n",
      "  from .autonotebook import tqdm as notebook_tqdm\n"
     ]
    },
    {
     "name": "stdout",
     "output_type": "stream",
     "text": [
      "50000\n",
      "2169\n",
      "2999\n"
     ]
    }
   ],
   "source": [
    "from transformers import T5ForConditionalGeneration, T5Tokenizer\n",
    "from datasets import load_dataset, load_metric\n",
    "import datasets\n",
    "import torch\n",
    "from bert_score import score\n",
    "\n",
    "train_data = datasets.load_dataset(\"wmt16\",\"de-en\", split=\"train[:50000]\")\n",
    "val_data = datasets.load_dataset(\"wmt16\",\"de-en\", split=\"validation\")\n",
    "test_data = datasets.load_dataset(\"wmt16\",\"de-en\", split=\"test\")\n",
    "\n",
    "print(len(train_data))\n",
    "print(len(val_data))\n",
    "print(len(test_data))"
   ]
  },
  {
   "cell_type": "code",
   "execution_count": 2,
   "metadata": {},
   "outputs": [
    {
     "name": "stderr",
     "output_type": "stream",
     "text": [
      "You are using the default legacy behaviour of the <class 'transformers.models.t5.tokenization_t5.T5Tokenizer'>. This is expected, and simply means that the `legacy` (previous) behavior will be used so nothing changes for you. If you want to use the new behaviour, set `legacy=False`. This should only be set if you understand what it means, and thoroughly read the reason why this was added as explained in https://github.com/huggingface/transformers/pull/24565\n",
      "Special tokens have been added in the vocabulary, make sure the associated word embeddings are fine-tuned or trained.\n"
     ]
    }
   ],
   "source": [
    "from transformers import T5Tokenizer\n",
    "\n",
    "tokenizer = T5Tokenizer.from_pretrained('t5-small')\n",
    "\n",
    "def preprocess_data(examples):\n",
    "    inputs = [\"translate German to English: \" + ex[\"de\"] for ex in examples[\"translation\"]]\n",
    "    targets = [ex[\"en\"] for x in examples[\"translation\"]]\n",
    "    model_inputs = tokenizer(inputs, max_length=128, truncation=True, padding=\"max_length\")\n",
    "    # Tokenize targets\n",
    "    with tokenizer.as_target_tokenizer():\n",
    "        labels = tokenizer(targets, max_length=128, truncation=True, padding=\"max_length\")\n",
    "    model_inputs[\"labels\"] = labels[\"input_ids\"]\n",
    "    return model_inputs\n",
    "\n",
    "train_dataset = train_data.map(preprocess_data, batched=True)\n",
    "validation_dataset = val_data.map(preprocess_data, batched=True)\n",
    "test_dataset = test_data.map(preprocess_data, batched=True)\n"
   ]
  },
  {
   "cell_type": "code",
   "execution_count": 3,
   "metadata": {},
   "outputs": [
    {
     "name": "stderr",
     "output_type": "stream",
     "text": [
      "/home/arnav/miniconda3/envs/DLA2/lib/python3.11/site-packages/accelerate/accelerator.py:432: FutureWarning: Passing the following arguments to `Accelerator` is deprecated and will be removed in version 1.0 of Accelerate: dict_keys(['dispatch_batches', 'split_batches', 'even_batches', 'use_seedable_sampler']). Please pass an `accelerate.DataLoaderConfiguration` instead: \n",
      "dataloader_config = DataLoaderConfiguration(dispatch_batches=None, split_batches=False, even_batches=True, use_seedable_sampler=True)\n",
      "  warnings.warn(\n",
      "Detected kernel version 5.4.0, which is below the recommended minimum of 5.5.0; this can cause the process to hang. It is recommended to upgrade the kernel to the minimum version or higher.\n"
     ]
    },
    {
     "data": {
      "text/html": [
       "\n",
       "    <div>\n",
       "      \n",
       "      <progress value='7820' max='7820' style='width:300px; height:20px; vertical-align: middle;'></progress>\n",
       "      [7820/7820 43:20, Epoch 10/10]\n",
       "    </div>\n",
       "    <table border=\"1\" class=\"dataframe\">\n",
       "  <thead>\n",
       " <tr style=\"text-align: left;\">\n",
       "      <th>Epoch</th>\n",
       "      <th>Training Loss</th>\n",
       "      <th>Validation Loss</th>\n",
       "    </tr>\n",
       "  </thead>\n",
       "  <tbody>\n",
       "    <tr>\n",
       "      <td>1</td>\n",
       "      <td>1.684700</td>\n",
       "      <td>0.476402</td>\n",
       "    </tr>\n",
       "    <tr>\n",
       "      <td>2</td>\n",
       "      <td>0.621900</td>\n",
       "      <td>0.460250</td>\n",
       "    </tr>\n",
       "    <tr>\n",
       "      <td>3</td>\n",
       "      <td>0.607400</td>\n",
       "      <td>0.452013</td>\n",
       "    </tr>\n",
       "    <tr>\n",
       "      <td>4</td>\n",
       "      <td>0.586000</td>\n",
       "      <td>0.447439</td>\n",
       "    </tr>\n",
       "    <tr>\n",
       "      <td>5</td>\n",
       "      <td>0.581800</td>\n",
       "      <td>0.444042</td>\n",
       "    </tr>\n",
       "    <tr>\n",
       "      <td>6</td>\n",
       "      <td>0.570300</td>\n",
       "      <td>0.441767</td>\n",
       "    </tr>\n",
       "    <tr>\n",
       "      <td>7</td>\n",
       "      <td>0.568500</td>\n",
       "      <td>0.440098</td>\n",
       "    </tr>\n",
       "    <tr>\n",
       "      <td>8</td>\n",
       "      <td>0.563400</td>\n",
       "      <td>0.438994</td>\n",
       "    </tr>\n",
       "    <tr>\n",
       "      <td>9</td>\n",
       "      <td>0.557500</td>\n",
       "      <td>0.438341</td>\n",
       "    </tr>\n",
       "    <tr>\n",
       "      <td>10</td>\n",
       "      <td>0.556400</td>\n",
       "      <td>0.438138</td>\n",
       "    </tr>\n",
       "  </tbody>\n",
       "</table><p>"
      ],
      "text/plain": [
       "<IPython.core.display.HTML object>"
      ]
     },
     "metadata": {},
     "output_type": "display_data"
    },
    {
     "data": {
      "text/plain": [
       "TrainOutput(global_step=7820, training_loss=0.6522681546028313, metrics={'train_runtime': 2601.0477, 'train_samples_per_second': 192.23, 'train_steps_per_second': 3.006, 'total_flos': 1.6917725184e+16, 'train_loss': 0.6522681546028313, 'epoch': 10.0})"
      ]
     },
     "execution_count": 3,
     "metadata": {},
     "output_type": "execute_result"
    }
   ],
   "source": [
    "from transformers import T5ForConditionalGeneration, Trainer, TrainingArguments\n",
    "\n",
    "model = T5ForConditionalGeneration.from_pretrained('t5-small')\n",
    "\n",
    "# Ensure at least one layer is trainable\n",
    "for name, param in model.named_parameters():\n",
    "    if 'encoder' in name:\n",
    "        param.requires_grad = True\n",
    "        break\n",
    "\n",
    "training_args = TrainingArguments(\n",
    "    output_dir=\"./results\",\n",
    "    overwrite_output_dir=True,\n",
    "    evaluation_strategy=\"epoch\",\n",
    "    learning_rate=2e-5,\n",
    "    per_device_train_batch_size=64,\n",
    "    per_device_eval_batch_size=64,\n",
    "    num_train_epochs=10,\n",
    "    weight_decay=0.01,\n",
    ")\n",
    "\n",
    "trainer = Trainer(\n",
    "    model=model,\n",
    "    args=training_args,\n",
    "    train_dataset=train_dataset,\n",
    "    eval_dataset=validation_dataset,\n",
    ")\n",
    "\n",
    "trainer.train()"
   ]
  },
  {
   "cell_type": "code",
   "execution_count": 9,
   "metadata": {},
   "outputs": [
    {
     "data": {
      "image/png": "[encoded data removed]",
      "text/plain": [
       "<Figure size 1000x600 with 1 Axes>"
      ]
     },
     "metadata": {},
     "output_type": "display_data"
    }
   ],
   "source": [
    "import matplotlib.pyplot as plt\n",
    "\n",
    "# Initialize dictionaries to accumulate training losses and counts per epoch\n",
    "training_losses_per_epoch = {}\n",
    "training_loss_counts_per_epoch = {}\n",
    "\n",
    "# Accumulate training losses and their counts per epoch\n",
    "for log in trainer.state.log_history:\n",
    "    if 'loss' in log and 'epoch' in log:\n",
    "        epoch = round(log['epoch'])  # Round to handle floating point epoch numbers\n",
    "        if epoch not in training_losses_per_epoch:\n",
    "            training_losses_per_epoch[epoch] = 0\n",
    "            training_loss_counts_per_epoch[epoch] = 0\n",
    "        training_losses_per_epoch[epoch] += log['loss']\n",
    "        training_loss_counts_per_epoch[epoch] += 1\n",
    "\n",
    "# Calculate average training loss per epoch\n",
    "average_training_losses = [training_losses_per_epoch[epoch] / training_loss_counts_per_epoch[epoch] for epoch in sorted(training_losses_per_epoch)]\n",
    "\n",
    "# Collect validation losses per epoch (assuming these are logged once per epoch)\n",
    "validation_losses = [log['eval_loss'] for log in trainer.state.log_history if 'eval_loss' in log]\n",
    "\n",
    "# Ensure that the length of validation_losses matches the length of average_training_losses\n",
    "# This is just a safety check; in practice, ensure that logging matches epochs\n",
    "min_length = min(len(average_training_losses), len(validation_losses))\n",
    "average_training_losses = average_training_losses[:min_length]\n",
    "validation_losses = validation_losses[:min_length]\n",
    "epochs = list(range(1, min_length + 1))\n",
    "\n",
    "# Plotting\n",
    "plt.figure(figsize=(10, 6))\n",
    "plt.plot(epochs, average_training_losses, 'bo-', label='Average Training loss')\n",
    "plt.plot(epochs, validation_losses, 'ro-', label='Validation loss')\n",
    "plt.title('Training and Validation Loss')\n",
    "plt.xlabel('Epochs')\n",
    "plt.ylabel('Loss')\n",
    "plt.legend()\n",
    "plt.show()\n"
   ]
  },
  {
   "cell_type": "code",
   "execution_count": 14,
   "metadata": {},
   "outputs": [
    {
     "name": "stderr",
     "output_type": "stream",
     "text": [
      "[nltk_data] Downloading package wordnet to /home/arnav/nltk_data...\n",
      "[nltk_data]   Package wordnet is already up-to-date!\n",
      "[nltk_data] Downloading package punkt to /home/arnav/nltk_data...\n",
      "[nltk_data]   Package punkt is already up-to-date!\n",
      "[nltk_data] Downloading package omw-1.4 to /home/arnav/nltk_data...\n",
      "[nltk_data]   Package omw-1.4 is already up-to-date!\n",
      "Some weights of RobertaModel were not initialized from the model checkpoint at roberta-large and are newly initialized: ['roberta.pooler.dense.bias', 'roberta.pooler.dense.weight']\n",
      "You should probably TRAIN this model on a down-stream task to be able to use it for predictions and inference.\n"
     ]
    },
    {
     "name": "stdout",
     "output_type": "stream",
     "text": [
      "calculating scores...\n",
      "computing bert embedding.\n"
     ]
    },
    {
     "name": "stderr",
     "output_type": "stream",
     "text": [
      "100%|██████████| 68/68 [00:07<00:00,  8.54it/s]\n"
     ]
    },
    {
     "name": "stdout",
     "output_type": "stream",
     "text": [
      "computing greedy matching.\n"
     ]
    },
    {
     "name": "stderr",
     "output_type": "stream",
     "text": [
      "100%|██████████| 34/34 [00:00<00:00, 149.67it/s]\n"
     ]
    },
    {
     "name": "stdout",
     "output_type": "stream",
     "text": [
      "done in 8.20 seconds, 264.55 sentences/sec\n",
      "VALIDATION DATA:\n",
      "BLEU: 0.12460686818331085\n",
      "METEOR: 0.35757361250587055\n",
      "BERTScore Precision: 0.9027578830718994\n",
      "BERTScore Recall: 0.908021092414856\n",
      "BERTScore F1: 0.9052720069885254\n"
     ]
    },
    {
     "name": "stderr",
     "output_type": "stream",
     "text": [
      "[nltk_data] Downloading package wordnet to /home/arnav/nltk_data...\n",
      "[nltk_data]   Package wordnet is already up-to-date!\n",
      "[nltk_data] Downloading package punkt to /home/arnav/nltk_data...\n",
      "[nltk_data]   Package punkt is already up-to-date!\n",
      "[nltk_data] Downloading package omw-1.4 to /home/arnav/nltk_data...\n",
      "[nltk_data]   Package omw-1.4 is already up-to-date!\n",
      "Some weights of RobertaModel were not initialized from the model checkpoint at roberta-large and are newly initialized: ['roberta.pooler.dense.bias', 'roberta.pooler.dense.weight']\n",
      "You should probably TRAIN this model on a down-stream task to be able to use it for predictions and inference.\n"
     ]
    },
    {
     "name": "stdout",
     "output_type": "stream",
     "text": [
      "calculating scores...\n",
      "computing bert embedding.\n"
     ]
    },
    {
     "name": "stderr",
     "output_type": "stream",
     "text": [
      "100%|██████████| 94/94 [00:10<00:00,  8.64it/s]\n"
     ]
    },
    {
     "name": "stdout",
     "output_type": "stream",
     "text": [
      "computing greedy matching.\n"
     ]
    },
    {
     "name": "stderr",
     "output_type": "stream",
     "text": [
      "100%|██████████| 47/47 [00:00<00:00, 145.88it/s]"
     ]
    },
    {
     "name": "stdout",
     "output_type": "stream",
     "text": [
      "done in 11.21 seconds, 267.47 sentences/sec\n",
      "TEST DATA:\n",
      "BLEU: 0.1515262070024628\n",
      "METEOR: 0.39126080342341524\n",
      "BERTScore Precision: 0.9049018025398254\n",
      "BERTScore Recall: 0.9115209579467773\n",
      "BERTScore F1: 0.9080901145935059\n"
     ]
    },
    {
     "name": "stderr",
     "output_type": "stream",
     "text": [
      "\n"
     ]
    }
   ],
   "source": [
    "def evaluate_model(dataset):\n",
    "    predictions, references = [], []\n",
    "    for example in dataset:\n",
    "        input_ids = tokenizer(\"translate German to English: \" + example[\"translation\"][\"de\"], return_tensors=\"pt\").input_ids.to(model.device)\n",
    "        output = model.generate(input_ids, max_new_tokens=128)\n",
    "        pred_text = tokenizer.decode(output[0], skip_special_tokens=True)\n",
    "        predictions.append(pred_text)\n",
    "        references.append(example[\"translation\"][\"en\"])\n",
    "\n",
    "    # Load METEOR and BLEU metrics\n",
    "    meteor_metric = load_metric('meteor', trust_remote_code=True)\n",
    "    bleu_metric = load_metric('bleu', trust_remote_code=True)\n",
    "\n",
    "    # Convert targets to the expected format for METEOR (list of lists, one reference per prediction)\n",
    "    meteor_targets = [[target] for target in references]\n",
    "\n",
    "    # Calculate METEOR score\n",
    "    meteor_results = meteor_metric.compute(predictions=predictions, references=meteor_targets)\n",
    "\n",
    "    # BLEU expects tokenized references and predictions, and references must be in a list of lists of lists\n",
    "    bleu_targets_tokenized = [[[word for word in target.strip().split()] for target in [ref]] for ref in references]\n",
    "    bleu_predictions_tokenized = [[word for word in pred.strip().split()] for pred in predictions]\n",
    "\n",
    "    # Calculate BLEU score\n",
    "    bleu_results = bleu_metric.compute(predictions=bleu_predictions_tokenized, references=bleu_targets_tokenized)\n",
    "\n",
    "    # Calculate BERTScore\n",
    "    from bert_score import score\n",
    "\n",
    "    P, R, F1 = score(predictions, references, lang='en', verbose=True)\n",
    "\n",
    "    return bleu_results['bleu'], meteor_results['meteor'], P, R, F1\n",
    "\n",
    "bleu, meteor, bert_p, bert_r, bert_f1 = evaluate_model(validation_dataset)\n",
    "\n",
    "print(\"VALIDATION DATA:\")\n",
    "print(f\"BLEU: {bleu}\")\n",
    "print(f\"METEOR: {meteor}\")\n",
    "print(f\"BERTScore Precision: {bert_p.mean()}\")\n",
    "print(f\"BERTScore Recall: {bert_r.mean()}\")\n",
    "print(f\"BERTScore F1: {bert_f1.mean()}\")\n",
    "\n",
    "bleu, meteor, bert_p, bert_r, bert_f1 = evaluate_model(test_dataset)\n",
    "\n",
    "print(\"TEST DATA:\")\n",
    "print(f\"BLEU: {bleu}\")\n",
    "print(f\"METEOR: {meteor}\")\n",
    "print(f\"BERTScore Precision: {bert_p.mean()}\")\n",
    "print(f\"BERTScore Recall: {bert_r.mean()}\")\n",
    "print(f\"BERTScore F1: {bert_f1.mean()}\")"
   ]
  },
  {
   "cell_type": "code",
   "execution_count": 16,
   "metadata": {},
   "outputs": [
    {
     "data": {
      "text/plain": [
       "('./t5-small-de-en-tokenizer/tokenizer_config.json',\n",
       " './t5-small-de-en-tokenizer/special_tokens_map.json',\n",
       " './t5-small-de-en-tokenizer/spiece.model',\n",
       " './t5-small-de-en-tokenizer/added_tokens.json')"
      ]
     },
     "execution_count": 16,
     "metadata": {},
     "output_type": "execute_result"
    }
   ],
   "source": [
    "# Save the model\n",
    "model.save_pretrained(\"./t5-small-de-en-model\")\n",
    "\n",
    "# Save the tokenizer\n",
    "tokenizer.save_pretrained(\"./t5-small-de-en-tokenizer\")"
   ]
  }
 ],
 "metadata": {
  "kernelspec": {
   "display_name": "DLA2",
   "language": "python",
   "name": "python3"
  },
  "language_info": {
   "codemirror_mode": {
    "name": "ipython",
    "version": 3
   },
   "file_extension": ".py",
   "mimetype": "text/x-python",
   "name": "python",
   "nbconvert_exporter": "python",
   "pygments_lexer": "ipython3",
   "version": "3.11.8"
  }
 },
 "nbformat": 4,
 "nbformat_minor": 2
}
