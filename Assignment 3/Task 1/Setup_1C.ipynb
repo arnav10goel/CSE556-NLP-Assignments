{
 "cells": [
  {
   "cell_type": "code",
   "execution_count": 1,
   "metadata": {},
   "outputs": [
    {
     "name": "stderr",
     "output_type": "stream",
     "text": [
      "/home/arnav/miniconda3/envs/DLA2/lib/python3.11/site-packages/tqdm/auto.py:21: TqdmWarning: IProgress not found. Please update jupyter and ipywidgets. See https://ipywidgets.readthedocs.io/en/stable/user_install.html\n",
      "  from .autonotebook import tqdm as notebook_tqdm\n"
     ]
    }
   ],
   "source": [
    "import pandas as pd\n",
    "import torch\n",
    "from torch.utils.data import DataLoader\n",
    "from sentence_transformers import InputExample, SentenceTransformer, losses\n",
    "from sentence_transformers.evaluation import EmbeddingSimilarityEvaluator\n",
    "from sklearn.metrics import mean_squared_error\n",
    "import numpy as np\n",
    "from scipy.stats import pearsonr"
   ]
  },
  {
   "cell_type": "code",
   "execution_count": 2,
   "metadata": {},
   "outputs": [],
   "source": [
    "# Load datasets\n",
    "train_df = pd.read_csv('A3_task1_data_files/train.csv', sep='\\t')\n",
    "dev_df = pd.read_csv('A3_task1_data_files/dev.csv', sep='\\t')\n",
    "\n",
    "# Correct column name typo in dev dataset\n",
    "dev_df.rename(columns={'setence1': 'sentence1'}, inplace=True)"
   ]
  },
  {
   "cell_type": "code",
   "execution_count": 3,
   "metadata": {},
   "outputs": [],
   "source": [
    "# Convert DataFrames into lists of InputExample\n",
    "train_examples = [InputExample(texts=[str(row['sentence1']), str(row['sentence2'])], label=float(row['score'])/5.0) for _, row in train_df.iterrows()]\n",
    "dev_examples = [InputExample(texts=[str(row['sentence1']), str(row['sentence2'])], label=float(row['score'])/5.0) for _, row in dev_df.iterrows()]\n",
    "\n",
    "# Initialize the model\n",
    "model_path = \"all-MiniLM-L6-v2\"\n",
    "model = SentenceTransformer(model_path)"
   ]
  },
  {
   "cell_type": "code",
   "execution_count": 4,
   "metadata": {},
   "outputs": [
    {
     "name": "stderr",
     "output_type": "stream",
     "text": [
      "Iteration: 100%|██████████| 357/357 [00:12<00:00, 28.42it/s]\n",
      "Epoch: 100%|██████████| 1/1 [00:12<00:00, 12.56s/it]\n"
     ]
    },
    {
     "name": "stdout",
     "output_type": "stream",
     "text": [
      "Epoch 1: Train Loss: 0.02000402845442295, Validation Loss: 0.021782467141747475\n"
     ]
    },
    {
     "name": "stderr",
     "output_type": "stream",
     "text": [
      "Iteration: 100%|██████████| 357/357 [00:11<00:00, 30.33it/s]\n",
      "Epoch: 100%|██████████| 1/1 [00:11<00:00, 11.77s/it]\n"
     ]
    },
    {
     "name": "stdout",
     "output_type": "stream",
     "text": [
      "Epoch 2: Train Loss: 0.015713540837168694, Validation Loss: 0.021344147622585297\n"
     ]
    },
    {
     "name": "stderr",
     "output_type": "stream",
     "text": [
      "Iteration: 100%|██████████| 357/357 [00:11<00:00, 30.26it/s]\n",
      "Epoch: 100%|██████████| 1/1 [00:11<00:00, 11.80s/it]\n"
     ]
    },
    {
     "name": "stdout",
     "output_type": "stream",
     "text": [
      "Epoch 3: Train Loss: 0.012213901616632938, Validation Loss: 0.021119872108101845\n"
     ]
    },
    {
     "name": "stderr",
     "output_type": "stream",
     "text": [
      "Iteration: 100%|██████████| 357/357 [00:11<00:00, 30.29it/s]\n",
      "Epoch: 100%|██████████| 1/1 [00:11<00:00, 11.79s/it]\n"
     ]
    },
    {
     "name": "stdout",
     "output_type": "stream",
     "text": [
      "Epoch 4: Train Loss: 0.00993012823164463, Validation Loss: 0.02108880691230297\n"
     ]
    },
    {
     "name": "stderr",
     "output_type": "stream",
     "text": [
      "Iteration: 100%|██████████| 357/357 [00:11<00:00, 30.57it/s]\n",
      "Epoch: 100%|██████████| 1/1 [00:11<00:00, 11.68s/it]\n"
     ]
    },
    {
     "name": "stdout",
     "output_type": "stream",
     "text": [
      "Epoch 5: Train Loss: 0.008326063863933086, Validation Loss: 0.02142658643424511\n"
     ]
    },
    {
     "name": "stderr",
     "output_type": "stream",
     "text": [
      "Iteration: 100%|██████████| 357/357 [00:11<00:00, 30.62it/s]\n",
      "Epoch: 100%|██████████| 1/1 [00:11<00:00, 11.66s/it]\n"
     ]
    },
    {
     "name": "stdout",
     "output_type": "stream",
     "text": [
      "Epoch 6: Train Loss: 0.006916399579495192, Validation Loss: 0.02130558341741562\n"
     ]
    },
    {
     "name": "stderr",
     "output_type": "stream",
     "text": [
      "Iteration: 100%|██████████| 357/357 [00:11<00:00, 30.11it/s]\n",
      "Epoch: 100%|██████████| 1/1 [00:11<00:00, 11.86s/it]\n"
     ]
    },
    {
     "name": "stdout",
     "output_type": "stream",
     "text": [
      "Epoch 7: Train Loss: 0.005931749939918518, Validation Loss: 0.021294206380844116\n"
     ]
    },
    {
     "name": "stderr",
     "output_type": "stream",
     "text": [
      "Iteration: 100%|██████████| 357/357 [00:11<00:00, 30.45it/s]\n",
      "Epoch: 100%|██████████| 1/1 [00:11<00:00, 11.73s/it]\n"
     ]
    },
    {
     "name": "stdout",
     "output_type": "stream",
     "text": [
      "Epoch 8: Train Loss: 0.0053589302115142345, Validation Loss: 0.021759305149316788\n"
     ]
    },
    {
     "name": "stderr",
     "output_type": "stream",
     "text": [
      "Iteration: 100%|██████████| 357/357 [00:11<00:00, 30.12it/s]\n",
      "Epoch: 100%|██████████| 1/1 [00:11<00:00, 11.86s/it]\n"
     ]
    },
    {
     "name": "stdout",
     "output_type": "stream",
     "text": [
      "Epoch 9: Train Loss: 0.004826483782380819, Validation Loss: 0.021681183949112892\n"
     ]
    },
    {
     "name": "stderr",
     "output_type": "stream",
     "text": [
      "Iteration: 100%|██████████| 357/357 [00:11<00:00, 30.34it/s]\n",
      "Epoch: 100%|██████████| 1/1 [00:11<00:00, 11.77s/it]\n"
     ]
    },
    {
     "name": "stdout",
     "output_type": "stream",
     "text": [
      "Epoch 10: Train Loss: 0.004580849781632423, Validation Loss: 0.022127872332930565\n"
     ]
    }
   ],
   "source": [
    "# Define function to calculate cosine similarity loss (MSE)\n",
    "def calculate_cosine_similarity_loss(model, examples):\n",
    "    embeddings1 = model.encode([example.texts[0] for example in examples], convert_to_tensor=True, show_progress_bar=False)\n",
    "    embeddings2 = model.encode([example.texts[1] for example in examples], convert_to_tensor=True, show_progress_bar=False)\n",
    "    \n",
    "    # Calculate cosine similarities\n",
    "    cosine_similarities = torch.cosine_similarity(embeddings1, embeddings2)\n",
    "    true_labels = torch.tensor([example.label for example in examples])\n",
    "    \n",
    "    # Calculate MSE loss\n",
    "    mse_loss = mean_squared_error(true_labels.cpu().numpy(), cosine_similarities.cpu().numpy())\n",
    "    return mse_loss\n",
    "\n",
    "# Prepare to store losses\n",
    "train_losses = []\n",
    "val_losses = []\n",
    "\n",
    "# Train the model one epoch at a time and manually compute loss\n",
    "for epoch in range(10):\n",
    "    # Fine-tune the model for one epoch\n",
    "    model.fit(train_objectives=[(DataLoader(train_examples, shuffle=True, batch_size=16), losses.CosineSimilarityLoss(model))],\n",
    "              epochs=1,\n",
    "              warmup_steps=100,\n",
    "              output_path=f'fine-tuned-model_epoch_{epoch}')  # Save the model after each epoch with a unique name\n",
    "    \n",
    "    # Load the model from the saved directory\n",
    "    model = SentenceTransformer(f'fine-tuned-model_epoch_{epoch}')\n",
    "    \n",
    "    # Manually evaluate by running inference and compute loss on both datasets\n",
    "    train_loss_value = calculate_cosine_similarity_loss(model, train_examples)\n",
    "    val_loss_value = calculate_cosine_similarity_loss(model, dev_examples)\n",
    "    \n",
    "    # Store the calculated losses\n",
    "    train_losses.append(train_loss_value)\n",
    "    val_losses.append(val_loss_value)\n",
    "    \n",
    "    print(f\"Epoch {epoch + 1}: Train Loss: {train_loss_value}, Validation Loss: {val_loss_value}\")\n"
   ]
  },
  {
   "cell_type": "code",
   "execution_count": 5,
   "metadata": {},
   "outputs": [
    {
     "data": {
      "image/png": "[encoded data removed]",
      "text/plain": [
       "<Figure size 640x480 with 1 Axes>"
      ]
     },
     "metadata": {},
     "output_type": "display_data"
    }
   ],
   "source": [
    "# Plot the training and validation losses\n",
    "import matplotlib.pyplot as plt\n",
    "\n",
    "plt.plot(train_losses, label='Train Loss')\n",
    "plt.plot(val_losses, label='Validation Loss')\n",
    "\n",
    "plt.xlabel('Epoch')\n",
    "plt.ylabel('Loss')\n",
    "plt.title('Training and Validation Losses')\n",
    "\n",
    "plt.legend()\n",
    "plt.show()"
   ]
  },
  {
   "cell_type": "code",
   "execution_count": 6,
   "metadata": {},
   "outputs": [
    {
     "name": "stdout",
     "output_type": "stream",
     "text": [
      "Pearson Correlation Coefficient: 0.8893499421882017\n"
     ]
    }
   ],
   "source": [
    "# Load the final model\n",
    "model = SentenceTransformer(f'fine-tuned-model_epoch_9')\n",
    "\n",
    "# Function to compute predictions\n",
    "def compute_predictions(model, examples):\n",
    "    embeddings1 = model.encode([example.texts[0] for example in examples], convert_to_tensor=True, show_progress_bar=False)\n",
    "    embeddings2 = model.encode([example.texts[1] for example in examples], convert_to_tensor=True, show_progress_bar=False)\n",
    "    \n",
    "    # Calculate cosine similarities\n",
    "    cosine_similarities = torch.cosine_similarity(embeddings1, embeddings2).cpu().numpy()\n",
    "    return cosine_similarities\n",
    "\n",
    "# Compute predictions for the dev dataset\n",
    "predicted_similarities = compute_predictions(model, dev_examples)\n",
    "\n",
    "# Extract the true labels/scores\n",
    "true_labels = np.array([example.label for example in dev_examples])\n",
    "\n",
    "# Calculate the Pearson correlation coefficient\n",
    "pearson_corr, _ = pearsonr(predicted_similarities, true_labels)\n",
    "\n",
    "print(f\"Pearson Correlation Coefficient: {pearson_corr}\")"
   ]
  }
 ],
 "metadata": {
  "kernelspec": {
   "display_name": "DLA2",
   "language": "python",
   "name": "python3"
  },
  "language_info": {
   "codemirror_mode": {
    "name": "ipython",
    "version": 3
   },
   "file_extension": ".py",
   "mimetype": "text/x-python",
   "name": "python",
   "nbconvert_exporter": "python",
   "pygments_lexer": "ipython3",
   "version": "3.11.8"
  }
 },
 "nbformat": 4,
 "nbformat_minor": 2
}
