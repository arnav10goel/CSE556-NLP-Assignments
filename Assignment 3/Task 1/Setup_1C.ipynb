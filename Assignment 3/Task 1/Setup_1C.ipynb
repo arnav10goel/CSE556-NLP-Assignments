{
 "cells": [
  {
   "cell_type": "code",
   "execution_count": 1,
   "metadata": {},
   "outputs": [],
   "source": [
    "import pandas as pd\n",
    "\n",
    "# Load the datasets\n",
    "train_df = pd.read_csv('A3_task1_data_files/train.csv', sep='\\t')\n",
    "dev_df = pd.read_csv('A3_task1_data_files/dev.csv', sep='\\t')\n",
    "\n",
    "dev_df.rename(columns={'setence1': 'sentence1'}, inplace=True)"
   ]
  },
  {
   "cell_type": "code",
   "execution_count": 2,
   "metadata": {},
   "outputs": [
    {
     "name": "stderr",
     "output_type": "stream",
     "text": [
      "/home/arnav/miniconda3/envs/DLA2/lib/python3.11/site-packages/tqdm/auto.py:21: TqdmWarning: IProgress not found. Please update jupyter and ipywidgets. See https://ipywidgets.readthedocs.io/en/stable/user_install.html\n",
      "  from .autonotebook import tqdm as notebook_tqdm\n"
     ]
    }
   ],
   "source": [
    "from torch.utils.data import DataLoader\n",
    "from sentence_transformers import InputExample, datasets\n",
    "\n",
    "# Convert the DataFrame into a list of InputExample\n",
    "train_examples = [InputExample(texts=[str(row['sentence1']), str(row['sentence2'])], label = (float(row['score']))/5.0) for _, row in train_df.iterrows()]\n",
    "dev_examples = [InputExample(texts=[str(row['sentence1']), str(row['sentence2'])], label = (float(row['score']))/5.0) for _, row in dev_df.iterrows()]\n",
    "\n",
    "# Create a DataLoader\n",
    "train_dataloader = DataLoader(train_examples, shuffle=True, batch_size=64)\n",
    "dev_dataloader = DataLoader(dev_examples, shuffle=False, batch_size=64)"
   ]
  },
  {
   "cell_type": "code",
   "execution_count": 3,
   "metadata": {},
   "outputs": [],
   "source": [
    "from sentence_transformers import SentenceTransformer, models, losses\n",
    "\n",
    "# Load a pre-trained Sentence-BERT model\n",
    "model = SentenceTransformer(\"all-MiniLM-L6-v2\")\n",
    "\n",
    "# Use CosineSimilarityLoss\n",
    "train_loss = losses.CosineSimilarityLoss(model=model)"
   ]
  },
  {
   "cell_type": "code",
   "execution_count": 4,
   "metadata": {},
   "outputs": [
    {
     "name": "stderr",
     "output_type": "stream",
     "text": [
      "Iteration: 100%|██████████| 90/90 [00:05<00:00, 15.87it/s]\n",
      "Iteration: 100%|██████████| 90/90 [00:05<00:00, 17.82it/s]\n",
      "Iteration: 100%|██████████| 90/90 [00:05<00:00, 17.69it/s]\n",
      "Iteration: 100%|██████████| 90/90 [00:05<00:00, 17.77it/s]\n",
      "Iteration: 100%|██████████| 90/90 [00:05<00:00, 17.75it/s]\n",
      "Iteration: 100%|██████████| 90/90 [00:05<00:00, 17.66it/s]\n",
      "Iteration: 100%|██████████| 90/90 [00:04<00:00, 18.01it/s]\n",
      "Iteration: 100%|██████████| 90/90 [00:05<00:00, 17.54it/s]\n",
      "Iteration: 100%|██████████| 90/90 [00:05<00:00, 17.47it/s]\n",
      "Iteration: 100%|██████████| 90/90 [00:05<00:00, 17.42it/s]\n",
      "Epoch: 100%|██████████| 10/10 [01:01<00:00,  6.11s/it]\n"
     ]
    }
   ],
   "source": [
    "from sentence_transformers import evaluation\n",
    "\n",
    "# Define an evaluator using the dev set for evaluation during training\n",
    "evaluator = evaluation.EmbeddingSimilarityEvaluator.from_input_examples(dev_examples, name='dev')\n",
    "\n",
    "# Fine-tune the model\n",
    "model.fit(train_objectives=[(train_dataloader, train_loss)],\n",
    "          evaluator=evaluator,\n",
    "          epochs=10,\n",
    "          warmup_steps=100,\n",
    "          output_path='fine-tuned-model')"
   ]
  }
 ],
 "metadata": {
  "kernelspec": {
   "display_name": "pytorch",
   "language": "python",
   "name": "python3"
  },
  "language_info": {
   "codemirror_mode": {
    "name": "ipython",
    "version": 3
   },
   "file_extension": ".py",
   "mimetype": "text/x-python",
   "name": "python",
   "nbconvert_exporter": "python",
   "pygments_lexer": "ipython3",
   "version": "3.11.8"
  }
 },
 "nbformat": 4,
 "nbformat_minor": 2
}
