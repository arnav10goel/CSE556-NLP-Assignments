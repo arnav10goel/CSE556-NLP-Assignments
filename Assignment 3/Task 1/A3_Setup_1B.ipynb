{
  "cells": [
    {
      "cell_type": "code",
      "execution_count": 12,
      "metadata": {
        "id": "vxqW07HvjX1w"
      },
      "outputs": [],
      "source": [
        "import pandas as pd\n",
        "\n",
        "train_df = pd.read_csv('A3_task1_data_files/train.csv', sep='\\t')\n",
        "dev_df = pd.read_csv('A3_task1_data_files/dev.csv', sep='\\t')\n",
        "\n",
        "dev_df.rename(columns={'setence1': 'sentence1'}, inplace=True)\n",
        "\n",
        "# Drop rows with null values\n",
        "train_df.dropna(inplace=True)\n",
        "dev_df.dropna(inplace=True)"
      ]
    },
    {
      "cell_type": "code",
      "execution_count": 13,
      "metadata": {
        "colab": {
          "base_uri": "https://localhost:8080/"
        },
        "id": "JBkvsoOHjtln",
        "outputId": "14f0c884-bd2e-4ad2-c9a1-d91fa6772ac9"
      },
      "outputs": [
        {
          "name": "stderr",
          "output_type": "stream",
          "text": [
            "[nltk_data] Downloading package punkt to /home/arnav/nltk_data...\n",
            "[nltk_data]   Package punkt is already up-to-date!\n",
            "[nltk_data] Downloading package wordnet to /home/arnav/nltk_data...\n",
            "[nltk_data]   Package wordnet is already up-to-date!\n",
            "[nltk_data] Downloading package stopwords to /home/arnav/nltk_data...\n",
            "[nltk_data]   Package stopwords is already up-to-date!\n",
            "[nltk_data] Downloading package averaged_perceptron_tagger to\n",
            "[nltk_data]     /home/arnav/nltk_data...\n",
            "[nltk_data]   Package averaged_perceptron_tagger is already up-to-\n",
            "[nltk_data]       date!\n"
          ]
        },
        {
          "data": {
            "text/plain": [
              "True"
            ]
          },
          "execution_count": 13,
          "metadata": {},
          "output_type": "execute_result"
        }
      ],
      "source": [
        "from torch.utils.data import Dataset, DataLoader\n",
        "import pandas as pd\n",
        "import torch\n",
        "from transformers import BertTokenizer\n",
        "import string\n",
        "\n",
        "import nltk\n",
        "from nltk.tokenize import word_tokenize\n",
        "from nltk.stem import WordNetLemmatizer\n",
        "from nltk.corpus import stopwords\n",
        "\n",
        "# Download necessary NLTK data\n",
        "nltk.download('punkt')\n",
        "nltk.download('wordnet')\n",
        "nltk.download('stopwords')\n",
        "nltk.download('averaged_perceptron_tagger')\n"
      ]
    },
    {
      "cell_type": "code",
      "execution_count": 14,
      "metadata": {
        "id": "FYUsKWZijv4D"
      },
      "outputs": [],
      "source": [
        "class Task1B_Dataset(Dataset):\n",
        "    def __init__(self, dataframe, max_length = 128):\n",
        "        self.dataframe = dataframe\n",
        "        self.max_length = max_length\n",
        "\n",
        "    def __len__(self):\n",
        "        return len(self.dataframe)\n",
        "\n",
        "    def __getitem__(self, idx):\n",
        "        text1 = str(self.dataframe.iloc[idx]['sentence1'])\n",
        "        text2 = str(self.dataframe.iloc[idx]['sentence2'])\n",
        "        score = self.dataframe.iloc[idx]['score']\n",
        "        score = (score / 2.5) - 1\n",
        "        return text1, text2, score"
      ]
    },
    {
      "cell_type": "code",
      "execution_count": 15,
      "metadata": {
        "id": "kzL8TeHtjwcX"
      },
      "outputs": [],
      "source": [
        "# Make dataset class\n",
        "train_dataset = Task1B_Dataset(train_df)\n",
        "dev_dataset = Task1B_Dataset(dev_df)\n",
        "\n",
        "# Initialise data loaders\n",
        "train_dataloader = DataLoader(train_dataset, batch_size=64, shuffle=True)\n",
        "dev_dataloader = DataLoader(dev_dataset, batch_size=64, shuffle=False)"
      ]
    },
    {
      "cell_type": "code",
      "execution_count": 16,
      "metadata": {
        "id": "6nadrkaOj5kq"
      },
      "outputs": [],
      "source": [
        "from sentence_transformers import SentenceTransformer, util\n",
        "import numpy as np\n",
        "model = SentenceTransformer(\"all-MiniLM-L6-v2\")"
      ]
    },
    {
      "cell_type": "code",
      "execution_count": 19,
      "metadata": {
        "id": "wKbckh2rmG-1"
      },
      "outputs": [],
      "source": [
        "# Function to compute cosine similarities between pairs of sentences\n",
        "def compute_cosine_similarities(dataset):\n",
        "    similarities = []\n",
        "    model.eval()\n",
        "    with torch.no_grad():\n",
        "        for sentence1, sentence2, _ in DataLoader(dataset, batch_size=64, shuffle=False):\n",
        "            sentence1_embeddings = model.encode(sentence1, convert_to_tensor=True)\n",
        "            sentence2_embeddings = model.encode(sentence2, convert_to_tensor=True)\n",
        "            cosine_scores = util.pytorch_cos_sim(sentence1_embeddings, sentence2_embeddings)\n",
        "            cosine_scores_diagonal = cosine_scores.cpu().numpy().diagonal()\n",
        "            scaled_scores = (cosine_scores_diagonal + 1) * 2.5\n",
        "            similarities.extend(scaled_scores)\n",
        "\n",
        "    return np.array(similarities)"
      ]
    },
    {
      "cell_type": "code",
      "execution_count": 20,
      "metadata": {
        "id": "pKn3yHhhnW_9"
      },
      "outputs": [],
      "source": [
        "train_similarities = compute_cosine_similarities(train_dataset)\n",
        "dev_similarities = compute_cosine_similarities(dev_dataset)"
      ]
    },
    {
      "cell_type": "code",
      "execution_count": 21,
      "metadata": {
        "id": "ijiuXv9FulJj"
      },
      "outputs": [],
      "source": [
        "train_labels = train_df['score'].tolist()\n",
        "dev_labels = dev_df['score'].tolist()"
      ]
    },
    {
      "cell_type": "code",
      "execution_count": 24,
      "metadata": {
        "colab": {
          "base_uri": "https://localhost:8080/"
        },
        "id": "SUaLjoxSy2JY",
        "outputId": "d9885c22-2470-437e-98de-f42be10ae44b"
      },
      "outputs": [
        {
          "data": {
            "text/plain": [
              "0.863142382392328"
            ]
          },
          "execution_count": 24,
          "metadata": {},
          "output_type": "execute_result"
        }
      ],
      "source": [
        "from scipy.stats import pearsonr\n",
        "pearson_corr, _ = pearsonr(dev_similarities, dev_labels)\n",
        "pearson_corr"
      ]
    }
  ],
  "metadata": {
    "accelerator": "GPU",
    "colab": {
      "gpuType": "T4",
      "provenance": []
    },
    "kernelspec": {
      "display_name": "Python 3",
      "name": "python3"
    },
    "language_info": {
      "codemirror_mode": {
        "name": "ipython",
        "version": 3
      },
      "file_extension": ".py",
      "mimetype": "text/x-python",
      "name": "python",
      "nbconvert_exporter": "python",
      "pygments_lexer": "ipython3",
      "version": "3.11.8"
    }
  },
  "nbformat": 4,
  "nbformat_minor": 0
}
