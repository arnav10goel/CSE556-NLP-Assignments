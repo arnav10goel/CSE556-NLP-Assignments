{
 "cells": [
  {
   "cell_type": "code",
   "execution_count": 1,
   "metadata": {},
   "outputs": [],
   "source": [
    "import json\n",
    "import os\n",
    "\n",
    "train_path = \"ATE_train.json\"\n",
    "test_path = \"ATE_test.json\"\n",
    "val_path = \"ATE_val.json\"\n",
    "\n",
    "# Function to load the data from the json file\n",
    "def load_from_json(file_path):\n",
    "    with open(file_path, \"r\") as file:\n",
    "        data = json.load(file)\n",
    "    return data\n",
    "\n",
    "train_dict = load_from_json(train_path)\n",
    "val_dict = load_from_json(val_path)\n",
    "test_dict = load_from_json(test_path)"
   ]
  },
  {
   "cell_type": "code",
   "execution_count": 2,
   "metadata": {},
   "outputs": [],
   "source": [
    "# Function to tokenize text based on space\n",
    "def tokenize_text(text):\n",
    "    tokens = []\n",
    "    start = 0\n",
    "    i = 0\n",
    "    while i < len(text):\n",
    "        if text[i] == ' ':\n",
    "            tokens.append(text[start:i])\n",
    "            start = i + 1\n",
    "        i += 1\n",
    "    tokens.append(text[start:i])\n",
    "    return tokens"
   ]
  },
  {
   "cell_type": "code",
   "execution_count": 3,
   "metadata": {},
   "outputs": [],
   "source": [
    "for key, dict in val_dict.items():\n",
    "    text = dict[\"text\"]\n",
    "    labels = dict[\"labels\"]\n",
    "    text_lst = tokenize_text(text)\n",
    "    if len(labels) != len(text_lst):\n",
    "        print(\"Train: \", key, len(labels), len(text_lst))\n",
    "        print(text_lst)\n",
    "        print(labels)\n",
    "        print()"
   ]
  },
  {
   "cell_type": "code",
   "execution_count": 4,
   "metadata": {},
   "outputs": [
    {
     "name": "stdout",
     "output_type": "stream",
     "text": [
      "Max len labels:  83\n"
     ]
    }
   ],
   "source": [
    "max_len_labels = 0\n",
    "\n",
    "for key, dict in train_dict.items():\n",
    "    text = dict[\"text\"]\n",
    "    labels = dict[\"labels\"]\n",
    "    text_lst = tokenize_text(text)\n",
    "    if len(labels) != len(text_lst):\n",
    "        print(\"Train: \", key, len(labels), len(text_lst))\n",
    "        print(text_lst)\n",
    "        print(labels)\n",
    "        print()\n",
    "    if len(labels) > max_len_labels:\n",
    "        max_len_labels = len(labels)\n",
    "\n",
    "for key, dict in val_dict.items():\n",
    "    text = dict[\"text\"]\n",
    "    labels = dict[\"labels\"]\n",
    "    text_lst = tokenize_text(text)\n",
    "    if len(labels) != len(text_lst):\n",
    "        print(\"Val: \", key, len(labels), len(text_lst))\n",
    "        print(text_lst)\n",
    "        print(labels)\n",
    "        print()\n",
    "    if len(labels) > max_len_labels:\n",
    "        max_len_labels = len(labels)\n",
    "\n",
    "for key, dict in test_dict.items():\n",
    "    text = dict[\"text\"]\n",
    "    labels = dict[\"labels\"]\n",
    "    text_lst = tokenize_text(text)\n",
    "    if len(labels) != len(text_lst):\n",
    "        print(\"Test: \", key, len(labels), len(text_lst))\n",
    "        print(text_lst)\n",
    "        print(labels)\n",
    "        print()\n",
    "    if len(labels) > max_len_labels:\n",
    "        max_len_labels = len(labels)\n",
    "\n",
    "print(\"Max len labels: \", max_len_labels)"
   ]
  },
  {
   "cell_type": "code",
   "execution_count": 5,
   "metadata": {},
   "outputs": [],
   "source": [
    "# Dump the labels to a file\n",
    "train_labels = {}\n",
    "val_labels = {}\n",
    "test_labels = {}\n",
    "\n",
    "for key, dict in train_dict.items():\n",
    "    train_labels[key] = dict[\"labels\"]\n",
    "\n",
    "for key, dict in val_dict.items():\n",
    "    val_labels[key] = dict[\"labels\"]\n",
    "\n",
    "for key, dict in test_dict.items():\n",
    "    test_labels[key] = dict[\"labels\"]\n",
    "\n",
    "# Dump to JSON\n",
    "with open(\"ATE_train_labels.json\", \"w\") as file:\n",
    "    json.dump(train_labels, file, indent=4)\n",
    "\n",
    "with open(\"ATE_val_labels.json\", \"w\") as file:\n",
    "    json.dump(val_labels, file, indent=4)\n",
    "\n",
    "with open(\"ATE_test_labels.json\", \"w\") as file:\n",
    "    json.dump(test_labels, file, indent=4)"
   ]
  }
 ],
 "metadata": {
  "kernelspec": {
   "display_name": "Python 3",
   "language": "python",
   "name": "python3"
  },
  "language_info": {
   "codemirror_mode": {
    "name": "ipython",
    "version": 3
   },
   "file_extension": ".py",
   "mimetype": "text/x-python",
   "name": "python",
   "nbconvert_exporter": "python",
   "pygments_lexer": "ipython3",
   "version": "3.10.0"
  }
 },
 "nbformat": 4,
 "nbformat_minor": 2
}
