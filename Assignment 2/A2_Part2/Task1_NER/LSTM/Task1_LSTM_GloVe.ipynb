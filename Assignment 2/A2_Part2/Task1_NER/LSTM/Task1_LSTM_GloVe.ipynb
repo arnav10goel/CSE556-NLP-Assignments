{
 "cells": [
  {
   "cell_type": "code",
   "execution_count": 1,
   "metadata": {},
   "outputs": [],
   "source": [
    "import pickle\n",
    "import json\n",
    "import numpy as np\n",
    "\n",
    "# Function to load the data from the json file\n",
    "def load_from_json(file_path):\n",
    "    with open(file_path, \"r\") as file:\n",
    "        data = json.load(file)\n",
    "    return data\n",
    "\n",
    "# Load these embeddings from the pickle files\n",
    "train_embeddings_file = \"Task1_GLoVe_train_embeddings.pkl\"\n",
    "val_embeddings_file = \"Task1_GLoVe_val_embeddings.pkl\"\n",
    "test_embeddings_file = \"Task1_GLoVe_test_embeddings.pkl\"\n",
    "\n",
    "train_embeddings_loaded = pickle.load(open(train_embeddings_file, \"rb\"))\n",
    "val_embeddings_loaded = pickle.load(open(val_embeddings_file, \"rb\"))\n",
    "test_embeddings_loaded = pickle.load(open(test_embeddings_file, \"rb\"))\n",
    "\n",
    "# Load the labels from the json files\n",
    "train_labels = {}\n",
    "val_labels = {}\n",
    "test_labels = {}\n",
    "\n",
    "train_label_path = \"NER_train_labels.json\"\n",
    "val_label_path = \"NER_val_labels.json\"\n",
    "test_label_path = \"NER_test_labels.json\"\n",
    "\n",
    "train_labels = load_from_json(train_label_path)\n",
    "val_labels = load_from_json(val_label_path)\n",
    "test_labels = load_from_json(test_label_path)"
   ]
  },
  {
   "cell_type": "code",
   "execution_count": 2,
   "metadata": {},
   "outputs": [],
   "source": [
    "# discarding the sentences with length greater than 174\n",
    "# for train\n",
    "\n",
    "train_labels = {k: v for k, v in train_labels.items() if len(v) <= 174}\n",
    "train_embeddings_loaded = {k: v for k, v in train_embeddings_loaded.items() if len(v) <= 174}\n",
    "\n",
    "# for val\n",
    "val_labels = {k: v for k, v in val_labels.items() if len(v) <= 174}\n",
    "val_embeddings_loaded = {k: v for k, v in val_embeddings_loaded.items() if len(v) <= 174}\n",
    "\n",
    "# for test\n",
    "test_labels = {k: v for k, v in test_labels.items() if len(v) <= 174}\n",
    "test_embeddings_loaded = {k: v for k, v in test_embeddings_loaded.items() if len(v) <= 174}"
   ]
  },
  {
   "cell_type": "code",
   "execution_count": 3,
   "metadata": {},
   "outputs": [],
   "source": [
    "# For each key, pad the embeddings and labels to the maximum length of 174\n",
    "# For padding labels, use 'O' tag\n",
    "# For padding embeddings, use a vector of zeros\n",
    "max_length = 174\n",
    "\n",
    "for key in train_embeddings_loaded:\n",
    "    label = train_labels[key]\n",
    "    embeddings = train_embeddings_loaded[key]\n",
    "\n",
    "    # Pad the labels\n",
    "    if len(label) < max_length:\n",
    "        label = label + ['O'] * (max_length - len(label))\n",
    "\n",
    "    # Pad the embeddings\n",
    "    if len(embeddings) < max_length:\n",
    "        embeddings = np.concatenate((embeddings, np.zeros((max_length - len(embeddings), 300))), axis=0)\n",
    "\n",
    "    train_labels[key] = label\n",
    "    train_embeddings_loaded[key] = embeddings"
   ]
  },
  {
   "cell_type": "code",
   "execution_count": 4,
   "metadata": {},
   "outputs": [],
   "source": [
    "for key in val_embeddings_loaded:\n",
    "    label = val_labels[key]\n",
    "    embeddings = val_embeddings_loaded[key]\n",
    "\n",
    "    # Pad the labels\n",
    "    if len(label) < max_length:\n",
    "        label = label + ['O'] * (max_length - len(label))\n",
    "\n",
    "    # Pad the embeddings\n",
    "    if len(embeddings) < max_length:\n",
    "        embeddings = np.concatenate((embeddings, np.zeros((max_length - len(embeddings), 300))), axis=0)\n",
    "\n",
    "    val_labels[key] = label\n",
    "    val_embeddings_loaded[key] = embeddings\n",
    "\n",
    "for key in test_embeddings_loaded:\n",
    "    label = test_labels[key]\n",
    "    embeddings = test_embeddings_loaded[key]\n",
    "\n",
    "    # Pad the labels\n",
    "    if len(label) < max_length:\n",
    "        label = label + ['O'] * (max_length - len(label))\n",
    "\n",
    "    # Pad the embeddings\n",
    "    if len(embeddings) < max_length:\n",
    "        embeddings = np.concatenate((embeddings, np.zeros((max_length - len(embeddings), 300))), axis=0)\n",
    "\n",
    "    test_labels[key] = label\n",
    "    test_embeddings_loaded[key] = embeddings"
   ]
  },
  {
   "cell_type": "code",
   "execution_count": 5,
   "metadata": {},
   "outputs": [
    {
     "name": "stdout",
     "output_type": "stream",
     "text": [
      "{'B_JUDGE': 0, 'B_PRECEDENT': 1, 'I_STATUTE': 2, 'B_WITNESS': 3, 'B_ORG': 4, 'I_PETITIONER': 5, 'B_CASE_NUMBER': 6, 'I_GPE': 7, 'B_OTHER_PERSON': 8, 'I_COURT': 9, 'B_DATE': 10, 'I_WITNESS': 11, 'B_PETITIONER': 12, 'I_DATE': 13, 'I_PRECEDENT': 14, 'I_CASE_NUMBER': 15, 'B_GPE': 16, 'B_COURT': 17, 'I_OTHER_PERSON': 18, 'B_RESPONDENT': 19, 'O': 20, 'I_ORG': 21, 'I_JUDGE': 22, 'I_RESPONDENT': 23, 'B_STATUTE': 24, 'I_PROVISION': 25, 'B_PROVISION': 26}\n"
     ]
    }
   ],
   "source": [
    "#get all the unique labels\n",
    "unique_labels = set()\n",
    "for labels in train_labels.values():\n",
    "    unique_labels.update(labels)\n",
    "\n",
    "#giving all labels index\n",
    "labels_to_index = {label: index for index, label in enumerate(unique_labels)}\n",
    "print(labels_to_index)"
   ]
  },
  {
   "cell_type": "code",
   "execution_count": 6,
   "metadata": {},
   "outputs": [],
   "source": [
    "# Function to convert labels to indices\n",
    "def labels_to_indices(labels, label_to_index):\n",
    "    return [[label_to_index[label] for label in sentence_labels] for sentence_labels in labels]\n",
    "\n",
    "# Convert the labels to indices\n",
    "train_labels_indices = labels_to_indices(train_labels.values(), labels_to_index)\n",
    "val_labels_indices = labels_to_indices(val_labels.values(), labels_to_index)\n",
    "test_labels_indices = labels_to_indices(test_labels.values(), labels_to_index)"
   ]
  },
  {
   "cell_type": "code",
   "execution_count": 7,
   "metadata": {},
   "outputs": [
    {
     "name": "stdout",
     "output_type": "stream",
     "text": [
      "b29019e16fc64e5da48f20706b152fae 174 174\n",
      "b8f6ac625fb9435db21c94644bf7784f 174 174\n",
      "4bbb0629e66146edaf4ac7bde47062fb 174 174\n",
      "0373124f0bc54a38ba366718e5dd40eb 174 174\n",
      "12934312395b4f2cbcf5011d0a9e949e 174 174\n"
     ]
    }
   ],
   "source": [
    "# checking the length of the labes and embeddings for first 5 keys\n",
    "for key in list(train_labels.keys())[:5]:\n",
    "    print(key, len(train_labels[key]), len(train_embeddings_loaded[key]))"
   ]
  },
  {
   "cell_type": "code",
   "execution_count": 17,
   "metadata": {},
   "outputs": [],
   "source": [
    "import torch\n",
    "import torch.nn as nn\n",
    "\n",
    "# Define the LSTM model\n",
    "class LSTMModel(nn.Module):\n",
    "    def __init__(self, input_dim, hidden_dim, output_dim, num_layers, dropout):\n",
    "        super(LSTMModel, self).__init__()\n",
    "        self.lstm = nn.LSTM(input_dim, hidden_dim, num_layers, batch_first=True, dropout=dropout)\n",
    "        self.fc = nn.Linear(hidden_dim, output_dim)\n",
    "\n",
    "    def forward(self, x):\n",
    "        out, _ = self.lstm(x)\n",
    "        out = self.fc(out)  # Take the output of the last timestep\n",
    "        return out"
   ]
  },
  {
   "cell_type": "code",
   "execution_count": 18,
   "metadata": {},
   "outputs": [],
   "source": [
    "num_classes = len(labels_to_index)\n",
    "# Model parameters\n",
    "input_dim = 300  # Size of word vectors\n",
    "hidden_dim = 256 # Size of hidden state\n",
    "output_dim = num_classes  # Number of output classes\n",
    "num_layers = 1  # Number of LSTM layers\n",
    "dropout = 0  # Dropout probability"
   ]
  },
  {
   "cell_type": "code",
   "execution_count": 19,
   "metadata": {},
   "outputs": [],
   "source": [
    "import torch.optim as optim\n",
    "# Create the LSTM model\n",
    "model = LSTMModel(input_dim, hidden_dim, output_dim, num_layers, dropout)\n",
    "# Loss function and optimizer\n",
    "loss_function = nn.CrossEntropyLoss()\n",
    "optimizer = optim.Adam(model.parameters(), lr=0.001)"
   ]
  },
  {
   "cell_type": "code",
   "execution_count": 11,
   "metadata": {},
   "outputs": [
    {
     "name": "stderr",
     "output_type": "stream",
     "text": [
      "C:\\Users\\SIDDHARTH RAJPUT\\AppData\\Local\\Temp\\ipykernel_20904\\1514317114.py:7: UserWarning: Creating a tensor from a list of numpy.ndarrays is extremely slow. Please consider converting the list to a single numpy.ndarray with numpy.array() before converting to a tensor. (Triggered internally at ..\\torch\\csrc\\utils\\tensor_new.cpp:278.)\n",
      "  train_embeddings_tensor = torch.tensor([train_embeddings_loaded[key] for key in train_labels], dtype=torch.float)\n"
     ]
    }
   ],
   "source": [
    "from sklearn.metrics import f1_score\n",
    "from torch.utils.data import DataLoader, TensorDataset\n",
    "\n",
    "# Convert the data to PyTorch tensors \n",
    "# embeddings to dtype float\n",
    "# labels to dtype long\n",
    "train_embeddings_tensor = torch.tensor([train_embeddings_loaded[key] for key in train_labels], dtype=torch.float)\n",
    "train_labels_tensor = torch.tensor(train_labels_indices, dtype=torch.long)\n",
    "\n",
    "val_embeddings_tensor = torch.tensor([val_embeddings_loaded[key] for key in val_labels], dtype=torch.float)\n",
    "val_labels_tensor = torch.tensor(val_labels_indices, dtype=torch.long)\n",
    "\n",
    "test_embeddings_tensor = torch.tensor([test_embeddings_loaded[key] for key in test_labels], dtype=torch.float)\n",
    "test_labels_tensor = torch.tensor(test_labels_indices, dtype=torch.long)\n",
    "                                  \n",
    "# Create the DataLoader\n",
    "train_dataset = TensorDataset(train_embeddings_tensor, train_labels_tensor)\n",
    "val_dataset = TensorDataset(val_embeddings_tensor, val_labels_tensor)\n",
    "test_dataset = TensorDataset(test_embeddings_tensor, test_labels_tensor)\n",
    "\n",
    "train_loader = DataLoader(train_dataset, batch_size=32, shuffle=True)\n",
    "val_loader = DataLoader(val_dataset, batch_size=32, shuffle=True)\n",
    "test_loader = DataLoader(test_dataset, batch_size=32, shuffle=True)"
   ]
  },
  {
   "cell_type": "code",
   "execution_count": 20,
   "metadata": {},
   "outputs": [
    {
     "name": "stdout",
     "output_type": "stream",
     "text": [
      "Epoch 1, Training Loss: 0.2593119617299255, Validation Loss: 0.1016297760936949, Training F1: 0.08605774481155877, Validation F1: 0.18585369157180265\n",
      "Epoch 2, Training Loss: 0.08380653799708146, Validation Loss: 0.07040595412254333, Training F1: 0.2882709898614069, Validation F1: 0.34813896128367705\n",
      "Epoch 3, Training Loss: 0.06426806868131892, Validation Loss: 0.05978122345275349, Training F1: 0.3942543008499914, Validation F1: 0.4082134276158437\n",
      "Epoch 4, Training Loss: 0.05592479140486613, Validation Loss: 0.054983253280321755, Training F1: 0.43718153651751285, Validation F1: 0.4361062203157086\n",
      "Epoch 5, Training Loss: 0.051144157651351746, Validation Loss: 0.0520103251768483, Training F1: 0.4599237632369223, Validation F1: 0.4685229123288526\n",
      "Epoch 6, Training Loss: 0.047587572637782155, Validation Loss: 0.050229095957345433, Training F1: 0.4909033317895893, Validation F1: 0.47840766400601364\n",
      "Epoch 7, Training Loss: 0.04448710261024089, Validation Loss: 0.04771574301024278, Training F1: 0.5237499638806666, Validation F1: 0.5094168587012411\n",
      "Epoch 8, Training Loss: 0.04131126755559112, Validation Loss: 0.04640762851470047, Training F1: 0.5587664183277328, Validation F1: 0.5226150977232975\n",
      "Epoch 9, Training Loss: 0.040162164354288724, Validation Loss: 0.04586797638071908, Training F1: 0.5867573762272359, Validation F1: 0.5402268086866451\n",
      "Epoch 10, Training Loss: 0.03720352150484979, Validation Loss: 0.045571805205610064, Training F1: 0.6160892092081119, Validation F1: 0.5661978447923777\n"
     ]
    }
   ],
   "source": [
    "# Tracking variables\n",
    "training_losses = []\n",
    "validation_losses = []\n",
    "training_f1_scores = []\n",
    "validation_f1_scores = []\n",
    "\n",
    "epochs = 10\n",
    "for epoch in range(epochs):\n",
    "    model.train()\n",
    "    train_losses, val_losses = [], []\n",
    "    train_preds, train_true = [], []\n",
    "    val_preds, val_true = [], []\n",
    "\n",
    "    # Training loop\n",
    "    for inputs, labels in train_loader:\n",
    "        optimizer.zero_grad()\n",
    "        outputs = model(inputs)\n",
    "        loss = loss_function(outputs.view(-1, num_classes), labels.view(-1))\n",
    "        loss.backward()\n",
    "        optimizer.step()\n",
    "        train_losses.append(loss.item())\n",
    "        _, predicted = torch.max(outputs.data, 2)\n",
    "        train_preds.extend(predicted.view(-1).cpu().numpy())\n",
    "        train_true.extend(labels.view(-1).cpu().numpy())\n",
    "\n",
    "    # Validation loop\n",
    "    model.eval()\n",
    "    with torch.no_grad():\n",
    "        for inputs, labels in val_loader:\n",
    "            outputs = model(inputs)\n",
    "            loss = loss_function(outputs.view(-1, num_classes), labels.view(-1))\n",
    "            val_losses.append(loss.item())\n",
    "            _, predicted = torch.max(outputs.data, 2)\n",
    "            val_preds.extend(predicted.view(-1).cpu().numpy())\n",
    "            val_true.extend(labels.view(-1).cpu().numpy())\n",
    "\n",
    "    # Calculate metrics\n",
    "    train_f1 = f1_score(train_true, train_preds, average='macro')\n",
    "    val_f1 = f1_score(val_true, val_preds, average='macro')\n",
    "\n",
    "    # Store metrics\n",
    "    training_losses.append(np.mean(train_losses))\n",
    "    validation_losses.append(np.mean(val_losses))\n",
    "    training_f1_scores.append(train_f1)\n",
    "    validation_f1_scores.append(val_f1)\n",
    "\n",
    "    print(f'Epoch {epoch+1}, Training Loss: {training_losses[-1]}, Validation Loss: {validation_losses[-1]}, '\n",
    "          f'Training F1: {training_f1_scores[-1]}, Validation F1: {validation_f1_scores[-1]}')\n",
    "\n",
    "# Save trained model\n",
    "torch.save(model.state_dict(), 'Task1_LSTM_GloVe_model.pth')"
   ]
  },
  {
   "cell_type": "code",
   "execution_count": 21,
   "metadata": {},
   "outputs": [
    {
     "name": "stdout",
     "output_type": "stream",
     "text": [
      "Test F1 Score: 0.5693615397028231\n",
      "Test Accuracy: 0.9866972532741021\n"
     ]
    }
   ],
   "source": [
    "from sklearn.metrics import f1_score, accuracy_score\n",
    "\n",
    "# Initialize lists to store predictions and actual values\n",
    "test_preds, test_true = [], []\n",
    "\n",
    "# Switch model to evaluation mode\n",
    "model.eval()\n",
    "\n",
    "with torch.no_grad():  # Do not compute gradients\n",
    "    for inputs, labels in test_loader:\n",
    "        outputs = model(inputs)\n",
    "        _, predicted = torch.max(outputs.data, 2)  # Get the predicted classes\n",
    "        \n",
    "        test_preds.extend(predicted.view(-1).numpy())  # Flatten and store predictions\n",
    "        test_true.extend(labels.view(-1).numpy())  # Flatten and store true labels\n",
    "\n",
    "# Calculate the F1 score for the test set\n",
    "test_f1 = f1_score(test_true, test_preds, average='macro')\n",
    "\n",
    "# Calculate accuracy for the test set\n",
    "test_accuracy = accuracy_score(test_true, test_preds)\n",
    "\n",
    "# Print the F1 score and accuracy\n",
    "print(f'Test F1 Score: {test_f1}')\n",
    "print(f'Test Accuracy: {test_accuracy}')"
   ]
  },
  {
   "cell_type": "code",
   "execution_count": 22,
   "metadata": {},
   "outputs": [
    {
     "data": {
      "image/png": "[encoded data removed]",
      "text/plain": [
       "<Figure size 1296x1296 with 2 Axes>"
      ]
     },
     "metadata": {
      "needs_background": "light"
     },
     "output_type": "display_data"
    }
   ],
   "source": [
    "import matplotlib.pyplot as plt\n",
    "\n",
    "# Generate plots\n",
    "plt.figure(figsize=(18, 18))\n",
    "\n",
    "# Loss plot\n",
    "plt.subplot(3, 1, 1)\n",
    "plt.plot(range(1, epochs+1), training_losses, label='Training Loss')\n",
    "plt.plot(range(1, epochs+1), validation_losses, label='Validation Loss')\n",
    "plt.xlabel('Epochs')\n",
    "plt.ylabel('Loss')\n",
    "plt.title('Training and Validation Loss')\n",
    "plt.legend()\n",
    "\n",
    "# F1 plot\n",
    "plt.subplot(3, 1, 2)\n",
    "plt.plot(range(1, epochs+1), training_f1_scores, label='Training Macro-F1-score')\n",
    "plt.plot(range(1, epochs+1), validation_f1_scores, label='Validation Macro-F1-score')\n",
    "plt.xlabel('Epochs')\n",
    "plt.ylabel('Macro-F1-score')\n",
    "plt.title('Training and Validation Macro-F1-score')\n",
    "plt.legend()\n",
    "\n",
    "plt.show()"
   ]
  }
 ],
 "metadata": {
  "kernelspec": {
   "display_name": "Python 3",
   "language": "python",
   "name": "python3"
  },
  "language_info": {
   "codemirror_mode": {
    "name": "ipython",
    "version": 3
   },
   "file_extension": ".py",
   "mimetype": "text/x-python",
   "name": "python",
   "nbconvert_exporter": "python",
   "pygments_lexer": "ipython3",
   "version": "3.10.1"
  }
 },
 "nbformat": 4,
 "nbformat_minor": 2
}
