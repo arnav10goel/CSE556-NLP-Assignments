{
 "cells": [
  {
   "cell_type": "code",
   "execution_count": 1,
   "metadata": {},
   "outputs": [],
   "source": [
    "import json\n",
    "from sklearn.model_selection import train_test_split\n",
    "\n",
    "# Load the dataset\n",
    "with open('NER_TRAIN_JUDGEMENT.json', 'r', encoding='utf-8') as f:\n",
    "    dataset = json.load(f)\n",
    "\n",
    "# print('Number of sentences in the dataset:', len(dataset))"
   ]
  },
  {
   "cell_type": "code",
   "execution_count": null,
   "metadata": {},
   "outputs": [],
   "source": [
    "# Split the dataset into training and validation sets with an 85:15 ratio (randomly stratified)\n",
    "train_data, val_data = train_test_split(dataset, test_size=0.15, random_state=42)"
   ]
  },
  {
   "cell_type": "code",
   "execution_count": null,
   "metadata": {},
   "outputs": [],
   "source": [
    "# Save the split datasets into separate JSON files\n",
    "with open('train_dataset.json', 'w', encoding='utf-8') as train_file:\n",
    "    json.dump(train_data, train_file, ensure_ascii=False, indent=4)\n",
    "\n",
    "with open('val_dataset.json', 'w', encoding='utf-8') as val_file:\n",
    "    json.dump(val_data, val_file, ensure_ascii=False, indent=4)\n",
    "\n",
    "# print(\"Training set size:\", len(train_data))\n",
    "# print(\"Validation set size:\", len(val_data))"
   ]
  },
  {
   "cell_type": "code",
   "execution_count": null,
   "metadata": {},
   "outputs": [],
   "source": [
    "import json\n",
    "from collections import defaultdict\n",
    "\n",
    "# Load the dataset\n",
    "with open('NER_TRAIN_JUDGEMENT.json', 'r', encoding='utf-8') as file:\n",
    "    data = json.load(file)\n",
    "\n",
    "# Define a function to assign BIO labels\n",
    "def assign_bio_labels(text, annotations, num):\n",
    "    # Tokenize the text based on spaces\n",
    "    tokens = text.split()\n",
    "\n",
    "    # Initialize a list to store BIO labels for each token\n",
    "    bio_labels = ['O'] * len(tokens)\n",
    "\n",
    "    # Iterate through annotations and update BIO labels\n",
    "    for annotation in annotations:\n",
    "        for result in annotation['result']:\n",
    "            start = result['value']['start']\n",
    "            end = result['value']['end']\n",
    "            label = result['value']['labels'][0]\n",
    "            for i, token in enumerate(tokens):\n",
    "                print(num, token, start, end, text.find(token), text.find(token) + len(token))\n",
    "                if start == text.find(token) and text.find(token) + len(token) <= end+1:\n",
    "                    bio_labels[i] = 'B_' + label\n",
    "                    # print(bio_labels[i],token)\n",
    "                elif start < text.find(token) + len(token) <= end+1:\n",
    "                    bio_labels[i] = 'I_' + label\n",
    "                    # print(bio_labels[i],token)\n",
    "    return bio_labels\n",
    "\n",
    "# Initialize a dictionary to store the output\n",
    "output = defaultdict(dict)\n",
    "num=0\n",
    "# Process each data instance\n",
    "for instance in data:\n",
    "    case_id = instance['id']\n",
    "    text = instance['data']['text']\n",
    "    annotations = instance['annotations']\n",
    "    bio_labels = assign_bio_labels(text, annotations, num)\n",
    "    \n",
    "    # Store the text and BIO labels in the output dictionary\n",
    "    output[case_id]['text'] = text\n",
    "    output[case_id]['labels'] = bio_labels\n",
    "    num+=1\n",
    "\n",
    "# # Print the output in the specified format\n",
    "# for case_id, case_data in output.items():\n",
    "#     text = case_data['text']\n",
    "#     labels = case_data['labels']\n",
    "#     print(f'\"{case_id}\":{{')\n",
    "#     print(f'    \"text\": \"{text}\",')\n",
    "#     print(f'    \"labels\": {labels}')\n",
    "#     print('},')\n",
    "    \n",
    "# Save the output to a JSON file\n",
    "with open('bio_labels.json', 'w', encoding='utf-8') as file:\n",
    "    json.dump(output, file, ensure_ascii=False, indent=4)\n",
    "    "
   ]
  }
 ],
 "metadata": {
  "kernelspec": {
   "display_name": "Python 3",
   "language": "python",
   "name": "python3"
  },
  "language_info": {
   "codemirror_mode": {
    "name": "ipython",
    "version": 3
   },
   "file_extension": ".py",
   "mimetype": "text/x-python",
   "name": "python",
   "nbconvert_exporter": "python",
   "pygments_lexer": "ipython3",
   "version": "3.10.1"
  }
 },
 "nbformat": 4,
 "nbformat_minor": 2
}
