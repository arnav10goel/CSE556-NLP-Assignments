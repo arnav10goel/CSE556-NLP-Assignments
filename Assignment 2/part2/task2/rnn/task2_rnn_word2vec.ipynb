{
 "cells": [
  {
   "cell_type": "code",
   "execution_count": 21,
   "metadata": {},
   "outputs": [],
   "source": [
    "import pandas as pd\n",
    "import numpy as np\n",
    "import nltk\n",
    "import matplotlib.pyplot as plt\n",
    "\n",
    "from gensim.models import Word2Vec"
   ]
  },
  {
   "cell_type": "code",
   "execution_count": 22,
   "metadata": {},
   "outputs": [
    {
     "data": {
      "text/plain": [
       "{'test_data_sample': {'1': {'text': 'Boot time is super fast , around anywhere from 35 seconds to 1 minute .',\n",
       "   'labels': ['B',\n",
       "    'I',\n",
       "    'O',\n",
       "    'O',\n",
       "    'O',\n",
       "    'O',\n",
       "    'O',\n",
       "    'O',\n",
       "    'O',\n",
       "    'O',\n",
       "    'O',\n",
       "    'O',\n",
       "    'O',\n",
       "    'O',\n",
       "    'O']},\n",
       "  '2': {'text': 'tech support would not fix the problem unless I bought your plan for $ 150 plus .',\n",
       "   'labels': ['B',\n",
       "    'I',\n",
       "    'O',\n",
       "    'O',\n",
       "    'O',\n",
       "    'O',\n",
       "    'O',\n",
       "    'O',\n",
       "    'O',\n",
       "    'O',\n",
       "    'O',\n",
       "    'O',\n",
       "    'O',\n",
       "    'O',\n",
       "    'O',\n",
       "    'O',\n",
       "    'O']}},\n",
       " 'train_data_sample': {'1': {'text': 'I charge it at night and skip taking the cord with me because of the good battery life .',\n",
       "   'labels': ['O',\n",
       "    'O',\n",
       "    'O',\n",
       "    'O',\n",
       "    'O',\n",
       "    'O',\n",
       "    'O',\n",
       "    'O',\n",
       "    'O',\n",
       "    'O',\n",
       "    'O',\n",
       "    'O',\n",
       "    'O',\n",
       "    'O',\n",
       "    'O',\n",
       "    'O',\n",
       "    'B',\n",
       "    'I',\n",
       "    'O']},\n",
       "  '2': {'text': 'it is of high quality , has a killer GUI , is extremely stable , is highly expandable , is bundled with lots of very good applications , is easy to use , and is absolutely gorgeous .',\n",
       "   'labels': ['O',\n",
       "    'O',\n",
       "    'O',\n",
       "    'O',\n",
       "    'B',\n",
       "    'O',\n",
       "    'O',\n",
       "    'O',\n",
       "    'O',\n",
       "    'B',\n",
       "    'O',\n",
       "    'O',\n",
       "    'O',\n",
       "    'O',\n",
       "    'O',\n",
       "    'O',\n",
       "    'O',\n",
       "    'O',\n",
       "    'O',\n",
       "    'O',\n",
       "    'O',\n",
       "    'O',\n",
       "    'O',\n",
       "    'O',\n",
       "    'O',\n",
       "    'O',\n",
       "    'B',\n",
       "    'O',\n",
       "    'O',\n",
       "    'O',\n",
       "    'O',\n",
       "    'B',\n",
       "    'O',\n",
       "    'O',\n",
       "    'O',\n",
       "    'O',\n",
       "    'O',\n",
       "    'O']}},\n",
       " 'val_data_sample': {'1': {'text': 'In the shop , these MacBooks are encased in a soft rubber enclosure - so you will never know about the razor edge until you buy it , get it home , break the seal and use it ( very clever con ) .',\n",
       "   'labels': ['O',\n",
       "    'O',\n",
       "    'O',\n",
       "    'O',\n",
       "    'O',\n",
       "    'O',\n",
       "    'O',\n",
       "    'O',\n",
       "    'O',\n",
       "    'O',\n",
       "    'O',\n",
       "    'B',\n",
       "    'I',\n",
       "    'O',\n",
       "    'O',\n",
       "    'O',\n",
       "    'O',\n",
       "    'O',\n",
       "    'O',\n",
       "    'O',\n",
       "    'O',\n",
       "    'O',\n",
       "    'O',\n",
       "    'O',\n",
       "    'O',\n",
       "    'O',\n",
       "    'O',\n",
       "    'O',\n",
       "    'O',\n",
       "    'O',\n",
       "    'O',\n",
       "    'O',\n",
       "    'O',\n",
       "    'O',\n",
       "    'O',\n",
       "    'O',\n",
       "    'O',\n",
       "    'O',\n",
       "    'O',\n",
       "    'O',\n",
       "    'O',\n",
       "    'O',\n",
       "    'O',\n",
       "    'O']},\n",
       "  '2': {'text': 'This laptop meets every expectation and Windows 7 is great !',\n",
       "   'labels': ['O', 'O', 'O', 'O', 'O', 'O', 'B', 'I', 'O', 'O', 'O']}}}"
      ]
     },
     "execution_count": 22,
     "metadata": {},
     "output_type": "execute_result"
    }
   ],
   "source": [
    "import json\n",
    "\n",
    "# Define a function to load data from a file\n",
    "def load_data(file_path):\n",
    "    with open(file_path, 'r') as file:\n",
    "        data = json.load(file)\n",
    "    return data\n",
    "\n",
    "# Load the data from the three files\n",
    "test_data_path = 'Laptop_Review_Test_BioLabels.json'\n",
    "train_data_path = 'Laptop_Review_Train_BioLabels.json'\n",
    "val_data_path = 'Laptop_Review_Validation_BioLabels.json'\n",
    "\n",
    "test_data = load_data(test_data_path)\n",
    "train_data = load_data(train_data_path)\n",
    "val_data = load_data(val_data_path)\n",
    "# Adjusting approach to properly display the data structure and a sample\n",
    "\n",
    "# Function to safely extract samples from data which might be a dictionary or list\n",
    "def get_sample(data):\n",
    "    if isinstance(data, dict):\n",
    "        # If the data is a dictionary, return a part of it\n",
    "        return {k: data[k] for k in list(data)[:2]}\n",
    "    elif isinstance(data, list):\n",
    "        # If the data is a list, return the first two elements\n",
    "        return data[:2]\n",
    "    else:\n",
    "        return \"Unsupported data type\"\n",
    "\n",
    "# Get samples from each dataset\n",
    "test_data_sample = get_sample(test_data)\n",
    "train_data_sample = get_sample(train_data)\n",
    "val_data_sample = get_sample(val_data)\n",
    "\n",
    "{\n",
    "    \"test_data_sample\": test_data_sample,\n",
    "    \"train_data_sample\": train_data_sample,\n",
    "    \"val_data_sample\": val_data_sample,\n",
    "}"
   ]
  },
  {
   "cell_type": "code",
   "execution_count": 23,
   "metadata": {},
   "outputs": [
    {
     "data": {
      "text/html": [
       "<div>\n",
       "<style scoped>\n",
       "    .dataframe tbody tr th:only-of-type {\n",
       "        vertical-align: middle;\n",
       "    }\n",
       "\n",
       "    .dataframe tbody tr th {\n",
       "        vertical-align: top;\n",
       "    }\n",
       "\n",
       "    .dataframe thead th {\n",
       "        text-align: right;\n",
       "    }\n",
       "</style>\n",
       "<table border=\"1\" class=\"dataframe\">\n",
       "  <thead>\n",
       "    <tr style=\"text-align: right;\">\n",
       "      <th></th>\n",
       "      <th>text</th>\n",
       "      <th>labels</th>\n",
       "    </tr>\n",
       "  </thead>\n",
       "  <tbody>\n",
       "    <tr>\n",
       "      <th>0</th>\n",
       "      <td>I charge it at night and skip taking the cord ...</td>\n",
       "      <td>[O, O, O, O, O, O, O, O, O, O, O, O, O, O, O, ...</td>\n",
       "    </tr>\n",
       "    <tr>\n",
       "      <th>1</th>\n",
       "      <td>it is of high quality , has a killer GUI , is ...</td>\n",
       "      <td>[O, O, O, O, B, O, O, O, O, B, O, O, O, O, O, ...</td>\n",
       "    </tr>\n",
       "    <tr>\n",
       "      <th>2</th>\n",
       "      <td>Easy to start up and does not overheat as much...</td>\n",
       "      <td>[O, O, B, I, O, O, O, O, O, O, O, O, O, O]</td>\n",
       "    </tr>\n",
       "    <tr>\n",
       "      <th>3</th>\n",
       "      <td>Great laptop that offers many great features !</td>\n",
       "      <td>[O, O, O, O, O, O, B, O]</td>\n",
       "    </tr>\n",
       "    <tr>\n",
       "      <th>4</th>\n",
       "      <td>One night I turned the freaking thing off afte...</td>\n",
       "      <td>[O, O, O, O, O, O, O, O, O, O, O, O, O, O, O, ...</td>\n",
       "    </tr>\n",
       "  </tbody>\n",
       "</table>\n",
       "</div>"
      ],
      "text/plain": [
       "                                                text  \\\n",
       "0  I charge it at night and skip taking the cord ...   \n",
       "1  it is of high quality , has a killer GUI , is ...   \n",
       "2  Easy to start up and does not overheat as much...   \n",
       "3     Great laptop that offers many great features !   \n",
       "4  One night I turned the freaking thing off afte...   \n",
       "\n",
       "                                              labels  \n",
       "0  [O, O, O, O, O, O, O, O, O, O, O, O, O, O, O, ...  \n",
       "1  [O, O, O, O, B, O, O, O, O, B, O, O, O, O, O, ...  \n",
       "2         [O, O, B, I, O, O, O, O, O, O, O, O, O, O]  \n",
       "3                           [O, O, O, O, O, O, B, O]  \n",
       "4  [O, O, O, O, O, O, O, O, O, O, O, O, O, O, O, ...  "
      ]
     },
     "execution_count": 23,
     "metadata": {},
     "output_type": "execute_result"
    }
   ],
   "source": [
    "import pandas as pd\n",
    "# Convert dictionary data to DataFrame\n",
    "train_df = pd.DataFrame.from_dict(train_data, orient='index').reset_index(drop=True)\n",
    "test_df = pd.DataFrame.from_dict(test_data, orient='index').reset_index(drop=True)\n",
    "val_df = pd.DataFrame.from_dict(val_data, orient='index').reset_index(drop=True)\n",
    "\n",
    "# Display a sample from the train DataFrame to check preprocessing\n",
    "train_df.head()"
   ]
  },
  {
   "cell_type": "code",
   "execution_count": 24,
   "metadata": {},
   "outputs": [],
   "source": [
    "from gensim.models import Word2Vec\n",
    "import pandas as pd\n",
    "import numpy as np\n",
    "\n",
    "# Prepare sentences for Word2Vec training\n",
    "train_sentences = train_df['text'].apply(lambda x: x.split()).tolist()\n",
    "test_sentences = test_df['text'].apply(lambda x: x.split()).tolist()\n",
    "val_sentences = val_df['text'].apply(lambda x: x.split()).tolist()\n",
    "\n",
    "# Combine sentences from all datasets\n",
    "all_sentences = train_sentences + test_sentences + val_sentences\n",
    "\n",
    "# Train the Word2Vec model\n",
    "word2vec_model = Word2Vec(sentences=all_sentences, vector_size=512, window=5, min_count=1, sg=0)\n",
    "\n",
    "# Save the model\n",
    "word2vec_model.save('word2vec_model')\n",
    "\n",
    "#example\n",
    "examples_sentence = train_sentences[0]\n",
    "\n",
    "# Get the word vectors for the example sentence\n",
    "example_vectors = [word2vec_model.wv[word] for word in examples_sentence if word in word2vec_model.wv.key_to_index]\n",
    "\n",
    "# Now similarly, convert all the sentences in train_df to vectors\n",
    "train_df['vectors'] = train_df['text'].apply(lambda x: [word2vec_model.wv[word] for word in x.split() if word in word2vec_model.wv.key_to_index])\n",
    "val_df['vectors'] = val_df['text'].apply(lambda x: [word2vec_model.wv[word] for word in x.split() if word in word2vec_model.wv.key_to_index])\n",
    "test_df['vectors'] = test_df['text'].apply(lambda x: [word2vec_model.wv[word] for word in x.split() if word in word2vec_model.wv.key_to_index])\n"
   ]
  },
  {
   "cell_type": "code",
   "execution_count": 25,
   "metadata": {},
   "outputs": [
    {
     "name": "stdout",
     "output_type": "stream",
     "text": [
      "14\n",
      "14\n"
     ]
    }
   ],
   "source": [
    "#print the length of text of first instance in train_df\n",
    "print(len(train_df['text'][2].split()))\n",
    "print(len(train_df['vectors'][2]))"
   ]
  },
  {
   "cell_type": "code",
   "execution_count": 26,
   "metadata": {},
   "outputs": [
    {
     "name": "stdout",
     "output_type": "stream",
     "text": [
      "78\n"
     ]
    }
   ],
   "source": [
    "# checking what is the maximum length of the text by checking len of list of vectors\n",
    "max_len = max([len(x) for x in train_df['vectors']])\n",
    "print(max_len)"
   ]
  },
  {
   "cell_type": "code",
   "execution_count": 27,
   "metadata": {},
   "outputs": [],
   "source": [
    "# pad the vectors to have the same length\n",
    "def pad_vectors(vectors, target_length=60):\n",
    "    # Get the current length of the vectors\n",
    "    current_length = len(vectors)\n",
    "\n",
    "    # If the current length is less than the target length, pad the vectors\n",
    "    if current_length < target_length:\n",
    "        # Calculate the number of vectors to be added\n",
    "        num_to_add = target_length - current_length\n",
    "\n",
    "        # Add the vectors\n",
    "        vectors += [np.zeros(512) for _ in range(num_to_add)]\n",
    "\n",
    "    # if the current length is greater than the target length, slice the vectors\n",
    "    elif current_length > target_length:\n",
    "        vectors = vectors[:target_length]\n",
    "\n",
    "    return vectors\n",
    "\n",
    "# Pad the vectors in the train, test, and val DataFrames\n",
    "train_df['vectors'] = train_df['vectors'].apply(lambda x: pad_vectors(x, target_length=60))\n",
    "val_df['vectors'] = val_df['vectors'].apply(lambda x: pad_vectors(x, target_length=60))\n",
    "test_df['vectors'] = test_df['vectors'].apply(lambda x: pad_vectors(x, target_length=60))"
   ]
  },
  {
   "cell_type": "code",
   "execution_count": 28,
   "metadata": {},
   "outputs": [],
   "source": [
    "#get all the unique labels\n",
    "unique_labels = set()\n",
    "for labels in train_df['labels']:\n",
    "    unique_labels.update(labels)"
   ]
  },
  {
   "cell_type": "code",
   "execution_count": 29,
   "metadata": {},
   "outputs": [
    {
     "name": "stdout",
     "output_type": "stream",
     "text": [
      "3\n"
     ]
    }
   ],
   "source": [
    "print(len(unique_labels)) # B, I, O"
   ]
  },
  {
   "cell_type": "code",
   "execution_count": 30,
   "metadata": {},
   "outputs": [],
   "source": [
    "#padding the labels as well\n",
    "def pad_labels(labels, target_length=60):\n",
    "    # Get the current length of the labels\n",
    "    current_length = len(labels)\n",
    "    \n",
    "    # If the current length is less than the target length, pad the labels\n",
    "    if current_length < target_length:\n",
    "        # Calculate the number of labels to be added\n",
    "        num_to_add = target_length - current_length\n",
    "        \n",
    "        # Add the labels\n",
    "        labels += ['O' for _ in range(num_to_add)]\n",
    "    \n",
    "    # if the current length is greater than the target length, slice the labels\n",
    "    elif current_length > target_length:\n",
    "        labels = labels[:target_length]\n",
    "\n",
    "    return labels"
   ]
  },
  {
   "cell_type": "code",
   "execution_count": 31,
   "metadata": {},
   "outputs": [
    {
     "name": "stdout",
     "output_type": "stream",
     "text": [
      "{'I': 0, 'B': 1, 'O': 2}\n"
     ]
    }
   ],
   "source": [
    "#giving all labels index\n",
    "labels_to_index = {label: index for index, label in enumerate(unique_labels)}\n",
    "print(labels_to_index)"
   ]
  },
  {
   "cell_type": "code",
   "execution_count": 32,
   "metadata": {},
   "outputs": [],
   "source": [
    "# Function to convert labels to indices\n",
    "def labels_to_indices(labels, label_to_index):\n",
    "    return [[label_to_index[label] for label in sentence_labels] for sentence_labels in labels]\n"
   ]
  },
  {
   "cell_type": "code",
   "execution_count": 33,
   "metadata": {},
   "outputs": [],
   "source": [
    "# Padding the labels using the provided function\n",
    "def pad_all_labels(label_sequences, target_length=60):\n",
    "    return [pad_labels(labels, target_length) for labels in label_sequences]\n",
    "\n",
    "# Applying the padding function to train, validation, and test label sequences\n",
    "train_labels_padded = pad_all_labels(train_df['labels'], 60)\n",
    "val_labels_padded = pad_all_labels(val_df['labels'], 60)\n",
    "test_labels_padded = pad_all_labels(test_df['labels'], 60)\n",
    "\n",
    "# Convert label sequences to indices with padding applied\n",
    "train_labels_indices_padded = labels_to_indices(train_labels_padded, labels_to_index)\n",
    "val_labels_indices_padded = labels_to_indices(val_labels_padded, labels_to_index)\n",
    "test_labels_indices_padded = labels_to_indices(test_labels_padded, labels_to_index)"
   ]
  },
  {
   "cell_type": "code",
   "execution_count": 34,
   "metadata": {},
   "outputs": [],
   "source": [
    "import torch\n",
    "import torch.nn as nn\n",
    "import torch.optim as optim\n",
    "\n",
    "class RNNModel(nn.Module):\n",
    "    def __init__(self, input_dim, hidden_dim, output_dim, num_layers):\n",
    "        super(RNNModel, self).__init__()\n",
    "        self.rnn = nn.RNN(input_dim, hidden_dim, num_layers, batch_first=True)\n",
    "        self.fc = nn.Linear(hidden_dim, output_dim)\n",
    "    \n",
    "    def forward(self, x):\n",
    "        out, _ = self.rnn(x)\n",
    "        out = self.fc(out)\n",
    "        return out"
   ]
  },
  {
   "cell_type": "code",
   "execution_count": 35,
   "metadata": {},
   "outputs": [],
   "source": [
    "num_classes = len(labels_to_index)"
   ]
  },
  {
   "cell_type": "code",
   "execution_count": 36,
   "metadata": {},
   "outputs": [],
   "source": [
    "# Model parameters\n",
    "input_dim = 512  # Size of the word vectors\n",
    "hidden_dim = 256  # RNN hidden state size\n",
    "output_dim = num_classes  # Number of output classes\n",
    "num_layers = 1  # Number of RNN layers\n",
    "\n",
    "model = RNNModel(input_dim, hidden_dim, output_dim, num_layers)\n",
    "loss_function = nn.CrossEntropyLoss()  # Suitable for classification tasks\n",
    "optimizer = optim.Adam(model.parameters())"
   ]
  },
  {
   "cell_type": "code",
   "execution_count": 37,
   "metadata": {},
   "outputs": [
    {
     "name": "stdout",
     "output_type": "stream",
     "text": [
      "Epoch 1, Training Loss: 0.2742898900961054, Validation Loss: 0.15072711450713022, Training F1: 0.3389711987618216, Validation F1: 0.3278409530440164\n",
      "Epoch 2, Training Loss: 0.14362098893214917, Validation Loss: 0.12061597726174764, Training F1: 0.3483744578779197, Validation F1: 0.3278409530440164\n",
      "Epoch 3, Training Loss: 0.1251406679893362, Validation Loss: 0.11441313262496676, Training F1: 0.33114218401586226, Validation F1: 0.3344490857261499\n",
      "Epoch 4, Training Loss: 0.1226374733036962, Validation Loss: 0.11181795703513282, Training F1: 0.3355537440763199, Validation F1: 0.34086771856133\n",
      "Epoch 5, Training Loss: 0.11892184512368564, Validation Loss: 0.10862594204289573, Training F1: 0.32956473489468835, Validation F1: 0.33006455771272936\n",
      "Epoch 6, Training Loss: 0.11651719181702055, Validation Loss: 0.10589268590722765, Training F1: 0.32802783021330567, Validation F1: 0.3278409530440164\n",
      "Epoch 7, Training Loss: 0.11384152081506006, Validation Loss: 0.10460838888372694, Training F1: 0.3280385663552022, Validation F1: 0.3278409530440164\n",
      "Epoch 8, Training Loss: 0.11282476808490424, Validation Loss: 0.10391061114413398, Training F1: 0.32802783021330567, Validation F1: 0.35775960342120866\n",
      "Epoch 9, Training Loss: 0.11272423919932596, Validation Loss: 0.10149680290903364, Training F1: 0.3285328741742048, Validation F1: 0.3278409530440164\n",
      "Epoch 10, Training Loss: 0.10941674123550284, Validation Loss: 0.10259012771504265, Training F1: 0.3275154804797779, Validation F1: 0.3278409530440164\n"
     ]
    }
   ],
   "source": [
    "from sklearn.metrics import f1_score\n",
    "from torch.utils.data import DataLoader, TensorDataset\n",
    "\n",
    "# Updated create_dataset function to handle padded labels\n",
    "def create_dataset(vectors, labels_indices):\n",
    "    vectors_tensor = torch.tensor(vectors, dtype=torch.float)\n",
    "    labels_tensor = torch.tensor(labels_indices, dtype=torch.long)\n",
    "    dataset = TensorDataset(vectors_tensor, labels_tensor)\n",
    "    return DataLoader(dataset, batch_size=32, shuffle=True)\n",
    "\n",
    "# Creating DataLoaders for the training and validation sets\n",
    "train_loader = create_dataset(train_df['vectors'].tolist(), train_labels_indices_padded)\n",
    "val_loader = create_dataset(val_df['vectors'].tolist(), val_labels_indices_padded)\n",
    "\n",
    "# Tracking variables\n",
    "training_losses = []\n",
    "validation_losses = []\n",
    "training_f1_scores = []\n",
    "validation_f1_scores = []\n",
    "\n",
    "epochs = 10\n",
    "for epoch in range(epochs):\n",
    "    model.train()\n",
    "    train_losses = []\n",
    "    val_losses = []\n",
    "    train_preds, train_true = [], []\n",
    "    val_preds, val_true = [], []\n",
    "    \n",
    "    # Training loop\n",
    "    for inputs, labels in train_loader:\n",
    "        optimizer.zero_grad()\n",
    "        outputs = model(inputs)\n",
    "        loss = loss_function(outputs.view(-1, num_classes), labels.view(-1))\n",
    "        loss.backward()\n",
    "        optimizer.step()\n",
    "        \n",
    "        train_losses.append(loss.item())\n",
    "        _, predicted = torch.max(outputs.data, 2)\n",
    "        train_preds.extend(predicted.view(-1).numpy())\n",
    "        train_true.extend(labels.view(-1).numpy())\n",
    "    \n",
    "    # Validation loop\n",
    "    model.eval()\n",
    "    with torch.no_grad():\n",
    "        for inputs, labels in val_loader:\n",
    "            outputs = model(inputs)\n",
    "            loss = loss_function(outputs.view(-1, num_classes), labels.view(-1))\n",
    "            val_losses.append(loss.item())\n",
    "            _, predicted = torch.max(outputs.data, 2)\n",
    "            val_preds.extend(predicted.view(-1).numpy())\n",
    "            val_true.extend(labels.view(-1).numpy())\n",
    "    \n",
    "    # Calculate F1 scores\n",
    "    train_f1 = f1_score(train_true, train_preds, average='macro')\n",
    "    val_f1 = f1_score(val_true, val_preds, average='macro')\n",
    "    \n",
    "    # Store metrics\n",
    "    training_losses.append(np.mean(train_losses))\n",
    "    validation_losses.append(np.mean(val_losses))\n",
    "    training_f1_scores.append(train_f1)\n",
    "    validation_f1_scores.append(val_f1)\n",
    "    \n",
    "    print(f'Epoch {epoch+1}, Training Loss: {training_losses[-1]}, Validation Loss: {validation_losses[-1]}, Training F1: {training_f1_scores[-1]}, Validation F1: {validation_f1_scores[-1]}')"
   ]
  },
  {
   "cell_type": "code",
   "execution_count": 38,
   "metadata": {},
   "outputs": [
    {
     "data": {
      "text/plain": [
       "Text(0, 0.5, 'Loss')"
      ]
     },
     "execution_count": 38,
     "metadata": {},
     "output_type": "execute_result"
    },
    {
     "data": {
      "image/png": "[encoded data removed]",
      "text/plain": [
       "<Figure size 1000x500 with 1 Axes>"
      ]
     },
     "metadata": {},
     "output_type": "display_data"
    }
   ],
   "source": [
    "import matplotlib.pyplot as plt\n",
    "\n",
    "# Loss plot\n",
    "plt.figure(figsize=(10, 5))\n",
    "plt.plot(training_losses, label='Training Loss')\n",
    "plt.plot(validation_losses, label='Validation Loss')\n",
    "plt.title('Loss vs. Epochs')\n",
    "plt.xlabel('Epochs')\n",
    "plt.ylabel('Loss')"
   ]
  }
 ],
 "metadata": {
  "kernelspec": {
   "display_name": "base",
   "language": "python",
   "name": "python3"
  },
  "language_info": {
   "codemirror_mode": {
    "name": "ipython",
    "version": 3
   },
   "file_extension": ".py",
   "mimetype": "text/x-python",
   "name": "python",
   "nbconvert_exporter": "python",
   "pygments_lexer": "ipython3",
   "version": "3.10.9"
  }
 },
 "nbformat": 4,
 "nbformat_minor": 2
}
