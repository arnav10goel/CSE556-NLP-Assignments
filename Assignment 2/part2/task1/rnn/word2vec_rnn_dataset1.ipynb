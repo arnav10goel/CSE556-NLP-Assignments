{
  "cells": [
    {
      "cell_type": "code",
      "execution_count": 1,
      "metadata": {
        "id": "9S5FMZleTeaH"
      },
      "outputs": [],
      "source": [
        "import pandas as pd\n",
        "import numpy as np\n",
        "import nltk\n",
        "import matplotlib.pyplot as plt\n",
        "\n",
        "from gensim.models import Word2Vec"
      ]
    },
    {
      "cell_type": "code",
      "execution_count": 2,
      "metadata": {
        "colab": {
          "base_uri": "https://localhost:8080/"
        },
        "id": "eeVYNYQqTeaI",
        "outputId": "ba8cf744-a497-4278-ce1b-91c11c552a42"
      },
      "outputs": [
        {
          "data": {
            "text/plain": [
              "{'test_data_sample': {'03f3901e95ed493b866bd7807f623bc0': {'text': \"True, our Constitution has no 'due process' clause or the VIII Amendment; but, in this branch of law, after R.C. Cooper v. Union of India, (1970) 1 SCC 248 and Maneka Gandhi v. Union of India, (1978) 1 SCC 248, the consequence is the same.\",\n",
              "   'labels': ['O',\n",
              "    'O',\n",
              "    'B_STATUTE',\n",
              "    'I_STATUTE',\n",
              "    'O',\n",
              "    'O',\n",
              "    'O',\n",
              "    'O',\n",
              "    'O',\n",
              "    'O',\n",
              "    'O',\n",
              "    'O',\n",
              "    'O',\n",
              "    'O',\n",
              "    'O',\n",
              "    'O',\n",
              "    'O',\n",
              "    'O',\n",
              "    'O',\n",
              "    'B_PRECEDENT',\n",
              "    'I_PRECEDENT',\n",
              "    'I_PRECEDENT',\n",
              "    'I_PRECEDENT',\n",
              "    'I_PRECEDENT',\n",
              "    'I_PRECEDENT',\n",
              "    'I_PRECEDENT',\n",
              "    'I_PRECEDENT',\n",
              "    'I_PRECEDENT',\n",
              "    'I_PRECEDENT',\n",
              "    'I_PRECEDENT',\n",
              "    'B_PRECEDENT',\n",
              "    'I_PRECEDENT',\n",
              "    'I_PRECEDENT',\n",
              "    'I_PRECEDENT',\n",
              "    'I_PRECEDENT',\n",
              "    'I_PRECEDENT',\n",
              "    'I_PRECEDENT',\n",
              "    'I_PRECEDENT',\n",
              "    'I_PRECEDENT',\n",
              "    'I_PRECEDENT',\n",
              "    'O',\n",
              "    'O',\n",
              "    'O',\n",
              "    'O',\n",
              "    'O']},\n",
              "  'b0311cba3aac4d909eec6e156c059617': {'text': '(See Principles of Statutory Interpretation by Justice G.P. Singh, 9th Edn., 2004 at p. \\n\\n 438.).',\n",
              "   'labels': ['O',\n",
              "    'O',\n",
              "    'O',\n",
              "    'O',\n",
              "    'O',\n",
              "    'O',\n",
              "    'O',\n",
              "    'B_JUDGE',\n",
              "    'I_JUDGE',\n",
              "    'O',\n",
              "    'O',\n",
              "    'O',\n",
              "    'O',\n",
              "    'O',\n",
              "    'O',\n",
              "    'O']}},\n",
              " 'train_data_sample': {'b29019e16fc64e5da48f20706b152fae': {'text': 'Therefore, while interpreting statutory provisions, the courts should keep in mind the objectives or purpose for which statute has been enacted.',\n",
              "   'labels': ['O',\n",
              "    'O',\n",
              "    'O',\n",
              "    'O',\n",
              "    'O',\n",
              "    'O',\n",
              "    'O',\n",
              "    'O',\n",
              "    'O',\n",
              "    'O',\n",
              "    'O',\n",
              "    'O',\n",
              "    'O',\n",
              "    'O',\n",
              "    'O',\n",
              "    'O',\n",
              "    'O',\n",
              "    'O',\n",
              "    'O',\n",
              "    'O',\n",
              "    'O']},\n",
              "  'b8f6ac625fb9435db21c94644bf7784f': {'text': 'The petitioner in W.P.No.15821 of 2008 was never considered for appointment under the National Rural Employment Guarantee Scheme either through Employment Exchange sponsorship or by Outsourcing Agencies.',\n",
              "   'labels': ['O',\n",
              "    'O',\n",
              "    'O',\n",
              "    'B_CASE_NUMBER',\n",
              "    'I_CASE_NUMBER',\n",
              "    'I_CASE_NUMBER',\n",
              "    'I_CASE_NUMBER',\n",
              "    'O',\n",
              "    'O',\n",
              "    'O',\n",
              "    'O',\n",
              "    'O',\n",
              "    'O',\n",
              "    'B_ORG',\n",
              "    'I_ORG',\n",
              "    'I_ORG',\n",
              "    'I_ORG',\n",
              "    'I_ORG',\n",
              "    'I_ORG',\n",
              "    'O',\n",
              "    'O',\n",
              "    'O',\n",
              "    'O',\n",
              "    'O',\n",
              "    'O',\n",
              "    'O',\n",
              "    'O']}},\n",
              " 'val_data_sample': {'35a7bbe300734dffae0740ab00356e1d': {'text': 'Clause 18(1), (2) and (3)\\n(a) & (b) were transposed in Article 23 of the Draft Constitution of India.',\n",
              "   'labels': ['B_PROVISION',\n",
              "    'I_PROVISION',\n",
              "    'I_PROVISION',\n",
              "    'I_PROVISION',\n",
              "    'I_PROVISION',\n",
              "    'I_PROVISION',\n",
              "    'I_PROVISION',\n",
              "    'I_PROVISION',\n",
              "    'O',\n",
              "    'O',\n",
              "    'B_PROVISION',\n",
              "    'I_PROVISION',\n",
              "    'I_PROVISION',\n",
              "    'O',\n",
              "    'B_STATUTE',\n",
              "    'I_STATUTE',\n",
              "    'I_STATUTE',\n",
              "    'I_STATUTE']},\n",
              "  'b6d5aee6565043c799ece82bc2b05e43': {'text': 'The order cannot be said to be wrong when the only ground mentioned for impleading the Chief Minister as a party was to make it incumbent on him to file an affidavit, which he was not legally obliged to, if he was not a party.',\n",
              "   'labels': ['O',\n",
              "    'O',\n",
              "    'O',\n",
              "    'O',\n",
              "    'O',\n",
              "    'O',\n",
              "    'O',\n",
              "    'O',\n",
              "    'O',\n",
              "    'O',\n",
              "    'O',\n",
              "    'O',\n",
              "    'O',\n",
              "    'O',\n",
              "    'O',\n",
              "    'O',\n",
              "    'O',\n",
              "    'O',\n",
              "    'O',\n",
              "    'O',\n",
              "    'O',\n",
              "    'O',\n",
              "    'O',\n",
              "    'O',\n",
              "    'O',\n",
              "    'O',\n",
              "    'O',\n",
              "    'O',\n",
              "    'O',\n",
              "    'O',\n",
              "    'O',\n",
              "    'O',\n",
              "    'O',\n",
              "    'O',\n",
              "    'O',\n",
              "    'O',\n",
              "    'O',\n",
              "    'O',\n",
              "    'O',\n",
              "    'O',\n",
              "    'O',\n",
              "    'O',\n",
              "    'O',\n",
              "    'O',\n",
              "    'O']}}}"
            ]
          },
          "execution_count": 2,
          "metadata": {},
          "output_type": "execute_result"
        }
      ],
      "source": [
        "import json\n",
        "\n",
        "# Define a function to load data from a file\n",
        "def load_data(file_path):\n",
        "    with open(file_path, 'r') as file:\n",
        "        data = json.load(file)\n",
        "    return data\n",
        "\n",
        "# Load the data from the three files\n",
        "test_data_path = 'test_bio_labels.json'\n",
        "train_data_path = 'train_bio_labels.json'\n",
        "val_data_path = 'val_bio_labels.json'\n",
        "\n",
        "test_data = load_data(test_data_path)\n",
        "train_data = load_data(train_data_path)\n",
        "val_data = load_data(val_data_path)\n",
        "# Adjusting approach to properly display the data structure and a sample\n",
        "\n",
        "# Function to safely extract samples from data which might be a dictionary or list\n",
        "def get_sample(data):\n",
        "    if isinstance(data, dict):\n",
        "        # If the data is a dictionary, return a part of it\n",
        "        return {k: data[k] for k in list(data)[:2]}\n",
        "    elif isinstance(data, list):\n",
        "        # If the data is a list, return the first two elements\n",
        "        return data[:2]\n",
        "    else:\n",
        "        return \"Unsupported data type\"\n",
        "\n",
        "# Get samples from each dataset\n",
        "test_data_sample = get_sample(test_data)\n",
        "train_data_sample = get_sample(train_data)\n",
        "val_data_sample = get_sample(val_data)\n",
        "\n",
        "{\n",
        "    \"test_data_sample\": test_data_sample,\n",
        "    \"train_data_sample\": train_data_sample,\n",
        "    \"val_data_sample\": val_data_sample,\n",
        "}"
      ]
    },
    {
      "cell_type": "code",
      "execution_count": 3,
      "metadata": {
        "colab": {
          "base_uri": "https://localhost:8080/",
          "height": 258
        },
        "id": "jJ5mLpIRTeaJ",
        "outputId": "f3ac959e-cea9-4926-d33b-f7ef811234a1"
      },
      "outputs": [
        {
          "data": {
            "text/html": [
              "<div>\n",
              "<style scoped>\n",
              "    .dataframe tbody tr th:only-of-type {\n",
              "        vertical-align: middle;\n",
              "    }\n",
              "\n",
              "    .dataframe tbody tr th {\n",
              "        vertical-align: top;\n",
              "    }\n",
              "\n",
              "    .dataframe thead th {\n",
              "        text-align: right;\n",
              "    }\n",
              "</style>\n",
              "<table border=\"1\" class=\"dataframe\">\n",
              "  <thead>\n",
              "    <tr style=\"text-align: right;\">\n",
              "      <th></th>\n",
              "      <th>text</th>\n",
              "      <th>labels</th>\n",
              "    </tr>\n",
              "  </thead>\n",
              "  <tbody>\n",
              "    <tr>\n",
              "      <th>0</th>\n",
              "      <td>Therefore, while interpreting statutory provis...</td>\n",
              "      <td>[O, O, O, O, O, O, O, O, O, O, O, O, O, O, O, ...</td>\n",
              "    </tr>\n",
              "    <tr>\n",
              "      <th>1</th>\n",
              "      <td>The petitioner in W.P.No.15821 of 2008 was nev...</td>\n",
              "      <td>[O, O, O, B_CASE_NUMBER, I_CASE_NUMBER, I_CASE...</td>\n",
              "    </tr>\n",
              "    <tr>\n",
              "      <th>2</th>\n",
              "      <td>The factum of accident, allegation of rash and...</td>\n",
              "      <td>[O, O, O, O, O, O, O, O, O, O, O, O, O, B_OTHE...</td>\n",
              "    </tr>\n",
              "    <tr>\n",
              "      <th>3</th>\n",
              "      <td>..36.. \\n\\n W.A.No.655/2012 &amp; others Meaning t...</td>\n",
              "      <td>[O, O, B_CASE_NUMBER, I_CASE_NUMBER, O, O, O, ...</td>\n",
              "    </tr>\n",
              "    <tr>\n",
              "      <th>4</th>\n",
              "      <td>The law on this issue is well settled and the ...</td>\n",
              "      <td>[O, O, O, O, O, O, O, O, O, O, O, O, O, O, O, ...</td>\n",
              "    </tr>\n",
              "  </tbody>\n",
              "</table>\n",
              "</div>"
            ],
            "text/plain": [
              "                                                text  \\\n",
              "0  Therefore, while interpreting statutory provis...   \n",
              "1  The petitioner in W.P.No.15821 of 2008 was nev...   \n",
              "2  The factum of accident, allegation of rash and...   \n",
              "3  ..36.. \\n\\n W.A.No.655/2012 & others Meaning t...   \n",
              "4  The law on this issue is well settled and the ...   \n",
              "\n",
              "                                              labels  \n",
              "0  [O, O, O, O, O, O, O, O, O, O, O, O, O, O, O, ...  \n",
              "1  [O, O, O, B_CASE_NUMBER, I_CASE_NUMBER, I_CASE...  \n",
              "2  [O, O, O, O, O, O, O, O, O, O, O, O, O, B_OTHE...  \n",
              "3  [O, O, B_CASE_NUMBER, I_CASE_NUMBER, O, O, O, ...  \n",
              "4  [O, O, O, O, O, O, O, O, O, O, O, O, O, O, O, ...  "
            ]
          },
          "execution_count": 3,
          "metadata": {},
          "output_type": "execute_result"
        }
      ],
      "source": [
        "import pandas as pd\n",
        "from nltk.corpus import stopwords as nltk_stopwords\n",
        "from nltk.stem import WordNetLemmatizer, PorterStemmer\n",
        "from nltk.tokenize import TweetTokenizer\n",
        "import nltk\n",
        "\n",
        "# Convert dictionary data to DataFrame\n",
        "train_df = pd.DataFrame.from_dict(train_data, orient='index').reset_index(drop=True)\n",
        "test_df = pd.DataFrame.from_dict(test_data, orient='index').reset_index(drop=True)\n",
        "val_df = pd.DataFrame.from_dict(val_data, orient='index').reset_index(drop=True)\n",
        "\n",
        "# Display a sample from the train DataFrame to check preprocessing\n",
        "train_df.head()"
      ]
    },
    {
      "cell_type": "code",
      "execution_count": 4,
      "metadata": {
        "id": "mdCstCr5TeaJ"
      },
      "outputs": [],
      "source": [
        "#convert the dataframe to csv\n",
        "train_df.to_csv('train_df.csv', index=False)\n",
        "test_df.to_csv('test_df.csv', index=False)\n",
        "val_df.to_csv('val_df.csv', index=False)"
      ]
    },
    {
      "cell_type": "code",
      "execution_count": 5,
      "metadata": {
        "id": "SpdGtIIZTeaJ"
      },
      "outputs": [],
      "source": [
        "from gensim.models import Word2Vec\n",
        "import pandas as pd\n",
        "import numpy as np\n",
        "\n",
        "# Prepare sentences for Word2Vec training\n",
        "train_sentences = train_df['text'].apply(lambda x: x.split()).tolist()\n",
        "test_sentences = test_df['text'].apply(lambda x: x.split()).tolist()\n",
        "val_sentences = val_df['text'].apply(lambda x: x.split()).tolist()\n",
        "\n",
        "# Combine sentences from all datasets\n",
        "all_sentences = train_sentences + test_sentences + val_sentences\n",
        "\n",
        "# Train the Word2Vec model\n",
        "word2vec_model = Word2Vec(sentences=all_sentences, vector_size=512, window=5, min_count=1, sg=0)\n",
        "\n",
        "# Save the model\n",
        "word2vec_model.save('word2vec_model')\n",
        "\n",
        "#example\n",
        "examples_sentence = train_sentences[0]\n",
        "\n",
        "# Get the word vectors for the example sentence\n",
        "example_vectors = [word2vec_model.wv[word] for word in examples_sentence if word in word2vec_model.wv.key_to_index]\n",
        "\n",
        "# Now similarly, convert all the sentences in train_df to vectors\n",
        "train_df['vectors'] = train_df['text'].apply(lambda x: [word2vec_model.wv[word] for word in x.split() if word in word2vec_model.wv.key_to_index])\n",
        "val_df['vectors'] = val_df['text'].apply(lambda x: [word2vec_model.wv[word] for word in x.split() if word in word2vec_model.wv.key_to_index])\n",
        "test_df['vectors'] = test_df['text'].apply(lambda x: [word2vec_model.wv[word] for word in x.split() if word in word2vec_model.wv.key_to_index])\n"
      ]
    },
    {
      "cell_type": "code",
      "execution_count": 6,
      "metadata": {
        "colab": {
          "base_uri": "https://localhost:8080/"
        },
        "id": "73FFidb3TeaJ",
        "outputId": "a5c8f275-c1f4-42d6-dabe-5bcb2a43a573"
      },
      "outputs": [
        {
          "name": "stdout",
          "output_type": "stream",
          "text": [
            "18\n",
            "18\n"
          ]
        }
      ],
      "source": [
        "#print the length of text of first instance in train_df\n",
        "print(len(train_df['text'][2].split()))\n",
        "print(len(train_df['vectors'][2]))"
      ]
    },
    {
      "cell_type": "code",
      "execution_count": 7,
      "metadata": {
        "id": "acsB-QJYTeaK"
      },
      "outputs": [],
      "source": [
        "#checking if the length of the vectors is the same as the length of the text for all instances\n",
        "train_df['len_text'] = train_df['text'].apply(lambda x: len(x.split()))\n",
        "train_df['len_vectors'] = train_df['vectors'].apply(lambda x: len(x))\n",
        "train_df['len_text'].equals(train_df['len_vectors'])\n",
        "\n",
        "#remove the columns\n",
        "train_df = train_df.drop(columns=['len_text', 'len_vectors'])"
      ]
    },
    {
      "cell_type": "code",
      "execution_count": 8,
      "metadata": {
        "id": "FPaM5o-yTeaK"
      },
      "outputs": [],
      "source": [
        "# pad the vectors to have the same length\n",
        "def pad_vectors(vectors, target_length=50):\n",
        "    # Get the current length of the vectors\n",
        "    current_length = len(vectors)\n",
        "\n",
        "    # If the current length is less than the target length, pad the vectors\n",
        "    if current_length < target_length:\n",
        "        # Calculate the number of vectors to be added\n",
        "        num_to_add = target_length - current_length\n",
        "\n",
        "        # Add the vectors\n",
        "        vectors += [np.zeros(512) for _ in range(num_to_add)]\n",
        "\n",
        "    # if the current length is greater than the target length, slice the vectors\n",
        "    elif current_length > target_length:\n",
        "        vectors = vectors[:target_length]\n",
        "\n",
        "    return vectors\n",
        "\n",
        "# Pad the vectors in the train, test, and val DataFrames\n",
        "train_df['vectors'] = train_df['vectors'].apply(lambda x: pad_vectors(x, target_length=50))\n",
        "val_df['vectors'] = val_df['vectors'].apply(lambda x: pad_vectors(x, target_length=50))\n",
        "test_df['vectors'] = test_df['vectors'].apply(lambda x: pad_vectors(x, target_length=50))"
      ]
    },
    {
      "cell_type": "code",
      "execution_count": 9,
      "metadata": {
        "id": "yW4h_m-XTeaK"
      },
      "outputs": [],
      "source": [
        "#get all the unique labels\n",
        "unique_labels = set()\n",
        "for labels in train_df['labels']:\n",
        "    unique_labels.update(labels)"
      ]
    },
    {
      "cell_type": "code",
      "execution_count": 10,
      "metadata": {
        "colab": {
          "base_uri": "https://localhost:8080/"
        },
        "id": "cHfU-5dsTeaK",
        "outputId": "af2093d2-acc9-404a-afd9-33f193844dfe"
      },
      "outputs": [
        {
          "name": "stdout",
          "output_type": "stream",
          "text": [
            "27\n"
          ]
        }
      ],
      "source": [
        "print(len(unique_labels))"
      ]
    },
    {
      "cell_type": "code",
      "execution_count": 11,
      "metadata": {
        "id": "4i6UWhSEcD1y"
      },
      "outputs": [],
      "source": [
        "#padding the labels as well\n",
        "def pad_labels(labels, target_length=50):\n",
        "    # Get the current length of the labels\n",
        "    current_length = len(labels)\n",
        "\n",
        "    # If the current length is less than the target length, pad the labels\n",
        "    if current_length < target_length:\n",
        "        # Calculate the number of labels to be added\n",
        "        num_to_add = target_length - current_length\n",
        "\n",
        "        # Add the labels\n",
        "        labels += ['O' for _ in range(num_to_add)]\n",
        "\n",
        "    # if the current length is greater than the target length, slice the labels\n",
        "    elif current_length > target_length:\n",
        "        labels = labels[:target_length]\n",
        "\n",
        "    return labels"
      ]
    },
    {
      "cell_type": "code",
      "execution_count": 12,
      "metadata": {
        "colab": {
          "base_uri": "https://localhost:8080/"
        },
        "id": "Tg88lmWQcQRI",
        "outputId": "5bb49df0-7f27-422b-8546-781901bd9723"
      },
      "outputs": [
        {
          "name": "stdout",
          "output_type": "stream",
          "text": [
            "{'B_WITNESS': 0, 'I_CASE_NUMBER': 1, 'B_RESPONDENT': 2, 'I_WITNESS': 3, 'B_ORG': 4, 'I_DATE': 5, 'B_JUDGE': 6, 'B_DATE': 7, 'B_PRECEDENT': 8, 'B_GPE': 9, 'B_CASE_NUMBER': 10, 'I_STATUTE': 11, 'I_RESPONDENT': 12, 'B_PETITIONER': 13, 'I_ORG': 14, 'I_PRECEDENT': 15, 'I_OTHER_PERSON': 16, 'B_OTHER_PERSON': 17, 'B_COURT': 18, 'O': 19, 'I_JUDGE': 20, 'I_PETITIONER': 21, 'I_GPE': 22, 'I_COURT': 23, 'B_PROVISION': 24, 'B_STATUTE': 25, 'I_PROVISION': 26}\n"
          ]
        }
      ],
      "source": [
        "#giving all labels index\n",
        "labels_to_index = {label: index for index, label in enumerate(unique_labels)}\n",
        "print(labels_to_index)"
      ]
    },
    {
      "cell_type": "code",
      "execution_count": 13,
      "metadata": {
        "id": "vHBdwrNqcMyn"
      },
      "outputs": [],
      "source": [
        "# Function to convert labels to indices\n",
        "def labels_to_indices(labels, label_to_index):\n",
        "    return [[label_to_index[label] for label in sentence_labels] for sentence_labels in labels]\n"
      ]
    },
    {
      "cell_type": "code",
      "execution_count": 14,
      "metadata": {
        "id": "fhygWjE0cBNr"
      },
      "outputs": [],
      "source": [
        "# Padding the labels using the provided function\n",
        "def pad_all_labels(label_sequences, target_length=50):\n",
        "    return [pad_labels(labels, target_length) for labels in label_sequences]\n",
        "\n",
        "# Applying the padding function to train, validation, and test label sequences\n",
        "train_labels_padded = pad_all_labels(train_df['labels'], 50)\n",
        "val_labels_padded = pad_all_labels(val_df['labels'], 50)\n",
        "test_labels_padded = pad_all_labels(test_df['labels'], 50)\n",
        "\n",
        "# Convert label sequences to indices with padding applied\n",
        "train_labels_indices_padded = labels_to_indices(train_labels_padded, labels_to_index)\n",
        "val_labels_indices_padded = labels_to_indices(val_labels_padded, labels_to_index)\n",
        "test_labels_indices_padded = labels_to_indices(test_labels_padded, labels_to_index)"
      ]
    },
    {
      "cell_type": "code",
      "execution_count": 15,
      "metadata": {
        "id": "DHgAj9COTeaK"
      },
      "outputs": [],
      "source": [
        "import torch\n",
        "import torch.nn as nn\n",
        "import torch.optim as optim\n",
        "\n",
        "class RNNModel(nn.Module):\n",
        "    def __init__(self, input_dim, hidden_dim, output_dim, num_layers):\n",
        "        super(RNNModel, self).__init__()\n",
        "        self.rnn = nn.RNN(input_dim, hidden_dim, num_layers, batch_first=True)\n",
        "        self.fc = nn.Linear(hidden_dim, output_dim)\n",
        "\n",
        "    def forward(self, x):\n",
        "        out, _ = self.rnn(x)\n",
        "        out = self.fc(out)\n",
        "        return out"
      ]
    },
    {
      "cell_type": "code",
      "execution_count": 16,
      "metadata": {
        "id": "B558Q9sSafUe"
      },
      "outputs": [],
      "source": [
        "# Example usage\n",
        "train_labels_indices = labels_to_indices(train_df['labels'], labels_to_index)\n",
        "val_labels_indices = labels_to_indices(val_df['labels'], labels_to_index)"
      ]
    },
    {
      "cell_type": "code",
      "execution_count": 17,
      "metadata": {
        "id": "9EUGYNjDaoIZ"
      },
      "outputs": [],
      "source": [
        "num_classes = len(labels_to_index)"
      ]
    },
    {
      "cell_type": "code",
      "execution_count": 18,
      "metadata": {
        "id": "xSiKDVakat9U"
      },
      "outputs": [],
      "source": [
        "# Model parameters\n",
        "input_dim = 512  # Size of the word vectors\n",
        "hidden_dim = 256  # RNN hidden state size\n",
        "output_dim = num_classes  # Number of output classes\n",
        "num_layers = 1  # Number of RNN layers\n",
        "\n",
        "model = RNNModel(input_dim, hidden_dim, output_dim, num_layers)\n",
        "loss_function = nn.CrossEntropyLoss()  # Suitable for classification tasks\n",
        "optimizer = optim.Adam(model.parameters())"
      ]
    },
    {
      "cell_type": "code",
      "execution_count": 19,
      "metadata": {
        "colab": {
          "base_uri": "https://localhost:8080/"
        },
        "id": "F33d1zPCaybW",
        "outputId": "8a2c5d7d-61df-4734-a0f4-6b331c3c36be"
      },
      "outputs": [
        {
          "name": "stderr",
          "output_type": "stream",
          "text": [
            "C:\\Users\\amilb\\AppData\\Local\\Temp\\ipykernel_17756\\2006426378.py:6: UserWarning: Creating a tensor from a list of numpy.ndarrays is extremely slow. Please consider converting the list to a single numpy.ndarray with numpy.array() before converting to a tensor. (Triggered internally at ..\\torch\\csrc\\utils\\tensor_new.cpp:248.)\n",
            "  vectors_tensor = torch.tensor(vectors, dtype=torch.float)\n"
          ]
        },
        {
          "name": "stdout",
          "output_type": "stream",
          "text": [
            "Epoch 1, Training Loss: 0.570741388792834, Validation Loss: 0.402441133593404, Training F1: 0.09113800385624192, Validation F1: 0.1311531841939163\n",
            "Epoch 2, Training Loss: 0.3788941381268265, Validation Loss: 0.34433361576047056, Training F1: 0.2038255498118536, Validation F1: 0.23813550782838966\n",
            "Epoch 3, Training Loss: 0.33374093947085465, Validation Loss: 0.3183351242265036, Training F1: 0.2670930578669078, Validation F1: 0.2841117993289238\n",
            "Epoch 4, Training Loss: 0.3091663871545437, Validation Loss: 0.3116344289724217, Training F1: 0.30507928929127187, Validation F1: 0.3086943597074662\n",
            "Epoch 5, Training Loss: 0.3007956693364569, Validation Loss: 0.29053894066533376, Training F1: 0.324674864949475, Validation F1: 0.3395799530128827\n",
            "Epoch 6, Training Loss: 0.28042662180652306, Validation Loss: 0.2766183174626772, Training F1: 0.3535569987027514, Validation F1: 0.3412767877359063\n",
            "Epoch 7, Training Loss: 0.2705743112716793, Validation Loss: 0.2768556000881417, Training F1: 0.36460566234426084, Validation F1: 0.34994770672195713\n",
            "Epoch 8, Training Loss: 0.26413293053542286, Validation Loss: 0.26091589102911394, Training F1: 0.38194094849466076, Validation F1: 0.3958108143793969\n",
            "Epoch 9, Training Loss: 0.25516094291998337, Validation Loss: 0.2643017820840658, Training F1: 0.3962740290529267, Validation F1: 0.38845431599610586\n",
            "Epoch 10, Training Loss: 0.2503049832976554, Validation Loss: 0.2554996252753014, Training F1: 0.4066113405139461, Validation F1: 0.42955384920319617\n"
          ]
        }
      ],
      "source": [
        "from sklearn.metrics import f1_score\n",
        "from torch.utils.data import DataLoader, TensorDataset\n",
        "\n",
        "# Updated create_dataset function to handle padded labels\n",
        "def create_dataset(vectors, labels_indices):\n",
        "    vectors_tensor = torch.tensor(vectors, dtype=torch.float)\n",
        "    labels_tensor = torch.tensor(labels_indices, dtype=torch.long)\n",
        "    dataset = TensorDataset(vectors_tensor, labels_tensor)\n",
        "    return DataLoader(dataset, batch_size=32, shuffle=True)\n",
        "\n",
        "# Creating DataLoaders for the training and validation sets\n",
        "train_loader = create_dataset(train_df['vectors'].tolist(), train_labels_indices_padded)\n",
        "val_loader = create_dataset(val_df['vectors'].tolist(), val_labels_indices_padded)\n",
        "\n",
        "# Tracking variables\n",
        "training_losses = []\n",
        "validation_losses = []\n",
        "training_f1_scores = []\n",
        "validation_f1_scores = []\n",
        "\n",
        "epochs = 10\n",
        "for epoch in range(epochs):\n",
        "    model.train()\n",
        "    train_losses = []\n",
        "    val_losses = []\n",
        "    train_preds, train_true = [], []\n",
        "    val_preds, val_true = [], []\n",
        "\n",
        "    # Training loop\n",
        "    for inputs, labels in train_loader:\n",
        "        optimizer.zero_grad()\n",
        "        outputs = model(inputs)\n",
        "        loss = loss_function(outputs.view(-1, num_classes), labels.view(-1))\n",
        "        loss.backward()\n",
        "        optimizer.step()\n",
        "\n",
        "        train_losses.append(loss.item())\n",
        "        _, predicted = torch.max(outputs.data, 2)\n",
        "        train_preds.extend(predicted.view(-1).numpy())\n",
        "        train_true.extend(labels.view(-1).numpy())\n",
        "\n",
        "    # Validation loop\n",
        "    model.eval()\n",
        "    with torch.no_grad():\n",
        "        for inputs, labels in val_loader:\n",
        "            outputs = model(inputs)\n",
        "            loss = loss_function(outputs.view(-1, num_classes), labels.view(-1))\n",
        "            val_losses.append(loss.item())\n",
        "            _, predicted = torch.max(outputs.data, 2)\n",
        "            val_preds.extend(predicted.view(-1).numpy())\n",
        "            val_true.extend(labels.view(-1).numpy())\n",
        "\n",
        "    # Calculate F1 scores\n",
        "    train_f1 = f1_score(train_true, train_preds, average='macro')\n",
        "    val_f1 = f1_score(val_true, val_preds, average='macro')\n",
        "\n",
        "    # Store metrics\n",
        "    training_losses.append(np.mean(train_losses))\n",
        "    validation_losses.append(np.mean(val_losses))\n",
        "    training_f1_scores.append(train_f1)\n",
        "    validation_f1_scores.append(val_f1)\n",
        "\n",
        "    print(f'Epoch {epoch+1}, Training Loss: {training_losses[-1]}, Validation Loss: {validation_losses[-1]}, Training F1: {training_f1_scores[-1]}, Validation F1: {validation_f1_scores[-1]}')"
      ]
    },
    {
      "cell_type": "code",
      "execution_count": 20,
      "metadata": {
        "colab": {
          "base_uri": "https://localhost:8080/",
          "height": 437
        },
        "id": "CISV7j10glgu",
        "outputId": "0d259bd9-483a-45f4-d807-9a112204ba60"
      },
      "outputs": [
        {
          "data": {
            "text/plain": [
              "Text(0, 0.5, 'Loss')"
            ]
          },
          "execution_count": 20,
          "metadata": {},
          "output_type": "execute_result"
        },
        {
          "data": {
            "image/png": "[encoded data removed]",
            "text/plain": [
              "<Figure size 1000x500 with 1 Axes>"
            ]
          },
          "metadata": {},
          "output_type": "display_data"
        }
      ],
      "source": [
        "import matplotlib.pyplot as plt\n",
        "\n",
        "# Loss plot\n",
        "plt.figure(figsize=(10, 5))\n",
        "plt.plot(training_losses, label='Training Loss')\n",
        "plt.plot(validation_losses, label='Validation Loss')\n",
        "plt.title('Loss vs. Epochs')\n",
        "plt.xlabel('Epochs')\n",
        "plt.ylabel('Loss')"
      ]
    }
  ],
  "metadata": {
    "colab": {
      "provenance": []
    },
    "kernelspec": {
      "display_name": "base",
      "language": "python",
      "name": "python3"
    },
    "language_info": {
      "codemirror_mode": {
        "name": "ipython",
        "version": 3
      },
      "file_extension": ".py",
      "mimetype": "text/x-python",
      "name": "python",
      "nbconvert_exporter": "python",
      "pygments_lexer": "ipython3",
      "version": "3.10.9"
    }
  },
  "nbformat": 4,
  "nbformat_minor": 0
}
