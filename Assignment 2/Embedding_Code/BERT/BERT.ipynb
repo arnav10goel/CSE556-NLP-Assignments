{
 "cells": [
  {
   "cell_type": "code",
   "execution_count": 11,
   "metadata": {},
   "outputs": [],
   "source": [
    "import pandas as pd\n",
    "import json\n",
    "import os\n",
    "import numpy as np\n",
    "import torch\n",
    "from transformers import AutoTokenizer, AutoModel"
   ]
  },
  {
   "cell_type": "code",
   "execution_count": 2,
   "metadata": {},
   "outputs": [
    {
     "data": {
      "application/vnd.jupyter.widget-view+json": {
       "model_id": "4bf08e5dfb534be49331f052690f8972",
       "version_major": 2,
       "version_minor": 0
      },
      "text/plain": [
       "Downloading tokenizer_config.json:   0%|          | 0.00/48.0 [00:00<?, ?B/s]"
      ]
     },
     "metadata": {},
     "output_type": "display_data"
    },
    {
     "name": "stderr",
     "output_type": "stream",
     "text": [
      "Some weights of the model checkpoint at bert-base-uncased were not used when initializing BertModel: ['cls.predictions.transform.LayerNorm.weight', 'cls.seq_relationship.bias', 'cls.predictions.bias', 'cls.predictions.transform.LayerNorm.bias', 'cls.predictions.transform.dense.bias', 'cls.seq_relationship.weight', 'cls.predictions.transform.dense.weight', 'cls.predictions.decoder.weight']\n",
      "- This IS expected if you are initializing BertModel from the checkpoint of a model trained on another task or with another architecture (e.g. initializing a BertForSequenceClassification model from a BertForPreTraining model).\n",
      "- This IS NOT expected if you are initializing BertModel from the checkpoint of a model that you expect to be exactly identical (initializing a BertForSequenceClassification model from a BertForSequenceClassification model).\n"
     ]
    }
   ],
   "source": [
    "model_name = \"bert-base-uncased\"  # Can change to a different BERT variant\n",
    "tokenizer = AutoTokenizer.from_pretrained(model_name)\n",
    "model = AutoModel.from_pretrained(model_name)"
   ]
  },
  {
   "cell_type": "code",
   "execution_count": 3,
   "metadata": {},
   "outputs": [],
   "source": [
    "# Function to extract BERT embeddings\n",
    "def get_bert_embeddings(texts):\n",
    "    inputs = tokenizer(texts, padding=True, truncation=True, return_tensors=\"pt\", max_length=512)\n",
    "    with torch.no_grad():\n",
    "        outputs = model(**inputs)\n",
    "    embeddings = outputs.last_hidden_state[:, 0, :].cpu().numpy() # Extract the [CLS] embeddings\n",
    "    \n",
    "    # Convert to tensor\n",
    "    embeddings = torch.tensor(embeddings)\n",
    "    return embeddings"
   ]
  },
  {
   "cell_type": "code",
   "execution_count": 12,
   "metadata": {},
   "outputs": [],
   "source": [
    "# Load the train, val and test data\n",
    "train_path = \"/Users/arnav/Desktop/MachineLearning/CSE556-NLP-Assignments/Assignment 2/Task1_Dataset_NER/NER_train.json\"\n",
    "val_path = \"/Users/arnav/Desktop/MachineLearning/CSE556-NLP-Assignments/Assignment 2/Task1_Dataset_NER/NER_val.json\"\n",
    "test_path = \"/Users/arnav/Desktop/MachineLearning/CSE556-NLP-Assignments/Assignment 2/Task1_Dataset_NER/NER_test.json\"\n",
    "\n",
    "# Function to load the data from the json file\n",
    "def load_from_json(file_path):\n",
    "    with open(file_path, \"r\") as file:\n",
    "        data = json.load(file)\n",
    "    return data\n",
    "\n",
    "train_dict = load_from_json(train_path)\n",
    "val_dict = load_from_json(val_path)\n",
    "test_dict = load_from_json(test_path)"
   ]
  },
  {
   "cell_type": "code",
   "execution_count": 18,
   "metadata": {},
   "outputs": [],
   "source": [
    "# Function to get the text and labels\n",
    "def get_text_labels(data_dict):\n",
    "    texts = []\n",
    "    labels = []\n",
    "    for _, dict in data_dict.items():\n",
    "        texts.append(dict[\"text\"])\n",
    "        labels.append(dict[\"labels\"])\n",
    "\n",
    "    return texts, labels\n",
    "\n",
    "train_texts, train_labels = get_text_labels(train_dict)\n",
    "val_texts, val_labels = get_text_labels(val_dict)\n",
    "test_texts, test_labels = get_text_labels(test_dict)"
   ]
  },
  {
   "cell_type": "code",
   "execution_count": 19,
   "metadata": {},
   "outputs": [
    {
     "ename": "",
     "evalue": "",
     "output_type": "error",
     "traceback": [
      "\u001b[1;31mThe Kernel crashed while executing code in the current cell or a previous cell. \n",
      "\u001b[1;31mPlease review the code in the cell(s) to identify a possible cause of the failure. \n",
      "\u001b[1;31mClick <a href='https://aka.ms/vscodeJupyterKernelCrash'>here</a> for more info. \n",
      "\u001b[1;31mView Jupyter <a href='command:jupyter.viewOutput'>log</a> for further details."
     ]
    }
   ],
   "source": [
    "# Get the BERT embeddings\n",
    "train_embeddings = get_bert_embeddings(train_texts)\n",
    "val_embeddings = get_bert_embeddings(val_texts)\n",
    "test_embeddings = get_bert_embeddings(test_texts)\n",
    "\n",
    "# Print the shape of the embeddings\n",
    "print(\"Train embeddings shape:\", train_embeddings.shape)\n",
    "print(\"Val embeddings shape:\", val_embeddings.shape)\n",
    "print(\"Test embeddings shape:\", test_embeddings.shape)"
   ]
  }
 ],
 "metadata": {
  "kernelspec": {
   "display_name": "Python 3",
   "language": "python",
   "name": "python3"
  },
  "language_info": {
   "codemirror_mode": {
    "name": "ipython",
    "version": 3
   },
   "file_extension": ".py",
   "mimetype": "text/x-python",
   "name": "python",
   "nbconvert_exporter": "python",
   "pygments_lexer": "ipython3",
   "version": "3.10.0"
  }
 },
 "nbformat": 4,
 "nbformat_minor": 2
}
