{
 "cells": [
  {
   "cell_type": "code",
   "execution_count": 15,
   "metadata": {},
   "outputs": [],
   "source": [
    "import numpy as np\n",
    "\n",
    "glove_file = 'glove.42B.300d.txt'\n",
    "word_vectors = {}\n",
    "\n",
    "with open(glove_file, 'r', encoding='utf-8') as f:\n",
    "    for line in f:\n",
    "        parts = line.split()\n",
    "        word = parts[0]\n",
    "        vector = np.array([float(val) for val in parts[1:]])\n",
    "        word_vectors[word] = vector"
   ]
  },
  {
   "cell_type": "code",
   "execution_count": 16,
   "metadata": {},
   "outputs": [],
   "source": [
    "def get_glove_embedding(sentence, word_vectors, dim=300):\n",
    "    words = sentence.split()\n",
    "    embedding = np.zeros((len(words), dim))\n",
    "\n",
    "    for i, word in enumerate(words):\n",
    "        if word in word_vectors:\n",
    "            embedding[i] = word_vectors[word]\n",
    "\n",
    "    return embedding\n"
   ]
  },
  {
   "cell_type": "code",
   "execution_count": 17,
   "metadata": {},
   "outputs": [
    {
     "data": {
      "text/plain": [
       "{'test_data_sample': {'03f3901e95ed493b866bd7807f623bc0': {'text': \"True, our Constitution has no 'due process' clause or the VIII Amendment; but, in this branch of law, after R.C. Cooper v. Union of India, (1970) 1 SCC 248 and Maneka Gandhi v. Union of India, (1978) 1 SCC 248, the consequence is the same.\",\n",
       "   'labels': ['O',\n",
       "    'O',\n",
       "    'B_STATUTE',\n",
       "    'I_STATUTE',\n",
       "    'O',\n",
       "    'O',\n",
       "    'O',\n",
       "    'O',\n",
       "    'O',\n",
       "    'O',\n",
       "    'O',\n",
       "    'O',\n",
       "    'O',\n",
       "    'O',\n",
       "    'O',\n",
       "    'O',\n",
       "    'O',\n",
       "    'O',\n",
       "    'O',\n",
       "    'B_PRECEDENT',\n",
       "    'I_PRECEDENT',\n",
       "    'I_PRECEDENT',\n",
       "    'I_PRECEDENT',\n",
       "    'I_PRECEDENT',\n",
       "    'I_PRECEDENT',\n",
       "    'I_PRECEDENT',\n",
       "    'I_PRECEDENT',\n",
       "    'I_PRECEDENT',\n",
       "    'I_PRECEDENT',\n",
       "    'I_PRECEDENT',\n",
       "    'B_PRECEDENT',\n",
       "    'I_PRECEDENT',\n",
       "    'I_PRECEDENT',\n",
       "    'I_PRECEDENT',\n",
       "    'I_PRECEDENT',\n",
       "    'I_PRECEDENT',\n",
       "    'I_PRECEDENT',\n",
       "    'I_PRECEDENT',\n",
       "    'I_PRECEDENT',\n",
       "    'I_PRECEDENT',\n",
       "    'O',\n",
       "    'O',\n",
       "    'O',\n",
       "    'O',\n",
       "    'O']},\n",
       "  'b0311cba3aac4d909eec6e156c059617': {'text': '(See Principles of Statutory Interpretation by Justice G.P. Singh, 9th Edn., 2004 at p. \\n\\n 438.).',\n",
       "   'labels': ['O',\n",
       "    'O',\n",
       "    'O',\n",
       "    'O',\n",
       "    'O',\n",
       "    'O',\n",
       "    'O',\n",
       "    'B_JUDGE',\n",
       "    'I_JUDGE',\n",
       "    'O',\n",
       "    'O',\n",
       "    'O',\n",
       "    'O',\n",
       "    'O',\n",
       "    'O',\n",
       "    'O']}},\n",
       " 'train_data_sample': {'b29019e16fc64e5da48f20706b152fae': {'text': 'Therefore, while interpreting statutory provisions, the courts should keep in mind the objectives or purpose for which statute has been enacted.',\n",
       "   'labels': ['O',\n",
       "    'O',\n",
       "    'O',\n",
       "    'O',\n",
       "    'O',\n",
       "    'O',\n",
       "    'O',\n",
       "    'O',\n",
       "    'O',\n",
       "    'O',\n",
       "    'O',\n",
       "    'O',\n",
       "    'O',\n",
       "    'O',\n",
       "    'O',\n",
       "    'O',\n",
       "    'O',\n",
       "    'O',\n",
       "    'O',\n",
       "    'O',\n",
       "    'O']},\n",
       "  'b8f6ac625fb9435db21c94644bf7784f': {'text': 'The petitioner in W.P.No.15821 of 2008 was never considered for appointment under the National Rural Employment Guarantee Scheme either through Employment Exchange sponsorship or by Outsourcing Agencies.',\n",
       "   'labels': ['O',\n",
       "    'O',\n",
       "    'O',\n",
       "    'B_CASE_NUMBER',\n",
       "    'I_CASE_NUMBER',\n",
       "    'I_CASE_NUMBER',\n",
       "    'I_CASE_NUMBER',\n",
       "    'O',\n",
       "    'O',\n",
       "    'O',\n",
       "    'O',\n",
       "    'O',\n",
       "    'O',\n",
       "    'B_ORG',\n",
       "    'I_ORG',\n",
       "    'I_ORG',\n",
       "    'I_ORG',\n",
       "    'I_ORG',\n",
       "    'I_ORG',\n",
       "    'O',\n",
       "    'O',\n",
       "    'O',\n",
       "    'O',\n",
       "    'O',\n",
       "    'O',\n",
       "    'O',\n",
       "    'O']}},\n",
       " 'val_data_sample': {'35a7bbe300734dffae0740ab00356e1d': {'text': 'Clause 18(1), (2) and (3)\\n(a) & (b) were transposed in Article 23 of the Draft Constitution of India.',\n",
       "   'labels': ['B_PROVISION',\n",
       "    'I_PROVISION',\n",
       "    'I_PROVISION',\n",
       "    'I_PROVISION',\n",
       "    'I_PROVISION',\n",
       "    'I_PROVISION',\n",
       "    'I_PROVISION',\n",
       "    'I_PROVISION',\n",
       "    'O',\n",
       "    'O',\n",
       "    'B_PROVISION',\n",
       "    'I_PROVISION',\n",
       "    'I_PROVISION',\n",
       "    'O',\n",
       "    'B_STATUTE',\n",
       "    'I_STATUTE',\n",
       "    'I_STATUTE',\n",
       "    'I_STATUTE']},\n",
       "  'b6d5aee6565043c799ece82bc2b05e43': {'text': 'The order cannot be said to be wrong when the only ground mentioned for impleading the Chief Minister as a party was to make it incumbent on him to file an affidavit, which he was not legally obliged to, if he was not a party.',\n",
       "   'labels': ['O',\n",
       "    'O',\n",
       "    'O',\n",
       "    'O',\n",
       "    'O',\n",
       "    'O',\n",
       "    'O',\n",
       "    'O',\n",
       "    'O',\n",
       "    'O',\n",
       "    'O',\n",
       "    'O',\n",
       "    'O',\n",
       "    'O',\n",
       "    'O',\n",
       "    'O',\n",
       "    'O',\n",
       "    'O',\n",
       "    'O',\n",
       "    'O',\n",
       "    'O',\n",
       "    'O',\n",
       "    'O',\n",
       "    'O',\n",
       "    'O',\n",
       "    'O',\n",
       "    'O',\n",
       "    'O',\n",
       "    'O',\n",
       "    'O',\n",
       "    'O',\n",
       "    'O',\n",
       "    'O',\n",
       "    'O',\n",
       "    'O',\n",
       "    'O',\n",
       "    'O',\n",
       "    'O',\n",
       "    'O',\n",
       "    'O',\n",
       "    'O',\n",
       "    'O',\n",
       "    'O',\n",
       "    'O',\n",
       "    'O']}}}"
      ]
     },
     "execution_count": 17,
     "metadata": {},
     "output_type": "execute_result"
    }
   ],
   "source": [
    "import json\n",
    "\n",
    "# Define a function to load data from a file\n",
    "def load_data(file_path):\n",
    "    with open(file_path, 'r') as file:\n",
    "        data = json.load(file)\n",
    "    return data\n",
    "\n",
    "# Load the data from the three files\n",
    "test_data_path = 'test_bio_labels.json'\n",
    "train_data_path = 'train_bio_labels.json'\n",
    "val_data_path = 'val_bio_labels.json'\n",
    "\n",
    "test_data = load_data(test_data_path)\n",
    "train_data = load_data(train_data_path)\n",
    "val_data = load_data(val_data_path)\n",
    "# Adjusting approach to properly display the data structure and a sample\n",
    "\n",
    "# Function to safely extract samples from data which might be a dictionary or list\n",
    "def get_sample(data):\n",
    "    if isinstance(data, dict):\n",
    "        # If the data is a dictionary, return a part of it\n",
    "        return {k: data[k] for k in list(data)[:2]}\n",
    "    elif isinstance(data, list):\n",
    "        # If the data is a list, return the first two elements\n",
    "        return data[:2]\n",
    "    else:\n",
    "        return \"Unsupported data type\"\n",
    "\n",
    "# Get samples from each dataset\n",
    "test_data_sample = get_sample(test_data)\n",
    "train_data_sample = get_sample(train_data)\n",
    "val_data_sample = get_sample(val_data)\n",
    "\n",
    "{\n",
    "    \"test_data_sample\": test_data_sample,\n",
    "    \"train_data_sample\": train_data_sample,\n",
    "    \"val_data_sample\": val_data_sample,\n",
    "}"
   ]
  },
  {
   "cell_type": "code",
   "execution_count": 18,
   "metadata": {},
   "outputs": [
    {
     "data": {
      "text/html": [
       "<div>\n",
       "<style scoped>\n",
       "    .dataframe tbody tr th:only-of-type {\n",
       "        vertical-align: middle;\n",
       "    }\n",
       "\n",
       "    .dataframe tbody tr th {\n",
       "        vertical-align: top;\n",
       "    }\n",
       "\n",
       "    .dataframe thead th {\n",
       "        text-align: right;\n",
       "    }\n",
       "</style>\n",
       "<table border=\"1\" class=\"dataframe\">\n",
       "  <thead>\n",
       "    <tr style=\"text-align: right;\">\n",
       "      <th></th>\n",
       "      <th>text</th>\n",
       "      <th>labels</th>\n",
       "    </tr>\n",
       "  </thead>\n",
       "  <tbody>\n",
       "    <tr>\n",
       "      <th>0</th>\n",
       "      <td>Therefore, while interpreting statutory provis...</td>\n",
       "      <td>[O, O, O, O, O, O, O, O, O, O, O, O, O, O, O, ...</td>\n",
       "    </tr>\n",
       "    <tr>\n",
       "      <th>1</th>\n",
       "      <td>The petitioner in W.P.No.15821 of 2008 was nev...</td>\n",
       "      <td>[O, O, O, B_CASE_NUMBER, I_CASE_NUMBER, I_CASE...</td>\n",
       "    </tr>\n",
       "    <tr>\n",
       "      <th>2</th>\n",
       "      <td>The factum of accident, allegation of rash and...</td>\n",
       "      <td>[O, O, O, O, O, O, O, O, O, O, O, O, O, B_OTHE...</td>\n",
       "    </tr>\n",
       "    <tr>\n",
       "      <th>3</th>\n",
       "      <td>..36.. \\n\\n W.A.No.655/2012 &amp; others Meaning t...</td>\n",
       "      <td>[O, O, B_CASE_NUMBER, I_CASE_NUMBER, O, O, O, ...</td>\n",
       "    </tr>\n",
       "    <tr>\n",
       "      <th>4</th>\n",
       "      <td>The law on this issue is well settled and the ...</td>\n",
       "      <td>[O, O, O, O, O, O, O, O, O, O, O, O, O, O, O, ...</td>\n",
       "    </tr>\n",
       "  </tbody>\n",
       "</table>\n",
       "</div>"
      ],
      "text/plain": [
       "                                                text  \\\n",
       "0  Therefore, while interpreting statutory provis...   \n",
       "1  The petitioner in W.P.No.15821 of 2008 was nev...   \n",
       "2  The factum of accident, allegation of rash and...   \n",
       "3  ..36.. \\n\\n W.A.No.655/2012 & others Meaning t...   \n",
       "4  The law on this issue is well settled and the ...   \n",
       "\n",
       "                                              labels  \n",
       "0  [O, O, O, O, O, O, O, O, O, O, O, O, O, O, O, ...  \n",
       "1  [O, O, O, B_CASE_NUMBER, I_CASE_NUMBER, I_CASE...  \n",
       "2  [O, O, O, O, O, O, O, O, O, O, O, O, O, B_OTHE...  \n",
       "3  [O, O, B_CASE_NUMBER, I_CASE_NUMBER, O, O, O, ...  \n",
       "4  [O, O, O, O, O, O, O, O, O, O, O, O, O, O, O, ...  "
      ]
     },
     "execution_count": 18,
     "metadata": {},
     "output_type": "execute_result"
    }
   ],
   "source": [
    "import pandas as pd\n",
    "\n",
    "\n",
    "# Convert dictionary data to DataFrame\n",
    "train_df = pd.DataFrame.from_dict(train_data, orient='index').reset_index(drop=True)\n",
    "test_df = pd.DataFrame.from_dict(test_data, orient='index').reset_index(drop=True)\n",
    "val_df = pd.DataFrame.from_dict(val_data, orient='index').reset_index(drop=True)\n",
    "\n",
    "# Display a sample from the train DataFrame to check preprocessing\n",
    "train_df.head()"
   ]
  },
  {
   "cell_type": "code",
   "execution_count": 19,
   "metadata": {},
   "outputs": [],
   "source": [
    "# converting 'text' column in dataframe to respective glove embeddings\n",
    "train_df['glove_embedding'] = train_df['text'].apply(lambda x: get_glove_embedding(x, word_vectors))\n",
    "test_df['glove_embedding'] = test_df['text'].apply(lambda x: get_glove_embedding(x, word_vectors))\n",
    "val_df['glove_embedding'] = val_df['text'].apply(lambda x: get_glove_embedding(x, word_vectors))"
   ]
  },
  {
   "cell_type": "code",
   "execution_count": 24,
   "metadata": {},
   "outputs": [
    {
     "name": "stdout",
     "output_type": "stream",
     "text": [
      "18\n",
      "300\n"
     ]
    }
   ],
   "source": [
    "#print the length of text of first instance in train_df\n",
    "print(len(train_df['text'][2].split()))\n",
    "print(len(train_df['glove_embedding'][2][0]))"
   ]
  },
  {
   "cell_type": "code",
   "execution_count": 21,
   "metadata": {},
   "outputs": [
    {
     "data": {
      "text/plain": [
       "True"
      ]
     },
     "execution_count": 21,
     "metadata": {},
     "output_type": "execute_result"
    }
   ],
   "source": [
    "#checking if the length of the vectors is the same as the length of the text for all instances\n",
    "train_df['len_text'] = train_df['text'].apply(lambda x: len(x.split()))\n",
    "train_df['len_vectors'] = train_df['glove_embedding'].apply(lambda x: len(x))\n",
    "train_df['len_text'].equals(train_df['len_vectors'])"
   ]
  },
  {
   "cell_type": "code",
   "execution_count": 22,
   "metadata": {},
   "outputs": [],
   "source": [
    "#remove the columns\n",
    "train_df = train_df.drop(columns=['len_text', 'len_vectors'])"
   ]
  },
  {
   "cell_type": "code",
   "execution_count": 29,
   "metadata": {},
   "outputs": [],
   "source": [
    "# pad the vectors to have the same length\n",
    "def pad_vectors(vectors, target_length=50):\n",
    "    # Ensure vectors is treated as a list\n",
    "    if isinstance(vectors, np.ndarray):\n",
    "        vectors = vectors.tolist()\n",
    "    \n",
    "    current_length = len(vectors)\n",
    "\n",
    "    if current_length < target_length:\n",
    "        num_to_add = target_length - current_length\n",
    "        vectors.extend([np.zeros(300).tolist() for _ in range(num_to_add)])  # Convert numpy arrays to lists for uniformity\n",
    "    elif current_length > target_length:\n",
    "        vectors = vectors[:target_length]\n",
    "\n",
    "    return vectors\n",
    "\n",
    "# Pad the vectors in the train, test, and val DataFrames\n",
    "train_df['glove_embedding'] = train_df['glove_embedding'].apply(lambda x: pad_vectors(x, target_length=50))\n",
    "test_df['glove_embedding'] = test_df['glove_embedding'].apply(lambda x: pad_vectors(x, target_length=50))\n",
    "val_df['glove_embedding'] = val_df['glove_embedding'].apply(lambda x: pad_vectors(x, target_length=50))"
   ]
  },
  {
   "cell_type": "code",
   "execution_count": 31,
   "metadata": {},
   "outputs": [
    {
     "name": "stdout",
     "output_type": "stream",
     "text": [
      "18\n",
      "50\n"
     ]
    }
   ],
   "source": [
    "#print the length of text of first instance in train_df\n",
    "print(len(train_df['text'][2].split()))\n",
    "print(len(train_df['glove_embedding'][2]))"
   ]
  },
  {
   "cell_type": "code",
   "execution_count": 32,
   "metadata": {},
   "outputs": [],
   "source": [
    "#get all the unique labels\n",
    "unique_labels = set()\n",
    "for labels in train_df['labels']:\n",
    "    unique_labels.update(labels)"
   ]
  },
  {
   "cell_type": "code",
   "execution_count": 33,
   "metadata": {},
   "outputs": [
    {
     "name": "stdout",
     "output_type": "stream",
     "text": [
      "27\n"
     ]
    }
   ],
   "source": [
    "print(len(unique_labels))"
   ]
  },
  {
   "cell_type": "code",
   "execution_count": 34,
   "metadata": {},
   "outputs": [],
   "source": [
    "#padding the labels as well\n",
    "def pad_labels(labels, target_length=50):\n",
    "    # Get the current length of the labels\n",
    "    current_length = len(labels)\n",
    "\n",
    "    # If the current length is less than the target length, pad the labels\n",
    "    if current_length < target_length:\n",
    "        # Calculate the number of labels to be added\n",
    "        num_to_add = target_length - current_length\n",
    "\n",
    "        # Add the labels\n",
    "        labels += ['O' for _ in range(num_to_add)]\n",
    "\n",
    "    # if the current length is greater than the target length, slice the labels\n",
    "    elif current_length > target_length:\n",
    "        labels = labels[:target_length]\n",
    "\n",
    "    return labels"
   ]
  },
  {
   "cell_type": "code",
   "execution_count": 35,
   "metadata": {},
   "outputs": [
    {
     "name": "stdout",
     "output_type": "stream",
     "text": [
      "{'B_PRECEDENT': 0, 'I_CASE_NUMBER': 1, 'B_ORG': 2, 'B_CASE_NUMBER': 3, 'I_COURT': 4, 'B_PROVISION': 5, 'B_WITNESS': 6, 'O': 7, 'B_JUDGE': 8, 'B_PETITIONER': 9, 'I_RESPONDENT': 10, 'I_PETITIONER': 11, 'B_OTHER_PERSON': 12, 'I_PRECEDENT': 13, 'I_STATUTE': 14, 'I_PROVISION': 15, 'I_WITNESS': 16, 'B_STATUTE': 17, 'B_DATE': 18, 'B_GPE': 19, 'I_GPE': 20, 'I_OTHER_PERSON': 21, 'I_JUDGE': 22, 'B_COURT': 23, 'I_DATE': 24, 'I_ORG': 25, 'B_RESPONDENT': 26}\n"
     ]
    }
   ],
   "source": [
    "#giving all labels index\n",
    "labels_to_index = {label: index for index, label in enumerate(unique_labels)}\n",
    "print(labels_to_index)"
   ]
  },
  {
   "cell_type": "code",
   "execution_count": 36,
   "metadata": {},
   "outputs": [],
   "source": [
    "# Function to convert labels to indices\n",
    "def labels_to_indices(labels, label_to_index):\n",
    "    return [[label_to_index[label] for label in sentence_labels] for sentence_labels in labels]\n"
   ]
  },
  {
   "cell_type": "code",
   "execution_count": 37,
   "metadata": {},
   "outputs": [],
   "source": [
    "# Padding the labels using the provided function\n",
    "def pad_all_labels(label_sequences, target_length=50):\n",
    "    return [pad_labels(labels, target_length) for labels in label_sequences]\n",
    "\n",
    "# Applying the padding function to train, validation, and test label sequences\n",
    "train_labels_padded = pad_all_labels(train_df['labels'], 50)\n",
    "val_labels_padded = pad_all_labels(val_df['labels'], 50)\n",
    "test_labels_padded = pad_all_labels(test_df['labels'], 50)\n",
    "\n",
    "# Convert label sequences to indices with padding applied\n",
    "train_labels_indices_padded = labels_to_indices(train_labels_padded, labels_to_index)\n",
    "val_labels_indices_padded = labels_to_indices(val_labels_padded, labels_to_index)\n",
    "test_labels_indices_padded = labels_to_indices(test_labels_padded, labels_to_index)"
   ]
  },
  {
   "cell_type": "code",
   "execution_count": 48,
   "metadata": {},
   "outputs": [],
   "source": [
    "import torch\n",
    "import torch.nn as nn\n",
    "import torch.optim as optim\n",
    "\n",
    "class RNNModel(nn.Module):\n",
    "    def __init__(self, input_dim, hidden_dim, output_dim, num_layers):\n",
    "        super(RNNModel, self).__init__()\n",
    "        self.rnn = nn.RNN(input_dim, hidden_dim, num_layers, batch_first=True)\n",
    "        self.fc = nn.Linear(hidden_dim, output_dim)\n",
    "\n",
    "    def forward(self, x):\n",
    "        out, _ = self.rnn(x)\n",
    "        out = self.fc(out)\n",
    "        return out"
   ]
  },
  {
   "cell_type": "code",
   "execution_count": 49,
   "metadata": {},
   "outputs": [],
   "source": [
    "num_classes = len(labels_to_index)\n",
    "# Model parameters\n",
    "input_dim = 300  # Size of the word vectors\n",
    "hidden_dim = 256  # RNN hidden state size\n",
    "output_dim = num_classes  # Number of output classes\n",
    "num_layers = 1  # Number of RNN layers\n",
    "\n",
    "model = RNNModel(input_dim, hidden_dim, output_dim, num_layers)\n",
    "loss_function = nn.CrossEntropyLoss()  # Suitable for classification tasks\n",
    "optimizer = optim.Adam(model.parameters())"
   ]
  },
  {
   "cell_type": "code",
   "execution_count": 50,
   "metadata": {},
   "outputs": [
    {
     "name": "stdout",
     "output_type": "stream",
     "text": [
      "Epoch 1, Training Loss: 0.6845991174297884, Validation Loss: 0.4862301224885985, Training F1: 0.0642986031150775, Validation F1: 0.11929405605238076, Training Accuracy: 0.8781, Validation Accuracy: 0.8960\n",
      "Epoch 2, Training Loss: 0.4160148646713288, Validation Loss: 0.3944427974002306, Training F1: 0.18767960284677104, Validation F1: 0.22702807696489055, Training Accuracy: 0.9035, Validation Accuracy: 0.9033\n",
      "Epoch 3, Training Loss: 0.35036251225993653, Validation Loss: 0.33952587946902874, Training F1: 0.2536768748313365, Validation F1: 0.25346704071124304, Training Accuracy: 0.9107, Validation Accuracy: 0.9133\n",
      "Epoch 4, Training Loss: 0.32374768975106155, Validation Loss: 0.34093532659286674, Training F1: 0.2881535205339861, Validation F1: 0.2936902714568858, Training Accuracy: 0.9141, Validation Accuracy: 0.9105\n",
      "Epoch 5, Training Loss: 0.3128951213453427, Validation Loss: 0.32672726137693536, Training F1: 0.3199653240969699, Validation F1: 0.3257012059155606, Training Accuracy: 0.9164, Validation Accuracy: 0.9137\n",
      "Epoch 6, Training Loss: 0.30540498032057584, Validation Loss: 0.3166427296954532, Training F1: 0.33364374280017395, Validation F1: 0.3458851371200865, Training Accuracy: 0.9176, Validation Accuracy: 0.9144\n",
      "Epoch 7, Training Loss: 0.29470633358255893, Validation Loss: 0.312891231373299, Training F1: 0.355868049189925, Validation F1: 0.34273331508906596, Training Accuracy: 0.9195, Validation Accuracy: 0.9170\n",
      "Epoch 8, Training Loss: 0.2840983047465648, Validation Loss: 0.3096557810556057, Training F1: 0.372250661018183, Validation F1: 0.3331419145880765, Training Accuracy: 0.9213, Validation Accuracy: 0.9162\n",
      "Epoch 9, Training Loss: 0.2772302214394916, Validation Loss: 0.3189766122851261, Training F1: 0.390549684528003, Validation F1: 0.35330959015713925, Training Accuracy: 0.9231, Validation Accuracy: 0.9151\n",
      "Epoch 10, Training Loss: 0.2750061549061586, Validation Loss: 0.30440419427184173, Training F1: 0.39277166922087886, Validation F1: 0.3709468852165169, Training Accuracy: 0.9227, Validation Accuracy: 0.9176\n"
     ]
    }
   ],
   "source": [
    "from sklearn.metrics import f1_score\n",
    "from torch.utils.data import DataLoader, TensorDataset\n",
    "\n",
    "# Updated create_dataset function to handle padded labels\n",
    "def create_dataset(vectors, labels_indices):\n",
    "    vectors_tensor = torch.tensor(vectors, dtype=torch.float)\n",
    "    labels_tensor = torch.tensor(labels_indices, dtype=torch.long)\n",
    "    dataset = TensorDataset(vectors_tensor, labels_tensor)\n",
    "    return DataLoader(dataset, batch_size=32, shuffle=True)\n",
    "\n",
    "# Creating DataLoaders for the training and validation sets\n",
    "train_loader = create_dataset(train_df['glove_embedding'].tolist(), train_labels_indices_padded)\n",
    "val_loader = create_dataset(val_df['glove_embedding'].tolist(), val_labels_indices_padded)\n",
    "\n",
    "# Tracking variables\n",
    "training_losses = []\n",
    "validation_losses = []\n",
    "training_f1_scores = []\n",
    "validation_f1_scores = []\n",
    "def calculate_accuracy(true_labels, predicted_labels):\n",
    "    correct = (true_labels == predicted_labels).sum()\n",
    "    total = len(true_labels)\n",
    "    accuracy = correct / total\n",
    "    return accuracy\n",
    "\n",
    "epochs = 10\n",
    "for epoch in range(epochs):\n",
    "    model.train()\n",
    "    train_losses, val_losses = [], []\n",
    "    train_preds, train_true = [], []\n",
    "    val_preds, val_true = [], []\n",
    "\n",
    "    # Training loop\n",
    "    for inputs, labels in train_loader:\n",
    "        optimizer.zero_grad()\n",
    "        outputs = model(inputs)\n",
    "        loss = loss_function(outputs.view(-1, num_classes), labels.view(-1))\n",
    "        loss.backward()\n",
    "        optimizer.step()\n",
    "\n",
    "        train_losses.append(loss.item())\n",
    "        _, predicted = torch.max(outputs.data, 2)\n",
    "        train_preds.extend(predicted.view(-1).cpu().numpy())\n",
    "        train_true.extend(labels.view(-1).cpu().numpy())\n",
    "\n",
    "    # Validation loop\n",
    "    model.eval()\n",
    "    with torch.no_grad():\n",
    "        for inputs, labels in val_loader:\n",
    "            outputs = model(inputs)\n",
    "            loss = loss_function(outputs.view(-1, num_classes), labels.view(-1))\n",
    "            val_losses.append(loss.item())\n",
    "            _, predicted = torch.max(outputs.data, 2)\n",
    "            val_preds.extend(predicted.view(-1).cpu().numpy())\n",
    "            val_true.extend(labels.view(-1).cpu().numpy())\n",
    "\n",
    "    # Calculate metrics\n",
    "    train_f1 = f1_score(train_true, train_preds, average='macro')\n",
    "    val_f1 = f1_score(val_true, val_preds, average='macro')\n",
    "    train_accuracy = calculate_accuracy(np.array(train_true), np.array(train_preds))\n",
    "    val_accuracy = calculate_accuracy(np.array(val_true), np.array(val_preds))\n",
    "\n",
    "    # Store metrics\n",
    "    training_losses.append(np.mean(train_losses))\n",
    "    validation_losses.append(np.mean(val_losses))\n",
    "    training_f1_scores.append(train_f1)\n",
    "    validation_f1_scores.append(val_f1)\n",
    "\n",
    "    print(f'Epoch {epoch+1}, Training Loss: {training_losses[-1]}, Validation Loss: {validation_losses[-1]}, '\n",
    "          f'Training F1: {training_f1_scores[-1]}, Validation F1: {validation_f1_scores[-1]}, '\n",
    "          f'Training Accuracy: {train_accuracy:.4f}, Validation Accuracy: {val_accuracy:.4f}')\n"
   ]
  },
  {
   "cell_type": "code",
   "execution_count": 51,
   "metadata": {},
   "outputs": [
    {
     "name": "stdout",
     "output_type": "stream",
     "text": [
      "Test F1 Score: 0.3730089585162347\n"
     ]
    }
   ],
   "source": [
    "test_loader = create_dataset(test_df['glove_embedding'].tolist(), test_labels_indices_padded)\n",
    "\n",
    "# Initialize lists to store predictions and actual values\n",
    "test_preds, test_true = [], []\n",
    "\n",
    "# Switch model to evaluation mode\n",
    "model.eval()\n",
    "\n",
    "with torch.no_grad():  # Do not compute gradients\n",
    "    for inputs, labels in test_loader:\n",
    "        outputs = model(inputs)\n",
    "        _, predicted = torch.max(outputs.data, 2)  # Get the predicted classes\n",
    "        \n",
    "        test_preds.extend(predicted.view(-1).numpy())  # Flatten and store predictions\n",
    "        test_true.extend(labels.view(-1).numpy())  # Flatten and store true labels\n",
    "\n",
    "# Calculate the F1 score for the test set\n",
    "test_f1 = f1_score(test_true, test_preds, average='macro')\n",
    "\n",
    "print(f'Test F1 Score: {test_f1}')"
   ]
  },
  {
   "cell_type": "code",
   "execution_count": 52,
   "metadata": {},
   "outputs": [
    {
     "data": {
      "text/plain": [
       "Text(0, 0.5, 'Loss')"
      ]
     },
     "execution_count": 52,
     "metadata": {},
     "output_type": "execute_result"
    },
    {
     "data": {
      "image/png": "[encoded data removed]",
      "text/plain": [
       "<Figure size 1000x500 with 1 Axes>"
      ]
     },
     "metadata": {},
     "output_type": "display_data"
    }
   ],
   "source": [
    "import matplotlib.pyplot as plt\n",
    "\n",
    "# Loss plot\n",
    "plt.figure(figsize=(10, 5))\n",
    "plt.plot(training_losses, label='Training Loss')\n",
    "plt.plot(validation_losses, label='Validation Loss')\n",
    "plt.title('Loss vs. Epochs')\n",
    "plt.xlabel('Epochs')\n",
    "plt.ylabel('Loss')"
   ]
  }
 ],
 "metadata": {
  "kernelspec": {
   "display_name": "base",
   "language": "python",
   "name": "python3"
  },
  "language_info": {
   "codemirror_mode": {
    "name": "ipython",
    "version": 3
   },
   "file_extension": ".py",
   "mimetype": "text/x-python",
   "name": "python",
   "nbconvert_exporter": "python",
   "pygments_lexer": "ipython3",
   "version": "3.10.9"
  }
 },
 "nbformat": 4,
 "nbformat_minor": 2
}
